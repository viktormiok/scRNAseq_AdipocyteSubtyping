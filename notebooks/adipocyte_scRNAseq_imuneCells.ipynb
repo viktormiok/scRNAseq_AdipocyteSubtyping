{
 "cells": [
  {
   "cell_type": "markdown",
   "metadata": {},
   "source": [
    "# Analysis of the scRNA-seq immune cells from adipocyte tissue"
   ]
  },
  {
   "cell_type": "markdown",
   "metadata": {},
   "source": [
    "## Table of contents:\n",
    "\n",
    "* <a href=#Load>Load Packages and Set Global Variables</a>\n",
    "    * <a href=#Imports>Imports and Settings</a>\n",
    "    * <a href=#Global>Global Variables</a> \n",
    "* <a href=#Dataloading>Loading Data, Quality Control and Preprocessing</a>\n",
    "    * <a href=#Counts>Gene numbers and counts with and without mitochondrial RNA</a>\n",
    "* <a href=#Allcells>All cells - normalization, projection and clustering</a>\n",
    "* <a href=#Define>Define Cell Types</a>\n",
    "* <a href=#astrocytes>Astrocytes Only</a>\n",
    "    * <a href=#Embedding>Embeddings and Clustering</a>\n",
    "    * <a href=#adipmarkers>Astrocyte Marker Analysis</a>\n",
    "    * <a href=#topde>Top ranking DE Genes</a>\n",
    "    * <a href=#count_dist>Count distribution for Gfap, Aldh1l1 and Slc1a3</a>\n",
    "* <a href=#traject>Gfap and Aldh1l1 only</a>"
   ]
  },
  {
   "cell_type": "markdown",
   "metadata": {},
   "source": [
    "# Load Packages and Set Global Variables"
   ]
  },
  {
   "cell_type": "markdown",
   "metadata": {},
   "source": [
    "<a id=\"imports\"></a>"
   ]
  },
  {
   "cell_type": "markdown",
   "metadata": {},
   "source": [
    "## Imports and Settings"
   ]
  },
  {
   "cell_type": "code",
   "execution_count": 1,
   "metadata": {},
   "outputs": [
    {
     "name": "stderr",
     "output_type": "stream",
     "text": [
      "WARNING: If you miss a compact list, please try `print_header`!\n"
     ]
    },
    {
     "name": "stdout",
     "output_type": "stream",
     "text": [
      "-----\n",
      "anndata     0.7.5\n",
      "scanpy      1.7.1\n",
      "sinfo       0.3.1\n",
      "-----\n",
      "PIL                 8.1.2\n",
      "PyObjCTools         NA\n",
      "anndata             0.7.5\n",
      "appdirs             1.4.4\n",
      "appnope             0.1.2\n",
      "autoreload          NA\n",
      "backcall            0.2.0\n",
      "batchglm            v0.7.4\n",
      "bioservices         1.7.11\n",
      "bs4                 4.9.3\n",
      "certifi             2020.12.05\n",
      "cffi                1.14.5\n",
      "chardet             4.0.0\n",
      "cloudpickle         1.6.0\n",
      "colorama            0.4.4\n",
      "colorlog            NA\n",
      "custom_functions    NA\n",
      "cycler              0.10.0\n",
      "cython_runtime      NA\n",
      "dask                2021.03.0\n",
      "dateutil            2.8.1\n",
      "decorator           4.4.2\n",
      "diffxpy             v0.7.4\n",
      "docutils            0.16\n",
      "easydev             0.11.0\n",
      "get_version         2.1\n",
      "gprofiler           1.0.0\n",
      "gseapy              0.10.4\n",
      "h5py                3.2.1\n",
      "idna                2.10\n",
      "igraph              0.9.0\n",
      "ipykernel           5.4.3\n",
      "ipython_genutils    0.2.0\n",
      "ipywidgets          7.6.3\n",
      "jedi                0.17.2\n",
      "joblib              1.0.1\n",
      "kiwisolver          1.3.1\n",
      "legacy_api_wrap     1.2\n",
      "leidenalg           0.8.3\n",
      "littleutils         NA\n",
      "llvmlite            0.36.0\n",
      "lxml                4.6.3\n",
      "matplotlib          3.3.4\n",
      "matplotlib_venn     0.11.6\n",
      "mpl_toolkits        NA\n",
      "natsort             7.1.1\n",
      "numba               0.53.1\n",
      "numexpr             2.7.3\n",
      "numpy               1.20.1\n",
      "outdated            0.2.1\n",
      "packaging           20.9\n",
      "pandas              1.2.3\n",
      "pandas_flavor       NA\n",
      "parso               0.7.0\n",
      "patsy               0.5.1\n",
      "pexpect             4.8.0\n",
      "pickleshare         0.7.5\n",
      "pingouin            0.3.12\n",
      "pkg_resources       NA\n",
      "prompt_toolkit      3.0.14\n",
      "psutil              5.8.0\n",
      "ptyprocess          0.7.0\n",
      "pyexpat             NA\n",
      "pygments            2.7.4\n",
      "pylab               NA\n",
      "pyparsing           2.4.7\n",
      "pytz                2021.1\n",
      "requests            2.25.1\n",
      "requests_cache      0.5.2\n",
      "scanpy              1.7.1\n",
      "scipy               1.6.1\n",
      "scvelo              0.2.3\n",
      "seaborn             0.11.1\n",
      "sinfo               0.3.1\n",
      "six                 1.15.0\n",
      "sklearn             0.24.1\n",
      "soupsieve           2.2.1\n",
      "sparse              0.12.0\n",
      "sphinxcontrib       NA\n",
      "statsmodels         0.12.2\n",
      "storemagic          NA\n",
      "tables              3.6.1\n",
      "tabulate            0.8.9\n",
      "texttable           1.6.3\n",
      "tlz                 0.11.1\n",
      "toolz               0.11.1\n",
      "tornado             6.1\n",
      "traitlets           5.0.5\n",
      "typing_extensions   NA\n",
      "urllib3             1.26.3\n",
      "wcwidth             0.2.5\n",
      "wrapt               1.12.1\n",
      "xarray              0.18.2\n",
      "yaml                5.4.1\n",
      "zmq                 22.0.2\n",
      "zope                NA\n",
      "-----\n",
      "IPython             7.20.0\n",
      "jupyter_client      6.1.11\n",
      "jupyter_core        4.7.1\n",
      "notebook            6.2.0\n",
      "-----\n",
      "Python 3.9.2 (v3.9.2:1a79785e3e, Feb 19 2021, 09:06:10) [Clang 6.0 (clang-600.0.57)]\n",
      "macOS-10.16-x86_64-i386-64bit\n",
      "12 logical CPU cores, i386\n",
      "-----\n",
      "Session information updated at 2022-03-15 11:44\n",
      "\n",
      "3.9.2 (v3.9.2:1a79785e3e, Feb 19 2021, 09:06:10) \n",
      "[Clang 6.0 (clang-600.0.57)]\n"
     ]
    }
   ],
   "source": [
    "import numpy as np\n",
    "import scanpy as sc\n",
    "import scipy as sci\n",
    "import scipy.sparse\n",
    "import pandas as pd\n",
    "import seaborn as sb\n",
    "import scvelo as scv\n",
    "import matplotlib as mpl\n",
    "import matplotlib.pyplot as plt\n",
    "from matplotlib import colors\n",
    "from gprofiler import GProfiler\n",
    "import custom_functions as cf\n",
    "from matplotlib_venn import venn3_unweighted\n",
    "from scipy import stats\n",
    "import pingouin as pg\n",
    "import matplotlib_venn\n",
    "import statistics\n",
    "import gseapy\n",
    "import sys\n",
    "import re\n",
    "import os\n",
    "\n",
    "import batchglm\n",
    "import diffxpy.api as de\n",
    "\n",
    "import warnings\n",
    "warnings.filterwarnings('ignore')\n",
    "\n",
    "%load_ext autoreload\n",
    "%autoreload 2\n",
    "sc.settings.verbosity=3 # amount of output\n",
    "\n",
    "base_dir='/Users/viktorian.miok/Documents/consultation/Xiaocheng/'\n",
    "dat_start='/Users/viktorian.miok/Documents/consultation/Altun-Ussar/data/'\n",
    "dat_end='/count_matrices/filtered_gene_bc_matrices/mm10_ensrel94/'\n",
    "dir_out='/Users/viktorian.miok/Documents/consultation/Xiaocheng/results/'\n",
    "dir_tables=dir_out+'tables/'\n",
    "sc_settings_figdir=dir_out+'figures/'\n",
    "sc_settings_writedir=dir_out+'anndata/'\n",
    "sc.logging.print_versions()\n",
    "os.chdir(dir_out)\n",
    "sc.settings.set_figure_params(dpi=80, scanpy=True)\n",
    "print (sys.version)"
   ]
  },
  {
   "cell_type": "code",
   "execution_count": 2,
   "metadata": {},
   "outputs": [],
   "source": [
    "#Define a nice colour map for gene expression\n",
    "colors2=plt.cm.Reds(np.linspace(0, 1, 128))\n",
    "colors3=plt.cm.Greys_r(np.linspace(0.7,0.8,20))\n",
    "colorsComb=np.vstack([colors3, colors2])\n",
    "mymap=colors.LinearSegmentedColormap.from_list('my_colormap', colorsComb)\n",
    "sc.set_figure_params(scanpy=True, fontsize=17)"
   ]
  },
  {
   "cell_type": "markdown",
   "metadata": {},
   "source": [
    "## Global Variables"
   ]
  },
  {
   "cell_type": "markdown",
   "metadata": {},
   "source": [
    "All embeddings and clusterings can be saved and loaded into this script. Be carful with overwriting cluster caches as soon as cell type annotation has started as cluster labels may be shuffled."
   ]
  },
  {
   "cell_type": "markdown",
   "metadata": {},
   "source": [
    "Set whether anndata objects are recomputed or loaded from cache."
   ]
  },
  {
   "cell_type": "code",
   "execution_count": 3,
   "metadata": {},
   "outputs": [],
   "source": [
    "bool_recomp=False"
   ]
  },
  {
   "cell_type": "markdown",
   "metadata": {},
   "source": [
    "Set whether clustering is recomputed or loaded from saved .obs file. Loading makes sense if the clustering changes due to a change in scanpy or one of its dependencies and the number of clusters or the cluster labels change accordingly."
   ]
  },
  {
   "cell_type": "code",
   "execution_count": 4,
   "metadata": {},
   "outputs": [],
   "source": [
    "bool_recluster=False"
   ]
  },
  {
   "cell_type": "markdown",
   "metadata": {},
   "source": [
    "Set whether cluster cache is overwritten. Note that the cache exists for reproducibility of clustering, see above."
   ]
  },
  {
   "cell_type": "code",
   "execution_count": 5,
   "metadata": {},
   "outputs": [],
   "source": [
    "bool_write_cluster_cache=False"
   ]
  },
  {
   "cell_type": "markdown",
   "metadata": {},
   "source": [
    "Set whether to produce plots, set to False for test runs."
   ]
  },
  {
   "cell_type": "code",
   "execution_count": 6,
   "metadata": {},
   "outputs": [],
   "source": [
    "bool_plot=False"
   ]
  },
  {
   "cell_type": "markdown",
   "metadata": {},
   "source": [
    "Set whether to produce only curently interesting plots for ploting"
   ]
  },
  {
   "cell_type": "code",
   "execution_count": 7,
   "metadata": {},
   "outputs": [],
   "source": [
    "bool_plot_current=True"
   ]
  },
  {
   "cell_type": "markdown",
   "metadata": {},
   "source": [
    "Set whether observations should be calculated. If false, it is necessary to read cacheed file that contains the necssary information. It then shows the the distributions of counts and genes, as well as mt_frac after filtering. \n",
    "Set to true in order to see the data before filtering and follow the decisions for cutoffs."
   ]
  },
  {
   "cell_type": "code",
   "execution_count": 8,
   "metadata": {},
   "outputs": [],
   "source": [
    "bool_create_observations=True"
   ]
  },
  {
   "cell_type": "markdown",
   "metadata": {},
   "source": [
    "<a id=\"Dataloading\"></a>"
   ]
  },
  {
   "cell_type": "markdown",
   "metadata": {},
   "source": [
    "# Loading Data, Quality Control and Preprocessing"
   ]
  },
  {
   "cell_type": "markdown",
   "metadata": {},
   "source": [
    "Read the data in:"
   ]
  },
  {
   "cell_type": "code",
   "execution_count": 9,
   "metadata": {},
   "outputs": [],
   "source": [
    "if bool_recomp:\n",
    "    adata87  = sc.read_10x_mtx(path=dat_start+'MUC8387'+dat_end, \n",
    "                               var_names='gene_symbols',\n",
    "                               cache=True\n",
    "    )  \n",
    "    adata88 = sc.read_10x_mtx(path=dat_start+'MUC8388'+dat_end,\n",
    "                              var_names='gene_symbols',\n",
    "                              cache=True\n",
    "    )  \n",
    "    adata89 = sc.read_10x_mtx(path=dat_start+'MUC8389'+dat_end,\n",
    "                              var_names='gene_symbols',\n",
    "                              cache=True\n",
    "    )  \n",
    "    adata90 = sc.read_10x_mtx(path=dat_start+'MUC8390'+dat_end,\n",
    "                              var_names='gene_symbols',\n",
    "                              cache=True\n",
    "    )  \n",
    "    adataY = sc.read_10x_mtx(path=dat_start+'PreYoung'+dat_end, \n",
    "                             var_names='gene_symbols', \n",
    "                             cache=True\n",
    "    )  \n",
    "    adataO = sc.read_10x_mtx(path=dat_start+'PreOld'+dat_end,\n",
    "                             var_names='gene_symbols',\n",
    "                             cache=True\n",
    "    )  \n",
    "    adata_raw=adata87.concatenate(adata88, adata89, adata90, adataY, adataO)\n",
    "\n",
    "    p=adata_raw.obs_names.str.endswith\n",
    "    groups=['BAT-2', 'BAT-8', 'PGF-2', 'PGF-8', 'SCF-2', 'SCF-8']\n",
    "    adata_raw.obs['batch_type'] = np.select([p('-0'), p('-1'), p('-2'), p('-3'), p('-4'), p('-5')],\n",
    "                                            groups\n",
    "    )\n",
    "    adata_raw.obs['tissue_type'] = np.select([(p('-0')|p('-1')), (p('-2')|p('-3')), (p('-4')|p('-5'))],\n",
    "                                             ['BAT', 'PGF', 'SCF']\n",
    "    )\n",
    "    adata_raw.obs['age_type'] = np.select([(p('-0')|p('-2')|p('-4')), (p('-1')|p('-3')|p('-5'))], \n",
    "                                          ['young', 'old'])\n",
    "\n",
    "    adata_raw.var_names_make_unique()\n",
    "    sc.write(sc_settings_writedir+'adata_raw.h5ad', adata_raw)\n",
    "else:\n",
    "    adata_raw=sc.read(sc_settings_writedir+'adata_raw.h5ad')"
   ]
  },
  {
   "cell_type": "markdown",
   "metadata": {},
   "source": [
    "Summary of steps performed here: Only cells with at least 500 UMIs are kept. Counts per cell are cell library depth normalized. The gene (feature) space is reduced with PCA to 50 PCs. A nearest neighbour graph and umap are computed based on the PC space. Cell are clustered with louvain clustering based on the nearest neighbour graph. Graph abstraction is computed based on the louvain clustering."
   ]
  },
  {
   "cell_type": "code",
   "execution_count": 10,
   "metadata": {},
   "outputs": [],
   "source": [
    "sc.pp.filter_cells(adata_raw, min_counts=1)"
   ]
  },
  {
   "cell_type": "markdown",
   "metadata": {},
   "source": [
    "The data contains 21143 observations with 31253 different genes. Due to dropouts, some of the observations might not show any counts and genes. In order to calculate the fraction of mitochondrial RNA in the next steps, each observations without counts must be filtered out to prevent NaN from emerging. "
   ]
  },
  {
   "cell_type": "code",
   "execution_count": 11,
   "metadata": {},
   "outputs": [
    {
     "name": "stdout",
     "output_type": "stream",
     "text": [
      "Number of cells: 24733\n",
      "Number of genes: 31125\n",
      "Number of cells per tissue_type:\n"
     ]
    },
    {
     "data": {
      "text/plain": [
       "BAT    6472\n",
       "PGF    8917\n",
       "SCF    9344\n",
       "Name: tissue_type, dtype: int64"
      ]
     },
     "execution_count": 11,
     "metadata": {},
     "output_type": "execute_result"
    }
   ],
   "source": [
    "print('Number of cells: {:d}'.format(adata_raw.n_obs))\n",
    "print('Number of genes: {:d}'.format(adata_raw.shape[1]))\n",
    "print('Number of cells per tissue_type:')\n",
    "adata_raw.obs['tissue_type'].value_counts().sort_index()"
   ]
  },
  {
   "cell_type": "markdown",
   "metadata": {},
   "source": [
    "### Gene numbers and counts with and without mitochondrial RNA"
   ]
  },
  {
   "cell_type": "markdown",
   "metadata": {},
   "source": [
    "Create necessary obs:"
   ]
  },
  {
   "cell_type": "code",
   "execution_count": 12,
   "metadata": {},
   "outputs": [],
   "source": [
    "adata_qc=adata_raw.copy()\n",
    "adata_qc.obs['n_genes']=(adata_qc.X > 0).sum(1)\n",
    "mt_gene_mask=[gene.startswith('mt-') for gene in adata_qc.var_names]\n",
    "temp_mt_sum=adata_qc[:,mt_gene_mask].X.sum(1)\n",
    "temp_mt_sum=np.squeeze(np.asarray(temp_mt_sum))\n",
    "adata_qc.obs['n_counts']=adata_qc.X.sum(1)\n",
    "temp_n_counts=adata_qc.obs['n_counts']\n",
    "adata_qc.obs['mt_frac']=temp_mt_sum/adata_qc.obs['n_counts']"
   ]
  },
  {
   "cell_type": "markdown",
   "metadata": {},
   "source": [
    "Plot n_counts and mt_frac:"
   ]
  },
  {
   "cell_type": "code",
   "execution_count": 13,
   "metadata": {},
   "outputs": [],
   "source": [
    "if bool_plot == True:\n",
    "    t1 = sc.pl.violin(adata_qc,\n",
    "                      ['n_counts', 'n_genes', 'mt_frac'],\n",
    "                      size=1, \n",
    "                      log=False,\n",
    "                      jitter=3,\n",
    "                      multi_panel=True\n",
    "    )"
   ]
  },
  {
   "cell_type": "code",
   "execution_count": 14,
   "metadata": {},
   "outputs": [],
   "source": [
    "if bool_plot==True:\n",
    "    sc.pl.highest_expr_genes(adata_qc,\n",
    "                             n_top=20\n",
    "    ) "
   ]
  },
  {
   "cell_type": "markdown",
   "metadata": {},
   "source": [
    "Overall, the data contains a lot of observations with high fractions of mitochondrial RNA. Additionally, most observations show counts below 100, suggesting poor data quality. To further investigate the distributions counts over genes per observations, scatterplots are created:"
   ]
  },
  {
   "cell_type": "markdown",
   "metadata": {},
   "source": [
    "### Number of Genes versus Number of Counts"
   ]
  },
  {
   "cell_type": "code",
   "execution_count": 15,
   "metadata": {},
   "outputs": [],
   "source": [
    "if bool_plot == True:\n",
    "    p1 = sc.pl.scatter(adata_qc, \n",
    "                       'n_counts', \n",
    "                       'n_genes', \n",
    "                       color='mt_frac', \n",
    "                       size=5\n",
    "    )\n",
    "    p2 = sc.pl.scatter(adata_qc[adata_qc.obs['n_counts'] < 5000],\n",
    "                       'n_counts',\n",
    "                       'n_genes', \n",
    "                       color='mt_frac',\n",
    "                       size=5\n",
    "    )"
   ]
  },
  {
   "cell_type": "markdown",
   "metadata": {},
   "source": [
    "### Distribution of Counts and Genes"
   ]
  },
  {
   "cell_type": "markdown",
   "metadata": {},
   "source": [
    "For the remaining observations, the fraction of mitochondrial RNA is generally very low and at most 20%"
   ]
  },
  {
   "cell_type": "code",
   "execution_count": 16,
   "metadata": {},
   "outputs": [],
   "source": [
    "if bool_plot == True:\n",
    "    p6 = sb.distplot(adata_qc.obs['n_counts'],\n",
    "                     kde=False\n",
    "    )\n",
    "    plt.show()\n",
    "    p7 = sb.distplot(adata_qc.obs['n_counts'][adata_qc.obs['n_counts'] < 5000], \n",
    "                     kde=False)\n",
    "    plt.show()"
   ]
  },
  {
   "cell_type": "code",
   "execution_count": 17,
   "metadata": {},
   "outputs": [],
   "source": [
    "if bool_plot == True:\n",
    "    p9 = sb.distplot(adata_qc.obs['n_genes'],\n",
    "                     kde=False, \n",
    "                     bins=60\n",
    "    )\n",
    "    plt.show()\n",
    "    p10 = sb.distplot(adata_qc.obs['n_genes'][adata_qc.obs['n_genes'] < 500],\n",
    "                      kde=False,\n",
    "                      bins=60\n",
    "    )\n",
    "    plt.show()"
   ]
  },
  {
   "cell_type": "markdown",
   "metadata": {},
   "source": [
    "### Filtering"
   ]
  },
  {
   "cell_type": "code",
   "execution_count": 18,
   "metadata": {},
   "outputs": [
    {
     "name": "stderr",
     "output_type": "stream",
     "text": [
      "filtered out 701 cells that have less than 1500 counts\n"
     ]
    },
    {
     "name": "stdout",
     "output_type": "stream",
     "text": [
      "Total number of cells: 24733\n"
     ]
    },
    {
     "name": "stderr",
     "output_type": "stream",
     "text": [
      "filtered out 66 cells that have more than 25000 counts\n"
     ]
    },
    {
     "name": "stdout",
     "output_type": "stream",
     "text": [
      "Number of cells after min count filter: 24032\n",
      "Number of cells after max count filter: 23966\n",
      "Number of cells after MT filter: 23939\n"
     ]
    },
    {
     "name": "stderr",
     "output_type": "stream",
     "text": [
      "filtered out 1279 cells that have less than 300 genes expressed\n",
      "Trying to set attribute `.obs` of view, copying.\n"
     ]
    },
    {
     "name": "stdout",
     "output_type": "stream",
     "text": [
      "Number of cells after gene filter: 22660\n"
     ]
    }
   ],
   "source": [
    "# Filter cells according to identified QC thresholds:\n",
    "print('Total number of cells: {:d}'.format(adata_qc.n_obs))\n",
    "\n",
    "sc.pp.filter_cells(adata_qc,\n",
    "                   min_counts=1500\n",
    ")\n",
    "print('Number of cells after min count filter: {:d}'.format(adata_qc.n_obs))\n",
    "\n",
    "sc.pp.filter_cells(adata_qc,\n",
    "                   max_counts=25000\n",
    ")\n",
    "print('Number of cells after max count filter: {:d}'.format(adata_qc.n_obs))\n",
    "\n",
    "adata_qc = adata_qc[adata_qc.obs['mt_frac'] < 0.2]\n",
    "print('Number of cells after MT filter: {:d}'.format(adata_qc.n_obs))\n",
    "\n",
    "sc.pp.filter_cells(adata_qc, \n",
    "                   min_genes=300\n",
    ")\n",
    "print('Number of cells after gene filter: {:d}'.format(adata_qc.n_obs))"
   ]
  },
  {
   "cell_type": "code",
   "execution_count": 19,
   "metadata": {},
   "outputs": [
    {
     "name": "stdout",
     "output_type": "stream",
     "text": [
      "Total number of genes: 31125\n"
     ]
    },
    {
     "name": "stderr",
     "output_type": "stream",
     "text": [
      "filtered out 14148 genes that are detected in less than 30 cells\n"
     ]
    },
    {
     "name": "stdout",
     "output_type": "stream",
     "text": [
      "Number of genes after cell filter: 16977\n"
     ]
    }
   ],
   "source": [
    "#Filter genes:\n",
    "print('Total number of genes: {:d}'.format(adata_qc.n_vars))\n",
    "\n",
    "# Min 20 cells - filters out 0 count genes\n",
    "sc.pp.filter_genes(adata_qc, \n",
    "                   min_cells=30\n",
    ")\n",
    "print('Number of genes after cell filter: {:d}'.format(adata_qc.n_vars))"
   ]
  },
  {
   "cell_type": "code",
   "execution_count": 20,
   "metadata": {},
   "outputs": [],
   "source": [
    "if bool_plot == True:\n",
    "    p1 = sc.pl.scatter(adata_qc, \n",
    "                       'n_counts',\n",
    "                       'n_genes',\n",
    "                       color='mt_frac',\n",
    "                       size=5\n",
    "    )\n",
    "    p3 = sc.pl.scatter(adata_qc[adata_qc.obs['n_counts'] < 5000],\n",
    "                       'n_counts',\n",
    "                       'n_genes',\n",
    "                       color='mt_frac', \n",
    "                       size=5\n",
    "    )"
   ]
  },
  {
   "cell_type": "code",
   "execution_count": 21,
   "metadata": {},
   "outputs": [
    {
     "name": "stdout",
     "output_type": "stream",
     "text": [
      "Number of cells: 22660\n",
      "Number of genes: 16977\n",
      "Number of cells per tissue_type:\n"
     ]
    },
    {
     "data": {
      "text/plain": [
       "BAT-2    2658\n",
       "BAT-8    2343\n",
       "PGF-2    6303\n",
       "PGF-8    2128\n",
       "SCF-2    3892\n",
       "SCF-8    5336\n",
       "Name: batch_type, dtype: int64"
      ]
     },
     "execution_count": 21,
     "metadata": {},
     "output_type": "execute_result"
    }
   ],
   "source": [
    "print('Number of cells: {:d}'.format(adata_qc.n_obs))\n",
    "print('Number of genes: {:d}'.format(adata_qc.shape[1]))\n",
    "print('Number of cells per tissue_type:')\n",
    "adata_qc.obs['batch_type'].value_counts().sort_index()"
   ]
  },
  {
   "cell_type": "markdown",
   "metadata": {},
   "source": [
    "## All cells - normalization, projection and clustering"
   ]
  },
  {
   "cell_type": "markdown",
   "metadata": {},
   "source": [
    "Remove BAT cells and perform the standard analysis"
   ]
  },
  {
   "cell_type": "code",
   "execution_count": 22,
   "metadata": {
    "scrolled": false
   },
   "outputs": [
    {
     "name": "stderr",
     "output_type": "stream",
     "text": [
      "running PAGA\n",
      "    finished: added\n",
      "    'paga/connectivities', connectivities adjacency (adata.uns)\n",
      "    'paga/connectivities_tree', connectivities subtree (adata.uns) (0:00:01)\n"
     ]
    }
   ],
   "source": [
    "if bool_recomp == True:\n",
    "    adata_qc=adata_qc[adata_qc.obs['tissue_type'] != 'BAT',:] # remove brown adiopoytes\n",
    "    adata_proc=adata_qc.copy()\n",
    "    adata_proc.raw=adata_qc\n",
    "    sc.pp.normalize_per_cell(adata_proc)\n",
    "    sc.pp.log1p(adata_proc)\n",
    "    sc.pp.combat(adata_proc, \n",
    "                 key='batch'\n",
    "    )\n",
    "    sc.pp.highly_variable_genes(adata_proc,\n",
    "                                flavor='cell_ranger',\n",
    "                                n_top_genes=4000\n",
    "    )\n",
    "    sc.pl.highly_variable_genes(adata_proc)\n",
    "    #adata_proc.X=adata_proc.X.toarray()\n",
    "    \n",
    "    sc.pp.pca(adata_proc,\n",
    "              n_comps=50,\n",
    "              random_state=0, \n",
    "              use_highly_variable=True,\n",
    "              svd_solver='arpack'\n",
    "    )\n",
    "    sc.pp.neighbors(adata_proc,\n",
    "                    n_neighbors=100,\n",
    "                    knn=True, \n",
    "                    method='umap',\n",
    "                    n_pcs=50, \n",
    "                    random_state=0\n",
    "    )\n",
    "    sc.tl.umap(adata_proc)\n",
    "    if bool_recluster == True:\n",
    "        #sc.tl.louvain(adata_proc,\n",
    "        #              resolution=0.5,\n",
    "        #              flavor='vtraag',\n",
    "        #              random_state=0\n",
    "        #)\n",
    "        sc.tl.leiden(adata_proc,\n",
    "                     resolution=0.5\n",
    "        )\n",
    "        pd.DataFrame(adata_proc.obs).to_csv(path_or_buf=sc_settings_writedir+\"obs_adata_proc.csv\")\n",
    "    else:\n",
    "        obs=pd.read_csv(sc_settings_writedir+'obs_adata_proc.csv')\n",
    "        adata_proc.obs['leiden']=pd.Series(obs['leiden'].values, dtype='category')\n",
    "    sc.write(sc_settings_writedir+'adata_proc.h5ad', adata_proc)\n",
    "else:\n",
    "    adata_proc=sc.read(sc_settings_writedir+'adata_proc.h5ad') \n",
    "sc.tl.paga(adata_proc)"
   ]
  },
  {
   "cell_type": "code",
   "execution_count": 23,
   "metadata": {},
   "outputs": [
    {
     "data": {
      "text/plain": [
       "PGF-2    6303\n",
       "SCF-8    5336\n",
       "SCF-2    3892\n",
       "PGF-8    2128\n",
       "Name: batch_type, dtype: int64"
      ]
     },
     "execution_count": 23,
     "metadata": {},
     "output_type": "execute_result"
    }
   ],
   "source": [
    "adata_proc.obs['batch_type'].value_counts()"
   ]
  },
  {
   "cell_type": "markdown",
   "metadata": {},
   "source": [
    "Produce some summarizing plots that show the global characteristics of the data."
   ]
  },
  {
   "cell_type": "code",
   "execution_count": 24,
   "metadata": {},
   "outputs": [],
   "source": [
    "if bool_plot == True:# A530016L24Rik\n",
    "    plt.rcParams['figure.figsize']=[10,10]\n",
    "    cf.plot_umap_marker(adata_proc,\n",
    "                        ['Pdgfra'],\n",
    "                        save=\"_pgf-scf_cells_Pdgfra\",\n",
    "                        use_raw=False, \n",
    "                        color_map=mymap,\n",
    "                        size=50\n",
    "    )"
   ]
  },
  {
   "cell_type": "code",
   "execution_count": 25,
   "metadata": {},
   "outputs": [],
   "source": [
    "if bool_plot == True:# cells in the cluster 13 need to be removed Endothelial\n",
    "    plt.rcParams['figure.figsize']=[10,10]\n",
    "    cf.plot_umap_marker(adata_proc,\n",
    "                        ['Pecam1'],\n",
    "                        save=\"_pgf-scf_cells_Pecam1\",\n",
    "                        use_raw=False, \n",
    "                        color_map=mymap,\n",
    "                        size=50\n",
    "    )"
   ]
  },
  {
   "cell_type": "code",
   "execution_count": 26,
   "metadata": {},
   "outputs": [],
   "source": [
    "if bool_plot == True:\n",
    "    plt.rcParams['figure.figsize']=[10,10]\n",
    "    cf.plot_umap_marker(adata_proc,\n",
    "                        ['leiden'], \n",
    "                        save=\"_pgf-scf_cells_leiden_clustering\",\n",
    "                        use_raw=False, \n",
    "                        legend_loc='on data', \n",
    "                        size=50\n",
    "    )"
   ]
  },
  {
   "cell_type": "markdown",
   "metadata": {},
   "source": [
    "Number of cells in each cluster:"
   ]
  },
  {
   "cell_type": "code",
   "execution_count": 27,
   "metadata": {},
   "outputs": [
    {
     "data": {
      "text/plain": [
       "0     2088\n",
       "1     1970\n",
       "2     1732\n",
       "3     1519\n",
       "4     1378\n",
       "5     1240\n",
       "6     1216\n",
       "7      864\n",
       "8      765\n",
       "9      759\n",
       "10     758\n",
       "11     632\n",
       "12     516\n",
       "13     480\n",
       "14     468\n",
       "15     415\n",
       "16     274\n",
       "17     161\n",
       "18     147\n",
       "19     114\n",
       "20      98\n",
       "21      65\n",
       "Name: leiden, dtype: int64"
      ]
     },
     "execution_count": 27,
     "metadata": {},
     "output_type": "execute_result"
    }
   ],
   "source": [
    "adata_proc.obs[\"leiden\"].value_counts()"
   ]
  },
  {
   "cell_type": "code",
   "execution_count": 28,
   "metadata": {},
   "outputs": [],
   "source": [
    "#####################################################################################################################\n",
    "if bool_plot==True:\n",
    "    marker_genes_dict={'Immune cell': ['Ptprc'],\n",
    "                       'Macrophage': ['Cd68','Ccl6','Adgre1','Cd14','C1qc','Lyz2'],\n",
    "                       'Monocyte': ['Csf1r','Ly6c2','Lyz1','Fn1','Spn','Ccr2'],\n",
    "                       'cDc': ['Itgax',],\n",
    "                       'cDc1': ['Irf8','Batf3','Xcr1','Cadm1'],\n",
    "                       'cDc2': ['Cd209a','Irf4','Mgl2'],\n",
    "                       'Mast cell': ['Fcer1a','Kit','Il1rl1'],\n",
    "                       'Granulocyte': ['Itgam'],\n",
    "                       'Neutrophil': ['Ceacam1','Cxcr2','Cxcr4','Sell','Cd63'], # ,'Ly6g'\n",
    "                       'T Cell': ['Cd3g','Cd3d','Cd3e'],\n",
    "                       'CD4+ T Cell': ['Cd4','Sell'],\n",
    "                       'CD8+ T Cell': ['Cd8a','Cd8b1'],\n",
    "                       'B Cell': ['Cd19','Cd22','Ms4a1','Cd79a','Cd79b'],\n",
    "                       'NK Cell': ['Klrd1','Klrc1','Ncr1','Il2rb','Klrb1c','Klrk1'],\n",
    "                       'ILCs': ['Il7r','Cd200r1','Ccr6'],\n",
    "    } \n",
    "    for i in list(marker_genes_dict.keys()):\n",
    "        marker_genes_dict[i].sort()\n",
    "        \n",
    "    sc.pl.dotplot(adata=adata_proc,\n",
    "                  var_names=marker_genes_dict, \n",
    "                  groupby='leiden',\n",
    "                  use_raw=True, \n",
    "                  log=False, \n",
    "                  dendrogram=True, \n",
    "                  var_group_rotation=90, \n",
    "                  show=True, \n",
    "                  #size_title=5,\n",
    "                  save=\"pgf-scf_cells_celltypes_markers.pdf\"\n",
    "    )"
   ]
  },
  {
   "cell_type": "markdown",
   "metadata": {},
   "source": [
    "# Immune cells"
   ]
  },
  {
   "cell_type": "markdown",
   "metadata": {},
   "source": [
    "## Embedding and Clustering"
   ]
  },
  {
   "cell_type": "markdown",
   "metadata": {},
   "source": [
    "Remove preadipocyte, presented in the clusters: 3,7,11,5,6,13(contain also endothelial cells).\n",
    "Also other non-immune(Prptc-) cells from clusters: 12,18"
   ]
  },
  {
   "cell_type": "code",
   "execution_count": 29,
   "metadata": {},
   "outputs": [
    {
     "name": "stderr",
     "output_type": "stream",
     "text": [
      "running PAGA\n",
      "    finished: added\n",
      "    'paga/connectivities', connectivities adjacency (adata.uns)\n",
      "    'paga/connectivities_tree', connectivities subtree (adata.uns) (0:00:00)\n"
     ]
    }
   ],
   "source": [
    "if bool_recomp == True:  \n",
    "    cell_ids_imuno=np.asarray(adata_proc.obs_names)[\n",
    "        [x in ['0','1','2','4','8','9','10','14','15','16','17','19','20','21']# '3','7','11','5','6','13','12','18',\n",
    "         for x in np.asarray(adata_proc.obs['leiden'].values)]\n",
    "    ]\n",
    "    adata_imuno=adata_qc[cell_ids_imuno,:].copy()  # adata_raw\n",
    "    #dat=pd.DataFrame(adata_proc.X, index=adata_proc.obs.index, columns=adata_proc.var.index)\n",
    "    adata_imuno.obs['n_genes']=(adata_imuno.X > 0).sum(1)\n",
    "    adata_imuno.obs['n_counts']=adata_imuno.X.sum(1)\n",
    "    mt_gene_mask=[gene.startswith('mt-') for gene in adata_imuno.var_names]\n",
    "    temp_mt_sum=adata_imuno[:,mt_gene_mask].X.sum(1)\n",
    "    temp_mt_sum=np.squeeze(np.asarray(temp_mt_sum))\n",
    "    temp_n_counts=adata_imuno.obs['n_counts']\n",
    "    adata_imuno.obs['mt_frac']=temp_mt_sum/adata_imuno.obs['n_counts']\n",
    "    adata_imuno.raw=adata_imuno\n",
    "    sc.pp.normalize_per_cell(adata_imuno)\n",
    "    sc.pp.log1p(adata_imuno)\n",
    "    sc.pp.highly_variable_genes(adata_imuno, n_top_genes=4000)\n",
    "    #sc.pl.highly_variable_genes(adata_imuno)\n",
    "    adata_imuno.X=adata_imuno.X.toarray()\n",
    "    \n",
    "    sc.pp.pca(adata_imuno,\n",
    "              n_comps=50,\n",
    "              use_highly_variable = True,\n",
    "              random_state=0, \n",
    "              svd_solver='arpack'\n",
    "    )\n",
    "    sc.pp.neighbors(adata_imuno,\n",
    "                    n_neighbors=100,\n",
    "                    knn=True, \n",
    "                    method='umap',\n",
    "                    n_pcs=50, \n",
    "                    random_state=0\n",
    "    )\n",
    "    sc.tl.umap(adata_imuno)\n",
    "    if bool_recluster == True:\n",
    "        sc.tl.leiden(adata_imuno, resolution=0.5)\n",
    "        pd.DataFrame(adata_imuno.obs).to_csv(path_or_buf=sc_settings_writedir+'obs_adata_imuno.csv')\n",
    "    else:\n",
    "        obs=pd.read_csv(sc_settings_writedir+'obs_adata_imuno.csv')\n",
    "        adata_imuno.obs['leiden']=pd.Series(obs['leiden'].values, dtype = 'category')\n",
    "    sc.write(sc_settings_writedir+'adata_imuno.h5ad', adata_imuno)\n",
    "else:\n",
    "    adata_imuno=sc.read(sc_settings_writedir+'adata_imuno.h5ad') \n",
    "sc.tl.paga(adata_imuno)"
   ]
  },
  {
   "cell_type": "code",
   "execution_count": 30,
   "metadata": {},
   "outputs": [],
   "source": [
    "if bool_plot == True:\n",
    "    cf.plot_umap_marker(adata_imuno, \n",
    "                        ['leiden'],\n",
    "                        save=\"_immuno_cells_leiden\",\n",
    "                        use_raw=False,\n",
    "                        size=40,\n",
    "                        legend_loc='on data'\n",
    "    ) "
   ]
  },
  {
   "cell_type": "code",
   "execution_count": 31,
   "metadata": {},
   "outputs": [],
   "source": [
    "if bool_plot == True:\n",
    "    plt.rcParams['figure.figsize']=[10,10]\n",
    "    sc.pl.paga(adata_imuno, \n",
    "               node_size_scale=10,\n",
    "               edge_width_scale=2,\n",
    "               save=\"_immuno_cells_leiden\"\n",
    "    )"
   ]
  },
  {
   "cell_type": "markdown",
   "metadata": {},
   "source": [
    "## Define Cell Types"
   ]
  },
  {
   "cell_type": "markdown",
   "metadata": {},
   "source": [
    "<a id=\"DE\"></a>"
   ]
  },
  {
   "cell_type": "markdown",
   "metadata": {},
   "source": [
    "### Summary heatmap, dotplot and stacked_violin for cluster assignments"
   ]
  },
  {
   "cell_type": "code",
   "execution_count": 32,
   "metadata": {},
   "outputs": [],
   "source": [
    "#####################################################################################################################\n",
    "if bool_plot==True:\n",
    "    marker_genes_dict={'Immune cell': ['Ptprc'],\n",
    "                       'Macrophage': ['Adgre1','Cd14','C1qc','Mrc1','Pf4','Lyve1'],\n",
    "                       'Monocyte': ['Csf1r','Lyz2','Lyz1','Fn1','Ear2','Ccr2','Fcgr4','Csf3r'],\n",
    "                       'cDc': ['Itgax',],\n",
    "                       'cDc1': ['Irf8','Batf3','Xcr1','Cadm1'],\n",
    "                       'cDc2': ['Cd209a','Irf4','Mgl2','Clec10a','Ccr7','Fscn1'],\n",
    "                       'Mast cell': ['Fcer1a','Kit','Il1rl1'],\n",
    "                       'Myeloid cells': ['Itgam'],\n",
    "                       'Neutrophil': ['S100a8','Cxcr2','Cxcr4','Sell','S100a9','Ly6g'],\n",
    "                       'T Cell': ['Cd3g','Cd3d','Cd3e'],\n",
    "                       'CD4+ T Cell': ['Cd4','Sell','Cd40lg','Cd2'],\n",
    "                       'CD8+ T Cell': ['Cd8a','Cd8b1','Gzmk','Gzmb','Lef1'],\n",
    "                       'B Cell': ['Cd19','Cd22','Ms4a1','Cd79a','Cd79b','Ly6d'],\n",
    "                       'NK Cell': ['Klrd1','Klrc1','Ncr1','Il2rb','Klrb1c','Klrk1'],\n",
    "                       'ILCs': ['Il7r','Cd200r1','Gata3']\n",
    "    } \n",
    "    for i in list(marker_genes_dict.keys()):\n",
    "        marker_genes_dict[i].sort()\n",
    "        \n",
    "    sc.pl.dotplot(adata=adata_imuno,\n",
    "                  var_names=marker_genes_dict, \n",
    "                  groupby='leiden',\n",
    "                  use_raw=True, \n",
    "                  log=False, \n",
    "                  dendrogram=True, \n",
    "                  var_group_rotation=90, \n",
    "                  show=True, \n",
    "                  #size_title=5,\n",
    "                  save=\"immuno_cells_celltypes_markers.pdf\"\n",
    "    )"
   ]
  },
  {
   "cell_type": "markdown",
   "metadata": {},
   "source": [
    "## Differential gene expression - immuno cells - clusters"
   ]
  },
  {
   "cell_type": "code",
   "execution_count": 33,
   "metadata": {},
   "outputs": [],
   "source": [
    "if bool_recomp == True: \n",
    "    #adata_imuno1 = adata_imuno[:, adata_imuno.var.highly_variable] # Keep only top 4000\n",
    "    sc.tl.rank_genes_groups(adata_imuno, \n",
    "                            'leiden',\n",
    "                            use_raw=False,\n",
    "                            method='t-test'\n",
    "    )  \n",
    "    # Build the \n",
    "    result = adata_imuno.uns['rank_genes_groups']\n",
    "    groups = result['names'].dtype.names\n",
    "    df = pd.DataFrame({group + '_' + key[:1]: result[key][group]\n",
    "                   for group in groups for key in ['names', 'logfoldchanges', 'pvals_adj']}\n",
    "    )\n",
    "    df.to_csv(\"DGE_imuno_clusters.csv\")"
   ]
  },
  {
   "cell_type": "markdown",
   "metadata": {},
   "source": [
    "## UMAP with assigned cell types"
   ]
  },
  {
   "cell_type": "code",
   "execution_count": 34,
   "metadata": {},
   "outputs": [],
   "source": [
    "#####################################################################################################################\n",
    "if bool_plot == True:\n",
    "    new_cluster_names = {'0': \"B cells\",\n",
    "                         '1': \"Macrophages\",\n",
    "                         '2': \"Monocytes\",\n",
    "                         '3': \"T cells\",\n",
    "                         '4': \"T cells\",\n",
    "                         '5': \"Monocytes\",\n",
    "                         '6': \"NK cells\",\n",
    "                         '7': \"cDC2Bs\",\n",
    "                         '8': \"cDC1s\",\n",
    "                         '9': \"ILCs\",\n",
    "                         '10': \"Macrophages\",\n",
    "                         '11': \"T cells\",\n",
    "                         '12': \"Mast cells\",\n",
    "                         '13': \"cDC2As\",\n",
    "                         '14': \"Neutrophils\"\n",
    "    }\n",
    "    adata_imuno.obs['celltypes'] = [new_cluster_names[x] for x in  adata_imuno.obs['leiden']]\n",
    "    plt.rcParams['figure.figsize']=[10,10]\n",
    "    cf.plot_umap_marker(adata_imuno, \n",
    "                        ['celltypes'], \n",
    "                        save=\"_immuno_cells_celltypes.png\",\n",
    "                        use_raw=False, \n",
    "                        frameon=True, \n",
    "                        size=50,\n",
    "                        title=''\n",
    "    ) "
   ]
  },
  {
   "cell_type": "markdown",
   "metadata": {},
   "source": [
    "# WAT monocytes and macrophages"
   ]
  },
  {
   "cell_type": "markdown",
   "metadata": {},
   "source": [
    "## Embedding and Clustering"
   ]
  },
  {
   "cell_type": "code",
   "execution_count": 35,
   "metadata": {},
   "outputs": [
    {
     "name": "stderr",
     "output_type": "stream",
     "text": [
      "running PAGA\n",
      "    finished: added\n",
      "    'paga/connectivities', connectivities adjacency (adata.uns)\n",
      "    'paga/connectivities_tree', connectivities subtree (adata.uns) (0:00:00)\n"
     ]
    }
   ],
   "source": [
    "if bool_recomp == True:  \n",
    "    cell_ids_mm=np.asarray(adata_imuno.obs_names)[\n",
    "        [x in ['1','2','5','10']\n",
    "         for x in np.asarray(adata_imuno.obs['leiden'].values)]\n",
    "    ]\n",
    "    adata_mm=adata_imuno[cell_ids_mm,:].copy()  # adata_raw\n",
    "    adata_mm.obs['n_genes']=(adata_mm.X > 0).sum(1)\n",
    "    adata_mm.obs['n_counts']=adata_mm.X.sum(1)\n",
    "    mt_gene_mask=[gene.startswith('mt-') for gene in adata_mm.var_names]\n",
    "    temp_mt_sum=adata_mm[:,mt_gene_mask].X.sum(1)\n",
    "    temp_mt_sum=np.squeeze(np.asarray(temp_mt_sum))\n",
    "    temp_n_counts=adata_mm.obs['n_counts']\n",
    "    adata_mm.obs['mt_frac']=temp_mt_sum/adata_mm.obs['n_counts']\n",
    "    adata_mm.raw=adata_mm\n",
    "    sc.pp.normalize_per_cell(adata_mm)\n",
    "    sc.pp.log1p(adata_mm)\n",
    "    sc.pp.highly_variable_genes(adata_mm, n_top_genes=4000)\n",
    "    #sc.pl.highly_variable_genes(adata_mm)\n",
    "    #adata_mm.X=adata_mm.X.toarray()\n",
    "    \n",
    "    sc.pp.pca(adata_mm,\n",
    "              n_comps=50,\n",
    "              use_highly_variable = True,\n",
    "              random_state=0, \n",
    "              svd_solver='arpack'\n",
    "    )\n",
    "    sc.pp.neighbors(adata_mm,\n",
    "                    n_neighbors=100,\n",
    "                    knn=True, \n",
    "                    method='umap',\n",
    "                    n_pcs=50, \n",
    "                    random_state=0\n",
    "    )\n",
    "    sc.tl.umap(adata_mm)\n",
    "    if bool_recluster == True:\n",
    "        sc.tl.leiden(adata_mm, \n",
    "                     resolution=0.5, \n",
    "                     key_added='leiden_mm'\n",
    "        )\n",
    "        pd.DataFrame(adata_mm.obs).to_csv(path_or_buf=sc_settings_writedir+'obs_adata_mm.csv')\n",
    "    else:\n",
    "        obs=pd.read_csv(sc_settings_writedir+'obs_adata_mm.csv')\n",
    "        adata_mm.obs['leiden_mm']=pd.Series(obs['leiden_mm'].values, dtype = 'category')\n",
    "    sc.write(sc_settings_writedir+'adata_mm.h5ad', adata_mm)\n",
    "else:\n",
    "    adata_mm=sc.read(sc_settings_writedir+'adata_mm.h5ad') \n",
    "sc.tl.paga(adata_mm)"
   ]
  },
  {
   "cell_type": "code",
   "execution_count": 36,
   "metadata": {},
   "outputs": [],
   "source": [
    "if bool_plot == True:\n",
    "    plt.rcParams['figure.figsize']=[10,10]\n",
    "    cf.plot_umap_marker(adata_mm,\n",
    "                        ['leiden_mm'], \n",
    "                        save=\"_mm_cells_leiden_clustering\",\n",
    "                        use_raw=False, \n",
    "                        legend_loc='on data', \n",
    "                        size=50\n",
    "    )"
   ]
  },
  {
   "cell_type": "markdown",
   "metadata": {},
   "source": [
    "## Cluster cell type - monocytes and macrophages"
   ]
  },
  {
   "cell_type": "code",
   "execution_count": 37,
   "metadata": {},
   "outputs": [],
   "source": [
    "#####################################################################################################################\n",
    "if bool_plot==True:\n",
    "    marker_genes_dict={'Macrophage': ['Adgre1','Cd14','C1qc','Mrc1','Pf4','Lyve1'],\n",
    "                       'Monocyte': ['Csf1r','Lyz2','Lyz1','Fn1','Ear2','Ccr2','Fcgr4','Csf3r']\n",
    "    } \n",
    "    for i in list(marker_genes_dict.keys()):\n",
    "        marker_genes_dict[i].sort()\n",
    "    \n",
    "    sc.pl.dotplot(adata=adata_mm,\n",
    "                  var_names=marker_genes_dict, \n",
    "                  groupby='leiden_mm',\n",
    "                  use_raw=True, \n",
    "                  log=False, \n",
    "                  dendrogram=True, \n",
    "                  var_group_rotation=90, \n",
    "                  show=True, \n",
    "                  #size_title=5,\n",
    "                  save=\"mm_cells_celltypes_markers.pdf\"\n",
    "    )"
   ]
  },
  {
   "cell_type": "markdown",
   "metadata": {},
   "source": [
    "## Differential gene expression - monocytes and macrophages - clusters"
   ]
  },
  {
   "cell_type": "code",
   "execution_count": 38,
   "metadata": {},
   "outputs": [],
   "source": [
    "if bool_recomp == True: \n",
    "    #adata_imuno1 = adata_imuno[:, adata_imuno.var.highly_variable] # Keep only top 4000\n",
    "    sc.tl.rank_genes_groups(adata_mm, \n",
    "                            'leiden_mm',\n",
    "                            use_raw=False,\n",
    "                            method='t-test'\n",
    "    )  \n",
    "    # Build the \n",
    "    result = adata_mm.uns['rank_genes_groups']\n",
    "    groups = result['names'].dtype.names\n",
    "    df = pd.DataFrame({group + '_' + key[:1]: result[key][group]\n",
    "                   for group in groups for key in ['names', 'logfoldchanges', 'pvals_adj']}\n",
    "    )\n",
    "    df.to_csv(\"DGE_mm_clusters.csv\")"
   ]
  },
  {
   "cell_type": "markdown",
   "metadata": {},
   "source": [
    "# WAT effector lymphocytes  "
   ]
  },
  {
   "cell_type": "markdown",
   "metadata": {},
   "source": [
    "## Embedding and Clustering"
   ]
  },
  {
   "cell_type": "code",
   "execution_count": 39,
   "metadata": {},
   "outputs": [
    {
     "name": "stderr",
     "output_type": "stream",
     "text": [
      "running PAGA\n",
      "    finished: added\n",
      "    'paga/connectivities', connectivities adjacency (adata.uns)\n",
      "    'paga/connectivities_tree', connectivities subtree (adata.uns) (0:00:00)\n"
     ]
    }
   ],
   "source": [
    "if bool_recomp == True:  \n",
    "    cell_ids_lymph=np.asarray(adata_imuno.obs_names)[\n",
    "        [x in ['3','4','6','9','11']\n",
    "         for x in np.asarray(adata_imuno.obs['leiden'].values)]\n",
    "    ]\n",
    "    adata_lymph=adata_imuno[cell_ids_lymph,:].copy()  # adata_raw\n",
    "    adata_lymph.obs['n_genes']=(adata_lymph.X > 0).sum(1)\n",
    "    adata_lymph.obs['n_counts']=adata_lymph.X.sum(1)\n",
    "    mt_gene_mask=[gene.startswith('mt-') for gene in adata_lymph.var_names]\n",
    "    temp_mt_sum=adata_lymph[:,mt_gene_mask].X.sum(1)\n",
    "    temp_mt_sum=np.squeeze(np.asarray(temp_mt_sum))\n",
    "    temp_n_counts=adata_lymph.obs['n_counts']\n",
    "    adata_lymph.obs['mt_frac']=temp_mt_sum/adata_lymph.obs['n_counts']\n",
    "    adata_lymph.raw=adata_lymph\n",
    "    sc.pp.normalize_per_cell(adata_lymph)\n",
    "    sc.pp.log1p(adata_lymph)\n",
    "    sc.pp.highly_variable_genes(adata_lymph, n_top_genes=4000)\n",
    "    #sc.pl.highly_variable_genes(adata_lymph)\n",
    "    #adata_lymph.X=adata_lymph.X.toarray()\n",
    "    \n",
    "    sc.pp.pca(adata_lymph,\n",
    "              n_comps=50,\n",
    "              use_highly_variable = True,\n",
    "              random_state=0, \n",
    "              svd_solver='arpack'\n",
    "    )\n",
    "    sc.pp.neighbors(adata_lymph,\n",
    "                    n_neighbors=100,\n",
    "                    knn=True, \n",
    "                    method='umap',\n",
    "                    n_pcs=50, \n",
    "                    random_state=0\n",
    "    )\n",
    "    sc.tl.umap(adata_lymph)\n",
    "    if bool_recluster == True:\n",
    "        sc.tl.leiden(adata_lymph, \n",
    "                     resolution=0.5,\n",
    "                     key_added='leiden_lymph')\n",
    "        pd.DataFrame(adata_lymph.obs).to_csv(path_or_buf=sc_settings_writedir+'obs_adata_lymph.csv')\n",
    "    else:\n",
    "        obs=pd.read_csv(sc_settings_writedir+'obs_adata_lymph.csv')\n",
    "        adata_lymph.obs['leiden_lymph']=pd.Series(obs['leiden_lymph'].values, dtype = 'category')\n",
    "    sc.write(sc_settings_writedir+'adata_lymph.h5ad', adata_lymph)\n",
    "else:\n",
    "    adata_lymph=sc.read(sc_settings_writedir+'adata_lymph.h5ad') \n",
    "sc.tl.paga(adata_lymph)"
   ]
  },
  {
   "cell_type": "code",
   "execution_count": 40,
   "metadata": {},
   "outputs": [],
   "source": [
    "if bool_plot == True:\n",
    "    plt.rcParams['figure.figsize']=[10,10]\n",
    "    cf.plot_umap_marker(adata_lymph,\n",
    "                        ['leiden_lymph'], \n",
    "                        save=\"_lymph_cells_leiden_clustering\",\n",
    "                        use_raw=False, \n",
    "                        legend_loc='on data', \n",
    "                        size=50\n",
    "    )"
   ]
  },
  {
   "cell_type": "markdown",
   "metadata": {},
   "source": [
    "## Cluster cell type - effector lymphocytes"
   ]
  },
  {
   "cell_type": "code",
   "execution_count": 41,
   "metadata": {},
   "outputs": [],
   "source": [
    "#####################################################################################################################\n",
    "if bool_plot==True:\n",
    "    marker_genes_dict={'T Cell': ['Cd3g','Cd3d','Cd3e'],\n",
    "                       'CD4+ T Cell': ['Cd4','Sell','Cd40lg','Cd2'],\n",
    "                       'CD8+ T Cell': ['Cd8a','Cd8b1','Gzmk','Gzmb','Lef1'],\n",
    "                       'NK Cell': ['Klrd1','Klrc1','Ncr1','Il2rb','Klrb1c','Klrk1'],\n",
    "                       'ILCs': ['Il7r','Cd200r1','Gata3']\n",
    "    } \n",
    "    for i in list(marker_genes_dict.keys()):\n",
    "        marker_genes_dict[i].sort()\n",
    "        \n",
    "    sc.pl.dotplot(adata=adata_lymph,\n",
    "                  var_names=marker_genes_dict, \n",
    "                  groupby='leiden_lymph',\n",
    "                  use_raw=True, \n",
    "                  log=False, \n",
    "                  dendrogram=True, \n",
    "                  var_group_rotation=90, \n",
    "                  show=True, \n",
    "                  #size_title=5,\n",
    "                  save=\"lymph_cells_celltypes_markers.pdf\"\n",
    "    )"
   ]
  },
  {
   "cell_type": "markdown",
   "metadata": {},
   "source": [
    "## Differential gene expression - effector lymphocytes - clusters"
   ]
  },
  {
   "cell_type": "code",
   "execution_count": 42,
   "metadata": {},
   "outputs": [],
   "source": [
    "if bool_recomp == True: \n",
    "    #adata_imuno1 = adata_imuno[:, adata_imuno.var.highly_variable] # Keep only top 4000\n",
    "    sc.tl.rank_genes_groups(adata_lymph, \n",
    "                            'leiden_lymph',\n",
    "                            use_raw=False,\n",
    "                            method='t-test'\n",
    "    )  \n",
    "    # Build the \n",
    "    result = adata_lymph.uns['rank_genes_groups']\n",
    "    groups = result['names'].dtype.names\n",
    "    df = pd.DataFrame({group + '_' + key[:1]: result[key][group]\n",
    "                   for group in groups for key in ['names', 'logfoldchanges', 'pvals_adj']}\n",
    "    )\n",
    "    df.to_csv(\"DGE_lymph_clusters.csv\")"
   ]
  },
  {
   "cell_type": "code",
   "execution_count": null,
   "metadata": {},
   "outputs": [],
   "source": []
  },
  {
   "cell_type": "code",
   "execution_count": null,
   "metadata": {},
   "outputs": [],
   "source": []
  },
  {
   "cell_type": "code",
   "execution_count": null,
   "metadata": {},
   "outputs": [],
   "source": []
  },
  {
   "cell_type": "code",
   "execution_count": null,
   "metadata": {},
   "outputs": [],
   "source": []
  },
  {
   "cell_type": "code",
   "execution_count": null,
   "metadata": {},
   "outputs": [],
   "source": []
  },
  {
   "cell_type": "code",
   "execution_count": 28,
   "metadata": {},
   "outputs": [],
   "source": [
    "if bool_plot==True:\n",
    "    adata_proc.obs['Astrocytes'] = (adata_proc[:,'Gfap'].X>0.01) & (adata_proc[:,'Aldh1l1'].X>0.01) & (adata_proc[:,'Slc1a3'].X>0.01)*1\n",
    "    adata_proc.obs['Endothelial'] = (adata_proc[:,'Cldn5'].X>0.01) & (adata_proc[:,'Pecam1'].X>0.01) & (adata_proc[:,'Slco1c1'].X>0.01)*1\n",
    "    adata_proc.obs['Ependymal'] = (adata_proc[:,'Ccdc153'].X>0.01) & (adata_proc[:,'Rarres2'].X>0.01) & (adata_proc[:,'Hdc'].X>0.01) & (adata_proc[:,'Tm4sf1'].X>0.01)*1\n",
    "    adata_proc.obs['Microglia'] = (adata_proc[:,'Itgam'].X>0.01) & (adata_proc[:,'Tmem119'].X>0.01) & (adata_proc[:,'Cx3cr1'].X>0.01) & (adata_proc[:,'Csf1r'].X>0.01) & (adata_proc[:,'Aif1'].X>0.01) & (adata_proc[:,'P2ry12'].X>0.01)*1\n",
    "    adata_proc.obs['Mural'] = (adata_proc[:,'Mustn1'].X>0.01) & (adata_proc[:,'Pdgfrb'].X>0.01) & (adata_proc[:,'Des'].X>0.01)*1\n",
    "    adata_proc.obs['Neurons'] = (adata_proc[:,'Rbfox3'].X>0.01) & (adata_proc[:,'Syp'].X>0.01) & (adata_proc[:,'Tubb3'].X>0.01) & (adata_proc[:,'Snap25'].X>0.01) & (adata_proc[:,'Syt1'].X>0.01)*1\n",
    "    adata_proc.obs['Oligodendro'] = (adata_proc[:,'Olig1'].X>0.01) & (adata_proc[:,'Mog'].X>0.01) & (adata_proc[:,'Mag'].X>0.01)*1\n",
    "    adata_proc.obs['Tanycytes'] = (adata_proc[:,'Rax'].X>0.01) & (adata_proc[:,'Lhx2'].X>0.01) & (adata_proc[:,'Col23a1'].X>0.01) & (adata_proc[:,'Slc16a2'].X>0.01)*1\n",
    "    adata_proc.obs['VLMCs'] = (adata_proc[:,'Lum'].X>0.01) & (adata_proc[:,'Col1a1'].X>0.01) & (adata_proc[:,'Col3a1'].X>0.01)*1\n",
    "\n",
    "\n",
    "    adata_proc.obs['gfap_lepr'] = (adata_proc[:,'Gfap'].X>0.01) & (adata_proc[:,'Lepr'].X>0.01) & (adata_proc[:,'Aldh1l1'].X==0)*1\n",
    "    adata_proc.obs['gfap_insr'] = (adata_proc[:,'Gfap'].X>0.01) & (adata_proc[:,'Insr'].X>0.01) & (adata_proc[:,'Aldh1l1'].X==0)*1\n",
    "    adata_proc.obs['gfap_igf1r'] = (adata_proc[:,'Gfap'].X>0.01) & (adata_proc[:,'Igf1r'].X>0.01) & (adata_proc[:,'Aldh1l1'].X==0)*1\n",
    "    adata_proc.obs['gfap_glp1r'] = (adata_proc[:,'Gfap'].X>0.01) & (adata_proc[:,'Glp1r'].X>0.01) & (adata_proc[:,'Aldh1l1'].X==0)*1\n",
    "    adata_proc.obs['gfap_lpl'] = (adata_proc[:,'Gfap'].X>0.01) & (adata_proc[:,'Lpl'].X>0.01) & (adata_proc[:,'Aldh1l1'].X==0)*1\n",
    "    adata_proc.obs['gfap_slc2a1'] = (adata_proc[:,'Gfap'].X>0.01) & (adata_proc[:,'Slc2a1'].X>0.01) & (adata_proc[:,'Aldh1l1'].X==0)*1\n",
    "\n",
    "    adata_proc.obs['aldh_lepr'] = (adata_proc[:,'Aldh1l1'].X>0.01) & (adata_proc[:,'Lepr'].X>0.01) & (adata_proc[:,'Gfap'].X==0)*1\n",
    "    adata_proc.obs['aldh_insr'] = (adata_proc[:,'Aldh1l1'].X>0.01) & (adata_proc[:,'Insr'].X>0.01) & (adata_proc[:,'Gfap'].X==0)*1\n",
    "    adata_proc.obs['aldh_igf1r'] = (adata_proc[:,'Aldh1l1'].X>0.01) & (adata_proc[:,'Igf1r'].X>0.01) & (adata_proc[:,'Gfap'].X==0)*1\n",
    "    adata_proc.obs['aldh_glp1r'] = (adata_proc[:,'Aldh1l1'].X>0.01) & (adata_proc[:,'Glp1r'].X>0.01) & (adata_proc[:,'Gfap'].X==0)*1\n",
    "    adata_proc.obs['aldh_lpl'] = (adata_proc[:,'Aldh1l1'].X>0.01) & (adata_proc[:,'Lpl'].X>0.01) & (adata_proc[:,'Gfap'].X==0)*1\n",
    "    adata_proc.obs['aldh_slc2a1'] = (adata_proc[:,'Aldh1l1'].X>0.01) & (adata_proc[:,'Slc2a1'].X>0.01) & (adata_proc[:,'Gfap'].X==0)*1\n",
    "\n",
    "    adata_proc.obs['both_lepr'] = (adata_proc[:,'Aldh1l1'].X>0.01) & (adata_proc[:,'Lepr'].X>0.01) & (adata_proc[:,'Gfap'].X>0.01)*1\n",
    "    adata_proc.obs['both_insr'] = (adata_proc[:,'Aldh1l1'].X>0.01) & (adata_proc[:,'Insr'].X>0.01) & (adata_proc[:,'Gfap'].X>0.01)*1\n",
    "    adata_proc.obs['both_igf1r'] = (adata_proc[:,'Aldh1l1'].X>0.01) & (adata_proc[:,'Igf1r'].X>0.01) & (adata_proc[:,'Gfap'].X>0.01)*1\n",
    "    adata_proc.obs['both_glp1r'] = (adata_proc[:,'Aldh1l1'].X>0.01) & (adata_proc[:,'Glp1r'].X>0.01) & (adata_proc[:,'Gfap'].X>0.01)*1\n",
    "    adata_proc.obs['both_lpl'] = (adata_proc[:,'Aldh1l1'].X>0.01) & (adata_proc[:,'Lpl'].X>0.01) & (adata_proc[:,'Gfap'].X>0.01)*1\n",
    "    adata_proc.obs['both_slc2a1'] = (adata_proc[:,'Aldh1l1'].X>0.01) & (adata_proc[:,'Slc2a1'].X>0.01) & (adata_proc[:,'Gfap'].X>0.01)*1\n",
    "    \n",
    "    adata_proc.obs.to_csv(\"adata_proc_upset.obs.csv\")"
   ]
  },
  {
   "cell_type": "markdown",
   "metadata": {},
   "source": [
    "### Melanie"
   ]
  },
  {
   "cell_type": "code",
   "execution_count": 42,
   "metadata": {},
   "outputs": [],
   "source": [
    "bool_plot=True"
   ]
  },
  {
   "cell_type": "code",
   "execution_count": 41,
   "metadata": {},
   "outputs": [],
   "source": [
    "if bool_plot == True:\n",
    "    adata_mel=adata_proc[(adata_proc.obs['celltypes']=='Astrocytes'),:] # Astrocytes Neurons\n",
    "    adata_mel.obs['diet_celltype'] = adata_mel.obs['celltypes'].astype(str) + '_' + adata_mel.obs['diet'].astype(str)\n",
    "\n",
    "    #melanie = ['Opa1','Dnm1l','Mfn1','Ngb','Apoe','Cpt1a','Lpl','Pdk4','Acadm','Acsl6','Acacb','Mlycd','Gja1']\n",
    "    tim = ['Nnat','Peg3','Plagl1']\n",
    "\n",
    "    adata_mel.layers['scaled'] = sc.pp.scale(adata_mel, copy=True).X\n",
    "\n",
    "    sc.pl.matrixplot(adata_mel, tim, 'diet_celltype', dendrogram=False, swap_axes=True,\n",
    "                     colorbar_title='mean z-score', layer='scaled', cmap='RdBu_r', vmin=-0.1, vmax=0.1) #, vmin=-0.2, vmax=0.2\n",
    "\n",
    "    #sc.pl.stacked_violin(adata_mel, melanie, 'diet_celltype', dendrogram=False, swap_axes=True,\n",
    "    #                     colorbar_title='mean z-score', layer='scaled',  cmap='RdBu_r')\n",
    "    adata_all=adata_proc\n",
    "    adata_all.layers['scaled'] = sc.pp.scale(adata_all, copy=True).X\n",
    "    sc.pl.matrixplot(adata_all, tim, 'diet', dendrogram=False, swap_axes=True,\n",
    "                     colorbar_title='mean z-score', layer='scaled', cmap='RdBu_r', vmin=-0.02, vmax=0.02) #, vmin=-0.2, vmax=0.2"
   ]
  },
  {
   "cell_type": "code",
   "execution_count": 31,
   "metadata": {
    "scrolled": false
   },
   "outputs": [],
   "source": [
    "#####################################################################################################################\n",
    "if bool_plot == True:\n",
    "    adata_proc_hv = adata_proc[:, adata_proc.var.highly_variable]\n",
    "    adata_proc_hv.raw = adata_qc[:, adata_proc.var.highly_variable]\n",
    "    adata_proc_hv.obs['diet_leiden'] = adata_proc_hv.obs['diet'].str.cat(adata_proc_hv.obs['leiden'], sep='_')\n",
    "    adata_proc_hv.obs['diet_celltypes'] = adata_proc_hv.obs['diet'].str.cat(adata_proc_hv.obs['celltypes'], sep='_')\n",
    "    \n",
    "    sc.tl.rank_genes_groups(adata_proc_hv, 'diet_celltypes', groups=['hfd_5_Astrocytes'], reference='chow_Astrocytes', key_added=\"ct5_ast\", method='t-test') #  wilcoxon\n",
    "    sc.tl.rank_genes_groups(adata_proc_hv, 'diet_celltypes', groups=['hfd_5_Endothelial cells'], reference='chow_Endothelial cells', key_added=\"ct5_end\", method='t-test')\n",
    "    sc.tl.rank_genes_groups(adata_proc_hv, 'diet_celltypes', groups=['hfd_5_Ependymal cells'], reference='chow_Ependymal cells', key_added=\"ct5_epe\", method='t-test')\n",
    "    sc.tl.rank_genes_groups(adata_proc_hv, 'diet_celltypes', groups=['hfd_5_Microglia'], reference='chow_Microglia', key_added=\"ct5_mic\", method='t-test')\n",
    "    sc.tl.rank_genes_groups(adata_proc_hv, 'diet_celltypes', groups=['hfd_5_Mural cells'], reference='chow_Mural cells', key_added=\"ct5_mur\", method='t-test')\n",
    "    sc.tl.rank_genes_groups(adata_proc_hv, 'diet_celltypes', groups=['hfd_5_Neurons'], reference='chow_Neurons', key_added=\"ct5_neu\", method='t-test')\n",
    "    sc.tl.rank_genes_groups(adata_proc_hv, 'diet_celltypes', groups=['hfd_5_Oligodendrocytes'], reference='chow_Oligodendrocytes', key_added=\"ct5_oli\", method='t-test')\n",
    "    sc.tl.rank_genes_groups(adata_proc_hv, 'diet_celltypes', groups=['hfd_5_Tanycytes'], reference='chow_Tanycytes', key_added=\"ct5_tan\", method='t-test')\n",
    "    sc.tl.rank_genes_groups(adata_proc_hv, 'diet_celltypes', groups=['hfd_5_VLMCs'], reference='chow_VLMCs', key_added=\"ct5_vlmc\", method='t-test')\n",
    "    \n",
    "    sc.tl.rank_genes_groups(adata_proc_hv, 'diet_celltypes', groups=['hfd_15_Astrocytes'], reference='chow_Astrocytes', key_added=\"ct15_ast\", method='t-test')\n",
    "    sc.tl.rank_genes_groups(adata_proc_hv, 'diet_celltypes', groups=['hfd_15_Endothelial cells'], reference='chow_Endothelial cells', key_added=\"ct15_end\", method='t-test')\n",
    "    sc.tl.rank_genes_groups(adata_proc_hv, 'diet_celltypes', groups=['hfd_15_Ependymal cells'], reference='chow_Ependymal cells', key_added=\"ct15_epe\", method='t-test')\n",
    "    sc.tl.rank_genes_groups(adata_proc_hv, 'diet_celltypes', groups=['hfd_15_Microglia'], reference='chow_Microglia', key_added=\"ct15_mic\", method='t-test')\n",
    "    sc.tl.rank_genes_groups(adata_proc_hv, 'diet_celltypes', groups=['hfd_15_Mural cells'], reference='chow_Mural cells', key_added=\"ct15_mur\", method='t-test')\n",
    "    sc.tl.rank_genes_groups(adata_proc_hv, 'diet_celltypes', groups=['hfd_15_Neurons'], reference='chow_Neurons', key_added=\"ct15_neu\", method='t-test')\n",
    "    sc.tl.rank_genes_groups(adata_proc_hv, 'diet_celltypes', groups=['hfd_15_Oligodendrocytes'], reference='chow_Oligodendrocytes', key_added=\"ct15_oli\", method='t-test')\n",
    "    sc.tl.rank_genes_groups(adata_proc_hv, 'diet_celltypes', groups=['hfd_15_Tanycytes'], reference='chow_Tanycytes', key_added=\"ct15_tan\", method='t-test')\n",
    "    sc.tl.rank_genes_groups(adata_proc_hv, 'diet_celltypes', groups=['hfd_15_VLMCs'], reference='chow_VLMCs', key_added=\"ct15_vlmc\", method='t-test')\n",
    "\n",
    "    ct0_5=[]\n",
    "    ct0_5up=[]\n",
    "    ct0_5down=[]\n",
    "    df0_5=[]\n",
    "    for i in ['ct5_ast','ct5_end','ct5_epe','ct5_mic','ct5_mur','ct5_neu','ct5_oli','ct5_tan','ct5_vlmc']:\n",
    "        result = adata_proc_hv.uns[i]\n",
    "        groups = result['names'].dtype.names\n",
    "        df5 = pd.DataFrame({group + '_' + key[:1]: result[key][group]\n",
    "                            for group in groups for key in ['pvals_adj', 'logfoldchanges']}) \n",
    "        #print(sum(df5.iloc[:, 0]<0.05))\n",
    "        print(sum((df5.iloc[:, 0]<0.05) & (df5.iloc[:, 1]>0)))\n",
    "        print(-sum((df5.iloc[:, 0]<0.05) & (df5.iloc[:, 1]<=0)))\n",
    "        ct0_5.append(sum(df5.iloc[:, 0]<0.05))  \n",
    "        ct0_5up.append(sum((df5.iloc[:, 0]<0.05) & (df5.iloc[:, 1]>0)))  \n",
    "        ct0_5down.append(sum((df5.iloc[:, 0]<0.05) & (df5.iloc[:, 1]<=0)))  \n",
    "        df0_5.append(df5) \n",
    "        \n",
    "    ct0_15=[]\n",
    "    ct0_15up=[]\n",
    "    ct0_15down=[]\n",
    "    df0_15=[]\n",
    "    for i in ['ct15_ast','ct15_end','ct15_epe','ct15_mic','ct15_mur','ct15_neu','ct15_oli','ct15_tan','ct15_vlmc']:\n",
    "        result = adata_proc_hv.uns[i]\n",
    "        groups = result['names'].dtype.names\n",
    "        df15 = pd.DataFrame({group + '_' + key[:1]: result[key][group]\n",
    "                             for group in groups for key in ['pvals_adj', 'logfoldchanges']}) \n",
    "        #print(sum(df15.iloc[:, 0]<0.05))\n",
    "        #print(sum((df15.iloc[:, 0]<0.05) & (df15.iloc[:, 1]>0)))\n",
    "        #print(-sum((df15.iloc[:, 0]<0.05) & (df15.iloc[:, 1]<=0)))\n",
    "        ct0_15.append(sum(df15.iloc[:, 0]<0.05))\n",
    "        df0_15.append(df15)\n",
    "    \n",
    "    d = {'0_5':ct0_5,'0_15':ct0_15}\n",
    "    dfin = pd.DataFrame(d)\n",
    "    dfin['0_0'] = [0,0,0,0,0,0,0,0,0]\n",
    "    dfin=dfin.reindex(['0_0','0_5','0_15'], axis=1)\n",
    "    dfin.index=['Astrocytes','Endothelial cells','Ependymal cells','Microglia','Mural cells','Neurons','Oligodendrocytes','Tanycytes','VLMCs']\n",
    "    \n",
    "    plt.rcParams[\"figure.figsize\"] = (7,7)\n",
    "\n",
    "    line_chart1 = plt.plot(['SD', '5d HFHS diet', '15d HFHS diet'], dfin.iloc[0], linewidth=3, c='#1f77b4')\n",
    "    line_chart1 = plt.plot(['SD', '5d HFHS diet', '15d HFHS diet'], dfin.iloc[1], linewidth=3, c='#aa40fc')\n",
    "    line_chart1 = plt.plot(['SD', '5d HFHS diet', '15d HFHS diet'], dfin.iloc[2], linewidth=3, c='#279e68')\n",
    "    line_chart1 = plt.plot(['SD', '5d HFHS diet', '15d HFHS diet'], dfin.iloc[3], linewidth=3, c='#aec7e8')\n",
    "    line_chart1 = plt.plot(['SD', '5d HFHS diet', '15d HFHS diet'], dfin.iloc[4], linewidth=3, c='#98df8a')\n",
    "    line_chart1 = plt.plot(['SD', '5d HFHS diet', '15d HFHS diet'], dfin.iloc[5], linewidth=3, c='#d62728')\n",
    "    line_chart1 = plt.plot(['SD', '5d HFHS diet', '15d HFHS diet'], dfin.iloc[6], linewidth=3, c='#ffbb78')\n",
    "    line_chart1 = plt.plot(['SD', '5d HFHS diet', '15d HFHS diet'], dfin.iloc[7], linewidth=3, c='#ff7f0e')\n",
    "    line_chart1 = plt.plot(['SD', '5d HFHS diet', '15d HFHS diet'], dfin.iloc[8], linewidth=3, c='#ff9896')\n",
    "\n",
    "    #plt.xlabel(\"X axis label\")\n",
    "    plt.ylabel(\"Number of DEGs\")"
   ]
  },
  {
   "cell_type": "code",
   "execution_count": 32,
   "metadata": {},
   "outputs": [],
   "source": [
    "if bool_plot == True:\n",
    "    result = adata_proc_hv.uns['ct5_ast']\n",
    "    groups = result['names'].dtype.names\n",
    "    dfa5 = pd.DataFrame({group + '_' + key[:1]: result[key][group]\n",
    "                        for group in groups for key in ['names', 'pvals_adj', 'logfoldchanges']}) \n",
    "\n",
    "    result = adata_proc_hv.uns['ct5_neu']\n",
    "    groups = result['names'].dtype.names\n",
    "    dfn5 = pd.DataFrame({group + '_' + key[:1]: result[key][group]\n",
    "                        for group in groups for key in ['names', 'pvals_adj', 'logfoldchanges']}) \n",
    "\n",
    "    result = adata_proc_hv.uns['ct5_mic']\n",
    "    groups = result['names'].dtype.names\n",
    "    dfm5 = pd.DataFrame({group + '_' + key[:1]: result[key][group]\n",
    "                        for group in groups for key in ['names', 'pvals_adj', 'logfoldchanges']}) \n",
    "    \n",
    "    result = adata_proc_hv.uns['ct15_ast']\n",
    "    groups = result['names'].dtype.names\n",
    "    dfa15 = pd.DataFrame({group + '_' + key[:1]: result[key][group]\n",
    "                        for group in groups for key in ['names', 'pvals_adj', 'logfoldchanges']}) \n",
    "\n",
    "    result = adata_proc_hv.uns['ct15_neu']\n",
    "    groups = result['names'].dtype.names\n",
    "    dfn15 = pd.DataFrame({group + '_' + key[:1]: result[key][group]\n",
    "                        for group in groups for key in ['names', 'pvals_adj', 'logfoldchanges']}) \n",
    "    \n",
    "    result = adata_proc_hv.uns['ct15_mic']\n",
    "    groups = result['names'].dtype.names\n",
    "    dfm15 = pd.DataFrame({group + '_' + key[:1]: result[key][group]\n",
    "                        for group in groups for key in ['names', 'pvals_adj', 'logfoldchanges']}) \n",
    "    \n",
    "    #dfa5.to_csv(\"DGE0_5astro.csv\")\n",
    "    #dfn5.to_csv(\"DGE0_5neuro.csv\")\n",
    "    #dfa15.to_csv(\"DGE0_15astro.csv\")\n",
    "    #dfn15.to_csv(\"DGE0_15neuro.csv\")\n",
    "    \n",
    "    #df0_5.to_csv(\"DGE0_5celltypes.csv\")"
   ]
  },
  {
   "cell_type": "code",
   "execution_count": 33,
   "metadata": {},
   "outputs": [],
   "source": [
    "if bool_plot == True: \n",
    "    dfa5[dfa5['hfd_5_Astrocytes_n'].isin(melanie)][['hfd_5_Astrocytes_n','hfd_5_Astrocytes_p']]\n",
    "    dfa15[dfa15['hfd_15_Astrocytes_n'].isin(melanie)][['hfd_15_Astrocytes_n','hfd_15_Astrocytes_p']]\n",
    "    dfn5[dfn5['hfd_5_Neurons_n'].isin(melanie)][['hfd_5_Neurons_n','hfd_5_Neurons_p']]\n",
    "    dfn15[dfn15['hfd_15_Neurons_n'].isin(melanie)][['hfd_15_Neurons_n','hfd_15_Neurons_p']]"
   ]
  },
  {
   "cell_type": "code",
   "execution_count": 34,
   "metadata": {},
   "outputs": [],
   "source": [
    "if bool_plot == True:  \n",
    "    dfa5[dfa5['hfd_5_Astrocytes_n'].isin(np.concatenate((marker_pan_a1_a2['PAN_reactive'],\n",
    "                                                         marker_pan_a1_a2['A1_specific'],\n",
    "                                                         marker_pan_a1_a2['A2_specific']), \n",
    "                                                        axis=None))][['hfd_5_Astrocytes_n','hfd_5_Astrocytes_p']]\n",
    "    dfa15[dfa15['hfd_15_Astrocytes_n'].isin(np.concatenate((marker_pan_a1_a2['PAN_reactive'],\n",
    "                                                            marker_pan_a1_a2['A1_specific'],\n",
    "                                                             marker_pan_a1_a2['A2_specific']),\n",
    "                                                               axis=None))][['hfd_15_Astrocytes_n','hfd_15_Astrocytes_p']]\n",
    "\n",
    "    dfm5[dfm5['hfd_5_Microglia_n'].isin(marker_genes_mglia['activated microglia'])][['hfd_5_Microglia_n','hfd_5_Microglia_p']]\n",
    "    dfm15[dfm15['hfd_15_Microglia_n'].isin(marker_genes_mglia['activated microglia'])][['hfd_15_Microglia_n','hfd_15_Microglia_p']]"
   ]
  },
  {
   "cell_type": "markdown",
   "metadata": {},
   "source": [
    "### microglia inflamation markers"
   ]
  },
  {
   "cell_type": "code",
   "execution_count": 35,
   "metadata": {},
   "outputs": [],
   "source": [
    "#####################################################################################################################\n",
    "if bool_plot == True:  #  (adata_proc.obs['celltypes']=='Astrocytes') |\n",
    "    adata_inf=adata_proc[(adata_proc.obs['celltypes']=='Microglia'),:]\n",
    "    adata_inf.obs['diet_celltype'] = adata_inf.obs['celltypes'].astype(str) + '_' + adata_inf.obs['diet'].astype(str)\n",
    "\n",
    "    marker_genes_mglia = {#'inflam_mark': ['Il1b','Il2','Il6','Tnf','Il1r1','Il6ra','Tlr4','Lcn2','Mmp2','Ccl5','Ccl12',\n",
    "                          #                'Vegfa','Tpo','Plaur','Axin2'], # ,'Il5','Mmp13',\n",
    "                          'activated microglia': ['Itgam','Cd14','Fcgr3','Fcgr2b','Cd40','Ptprc','Cd68','Cd80',\n",
    "                                                  'Cd86','Cx3cr1','Adgre1','Fcer1g']} \n",
    "                     # ,'H2''C3H2-T23','Serping1','H2-D1','Ggta1','Iigp1','Gbp2','Fbln5','Fkbp5','Psmb8','Srgn','Amigo2'\n"
   ]
  },
  {
   "cell_type": "code",
   "execution_count": 36,
   "metadata": {},
   "outputs": [],
   "source": [
    "#####################################################################################################################\n",
    "if bool_plot == True:\n",
    "    adata_inf.layers['scaled'] = sc.pp.scale(adata_inf, copy=True).X\n",
    "\n",
    "    #sc.pl.matrixplot(adata_inf, marker_genes_mglia, 'diet_celltype', dendrogram=False, swap_axes=True,\n",
    "    #                 colorbar_title='mean z-score', layer='scaled', vmin=-0.2, vmax=0.2, cmap='RdBu_r')\n",
    "    sc.pl.stacked_violin(adata_inf, marker_genes_mglia, 'diet_celltype', dendrogram=False, swap_axes=True,\n",
    "                     colorbar_title='mean z-score', layer='scaled', vmin=-2, vmax=2, cmap='RdBu_r')"
   ]
  },
  {
   "cell_type": "code",
   "execution_count": 38,
   "metadata": {
    "scrolled": false
   },
   "outputs": [],
   "source": [
    "#####################################################################################################################\n",
    "if bool_plot == True:\n",
    "    adata_a = adata_astro\n",
    "    adata_a.layers['scaled'] = sc.pp.scale(adata_a, copy=True).X\n",
    "    marker_pan_a1_a2 = {'PAN_reactive': ['Lcn2','Steap4','S1pr3','Timp1','Hsbp1','Cxcl10','Cd44','Osmr','Cp','Serpina3n',\n",
    "                                         'Aspg','Vim','Gfap'],\n",
    "                        'A1_specific': ['Serping1','H2-D1','Ggta1','Iigp1','Gbp2','Fbln5','Fkbp5','Psmb8',\n",
    "                                        'Srgn','Amigo2'], #'C3H2-T23',\n",
    "                        'A2_specific': ['Clcf1','Tgm1','Ptx3','S100a10','Sphk1','Cd109','Ptgs2','Emp1','Slc10a6','Tm4sf1',\n",
    "                                        'B3gnt5','Cd14','Stat3']}\n",
    "    sc.pl.matrixplot(adata_a, marker_pan_a1_a2, 'diet', dendrogram=False, swap_axes=True, \n",
    "                     colorbar_title='mean z-score', layer='scaled', vmin=-0.2, vmax=0.2, cmap='RdBu_r')\n",
    "\n",
    "    sc.pl.heatmap(adata_a, marker_pan_a1_a2, swap_axes=True, show=False, use_raw=True,\n",
    "                  show_gene_labels=True, groupby='diet', dendrogram=False, layer='scaled', vmin=-2, vmax=2, cmap='RdBu_r')\n",
    "\n",
    "    sc.pl.matrixplot(adata=adata_a, var_names=marker_pan_a1_a2, groupby='diet', use_raw=False, log=False,  \n",
    "                     dendrogram=False, var_group_rotation=90, swap_axes=True, show=True)"
   ]
  },
  {
   "cell_type": "markdown",
   "metadata": {},
   "source": [
    "## Co-expression"
   ]
  },
  {
   "cell_type": "code",
   "execution_count": 39,
   "metadata": {},
   "outputs": [],
   "source": [
    "if bool_recomp == True:\n",
    "    df = pd.DataFrame(adata_astro.raw.X.toarray(), columns = adata_astro.var.index)\n",
    "    df.index = adata_astro.obs.index\n",
    "    df = df.assign(diet = adata_astro.obs['diet'])\n",
    "\n",
    "    df = df.assign(gfap_lepr = ((df['Gfap']>0) & (df['Lepr']>0) & (df['Aldh1l1']==0))*1)\n",
    "    df = df.assign(gfap_insr = ((df['Gfap']>0) & (df['Insr']>0) & (df['Aldh1l1']==0))*1)\n",
    "    df = df.assign(gfap_igf1r = ((df['Gfap']>0) & (df['Igf1r']>0) & (df['Aldh1l1']==0))*1)\n",
    "    df = df.assign(gfap_glp1r = ((df['Gfap']>0) & (df['Glp1r']>0) & (df['Aldh1l1']==0))*1)\n",
    "    df = df.assign(gfap_lpl = ((df['Gfap']>0) & (df['Lpl']>0) & (df['Aldh1l1']==0))*1)\n",
    "    df = df.assign(gfap_slc2a1 = ((df['Gfap']>0) & (df['Slc2a1']>0) & (df['Aldh1l1']==0))*1)\n",
    "    df = df.assign(gfap_ucp2 = ((df['Gfap']>0) & (df['Ucp2']>0) & (df['Aldh1l1']==0))*1)\n",
    "    df = df.assign(gfap_ghsr = ((df['Gfap']>0) & (df['Ghsr']>0) & (df['Aldh1l1']==0))*1)\n",
    "    df = df.assign(gfap_slc2a2 = ((df['Gfap']>0) & (df['Slc2a2']>0) & (df['Aldh1l1']==0))*1)\n",
    "\n",
    "    df = df.assign(aldh_lepr = ((df['Aldh1l1']>0) & (df['Lepr']>0) & (df['Gfap']==0))*1)\n",
    "    df = df.assign(aldh_insr = ((df['Aldh1l1']>0) & (df['Insr']>0) & (df['Gfap']==0))*1)\n",
    "    df = df.assign(aldh_igf1r = ((df['Aldh1l1']>0) & (df['Igf1r']>0) & (df['Gfap']==0))*1)\n",
    "    df = df.assign(aldh_glp1r = ((df['Aldh1l1']>0) & (df['Glp1r']>0) & (df['Gfap']==0))*1)\n",
    "    df = df.assign(aldh_lpl = ((df['Aldh1l1']>0) & (df['Lpl']>0) & (df['Gfap']==0))*1)\n",
    "    df = df.assign(aldh_slc2a1 = ((df['Aldh1l1']>0) & (df['Slc2a1']>0) & (df['Gfap']==0))*1)\n",
    "    df = df.assign(aldh_ucp2 = ((df['Aldh1l1']>0) & (df['Ucp2']>0) & (df['Gfap']==0))*1)\n",
    "    df = df.assign(aldh_ghsr = ((df['Aldh1l1']>0) & (df['Ghsr']>0) & (df['Gfap']==0))*1)\n",
    "    df = df.assign(aldh_slc2a2 = ((df['Aldh1l1']>0) & (df['Slc2a2']>0) & (df['Gfap']==0))*1)\n",
    "\n",
    "    df = df.assign(both_lepr = ((df['Aldh1l1']>0) & (df['Lepr']>0) & (df['Gfap']>0))*1)\n",
    "    df = df.assign(both_insr = ((df['Aldh1l1']>0) & (df['Insr']>0) & (df['Gfap']>0))*1)\n",
    "    df = df.assign(both_igf1r = ((df['Aldh1l1']>0) & (df['Igf1r']>0) & (df['Gfap']>0))*1)\n",
    "    df = df.assign(both_glp1r = ((df['Aldh1l1']>0) & (df['Glp1r']>0) & (df['Gfap']>0))*1)\n",
    "    df = df.assign(both_lpl = ((df['Aldh1l1']>0) & (df['Lpl']>0) & (df['Gfap']>0))*1)\n",
    "    df = df.assign(both_slc2a1 = ((df['Aldh1l1']>0) & (df['Slc2a1']>0) & (df['Gfap']>0))*1)\n",
    "\n",
    "    df = df.assign(both_ucp2 = ((df['Aldh1l1']>0) & (df['Ucp2']>0) & (df['Gfap']>0))*1)\n",
    "    df = df.assign(both_ghsr = ((df['Aldh1l1']>0) & (df['Ghsr']>0) & (df['Gfap']>0))*1)\n",
    "    df = df.assign(both_slc2a2 = ((df['Aldh1l1']>0) & (df['Slc2a2']>0) & (df['Gfap']>0))*1)\n",
    "    \n",
    "    df.iloc[:,31253:31281].to_csv(\"adata_astro_upset.obs.csv\")"
   ]
  },
  {
   "cell_type": "markdown",
   "metadata": {},
   "source": [
    "# RNA Velocitiy and clustering"
   ]
  },
  {
   "cell_type": "code",
   "execution_count": 40,
   "metadata": {},
   "outputs": [],
   "source": [
    "spmark=['Aldoc','Aqp4','S1pr1','Slc38a1',\n",
    "        'Npy','Pcsk1n','Ins2','Il1b','Ifit3b','Flt1','Ucp2','Vamp5','S100b','Gfap','Aldh1l1',\n",
    "        'Apoe','Ift43','Tpt1','Slc1a2','Slc3a2']"
   ]
  },
  {
   "cell_type": "markdown",
   "metadata": {},
   "source": [
    "#### chow"
   ]
  },
  {
   "cell_type": "code",
   "execution_count": 41,
   "metadata": {},
   "outputs": [],
   "source": [
    "if bool_recomp == True:\n",
    "    astro0 = adata_astro[adata_astro.obs['diet']=='chow',]\n",
    "    sc.tl.leiden(astro0, resolution=0.5, key_added='cluster0')\n",
    "    astro0.obs['cluster0n'] = astro0.obs['cluster0'].replace({'0': 'b', '1': 'd', '2': 'a', '3': 'c'})\n",
    "    sc.write(sc_settings_writedir+'astro0.h5ad', astro0)\n",
    "else:\n",
    "    astro0 = sc.read(sc_settings_writedir+'astro0.h5ad')   "
   ]
  },
  {
   "cell_type": "code",
   "execution_count": 42,
   "metadata": {},
   "outputs": [],
   "source": [
    "if bool_recomp == True:  \n",
    "    adata_loom0 = scv.read(dir_scv+'MUC26030/possorted_genome_bam_Z0I20.loom', cache=True)\n",
    "    astro0_v = scv.utils.merge(astro0, adata_loom0)\n",
    "    scv.pl.proportions(astro0_v)\n",
    "    scv.pp.filter_and_normalize(astro0_v, min_shared_counts=20, n_top_genes=2000)\n",
    "    scv.pp.moments(astro0_v, n_pcs=30, n_neighbors=30)\n",
    "    scv.tl.recover_dynamics(astro0_v)\n",
    "    scv.tl.velocity(astro0_v)\n",
    "    scv.tl.velocity_graph(astro0_v)\n",
    "    \n",
    "    sc.write(sc_settings_writedir+'astro0_v.h5ad', astro0_v)\n",
    "else:\n",
    "    astro0_v = sc.read(sc_settings_writedir+'astro0_v.h5ad') "
   ]
  },
  {
   "cell_type": "code",
   "execution_count": 43,
   "metadata": {},
   "outputs": [],
   "source": [
    "if bool_plot == True:                              #'dimgray','gray','darkgray','lightgray'   'darkslategray','steelblue','lightsteelblue','bisque'\n",
    "    cf.plot_umap_marker(astro0, ['cluster0n'], palette=['firebrick','mediumblue','dodgerblue','aqua'],\n",
    "                        use_raw=False, size=60, frameon=False)\n",
    "    scv.set_figure_params()\n",
    "    scv.pl.velocity_embedding_stream(astro0_v, basis='umap', color='cluster0n', use_raw=False, size=60, figsize=(6.5,6.5), \n",
    "                                     legend_loc='right margin', palette=['firebrick','mediumblue','dodgerblue','aqua']) "
   ]
  },
  {
   "cell_type": "code",
   "execution_count": 44,
   "metadata": {},
   "outputs": [],
   "source": [
    "if bool_plot == True: \n",
    "    labels = 'b', 'd', 'a', 'c'\n",
    "    sizes = astro0.obs['cluster0n'].value_counts()\n",
    "\n",
    "    fig1, ax1 = plt.subplots()\n",
    "    ax1.pie(sizes,  labels=labels, autopct='%1.1f%%', startangle=90, pctdistance=1.3, labeldistance=None,\n",
    "            colors=['mediumblue','aqua','firebrick','dodgerblue'], textprops={'fontsize': 20, 'color':\"black\"})\n",
    "    ax1.axis('equal')  # Equal aspect ratio ensures that pie is drawn as a circle.\n",
    "    plt.show()"
   ]
  },
  {
   "cell_type": "markdown",
   "metadata": {},
   "source": [
    "Rank genes by likelihoods per cluster/regime.\n",
    "This ranks genes by their likelihood obtained from the dynamical model grouped by clusters specified in groupby."
   ]
  },
  {
   "cell_type": "code",
   "execution_count": 45,
   "metadata": {},
   "outputs": [],
   "source": [
    "if bool_recomp == True: \n",
    "    top_genes = astro0_v.var['fit_likelihood'].sort_values(ascending=False).index\n",
    "\n",
    "    scv.tl.rank_dynamical_genes(astro0_v, groupby='cluster0')\n",
    "    df = scv.get_df(astro0_v, 'rank_dynamical_genes/names')\n",
    "    df.to_csv('chow_potential_drivers.csv')\n",
    "    print(df.shape)\n",
    "    df.head(10)"
   ]
  },
  {
   "cell_type": "code",
   "execution_count": 46,
   "metadata": {},
   "outputs": [],
   "source": [
    "if bool_plot == True:\n",
    "    scv.tl.latent_time(astro0_v)\n",
    "    top_genes = df['1']   #['Aldoc','Aqp4','S1pr1','Slc38a1']\n",
    "    scv.pl.heatmap(astro0_v, var_names=top_genes, sortby='latent_time', col_color='cluster0n', n_convolve=100,\n",
    "                   figsize=(10,15), font_scale=1, colorbar=True, yticklabels=True)"
   ]
  },
  {
   "cell_type": "code",
   "execution_count": 47,
   "metadata": {},
   "outputs": [],
   "source": [
    "if bool_plot == True:\n",
    "    scv.pl.velocity(astro0_v, var_names=['Pcsk1n'], figsize=(10,11),  #'Aldoc','Pcsk1n'\n",
    "                    colorbar=True, ncols=2, color='cluster0n')\n",
    "   # astro0_v_aldh = sc.read(sc_settings_writedir+'astro0_v_aldh.h5ad')\n",
    "   # scv.pl.velocity(astro0_v_aldh, var_names=['Gfap','Aldoc','Pcsk1n','Aqp4','S1pr1','Pcdh15','Pak3','Aldh1l1'], colorbar=True, ncols=1, color='cluster0n')"
   ]
  },
  {
   "cell_type": "markdown",
   "metadata": {},
   "source": [
    "#### hfd_5"
   ]
  },
  {
   "cell_type": "code",
   "execution_count": 48,
   "metadata": {},
   "outputs": [],
   "source": [
    "if bool_recomp == True:\n",
    "    astro5 = adata_astro[adata_astro.obs['diet']=='hfd_5',]\n",
    "    sc.tl.leiden(astro5, resolution=0.5, key_added='cluster5')\n",
    "    astro5.obs['cluster5n'] = astro5.obs['cluster5'].replace({'0': 'c', '1': 'a', '2': 'b'})\n",
    "    sc.write(sc_settings_writedir+'astro5.h5ad', astro5)\n",
    "else:\n",
    "    astro5 = sc.read(sc_settings_writedir+'astro5.h5ad') "
   ]
  },
  {
   "cell_type": "code",
   "execution_count": 49,
   "metadata": {},
   "outputs": [],
   "source": [
    "if bool_recomp == True: \n",
    "    adata_loom5 = scv.read(dir_scv+'MUC26031/possorted_genome_bam_VXMFJ.loom', cache=True)\n",
    "    astro5_v = scv.utils.merge(astro5, adata_loom5)\n",
    "    scv.pl.proportions(astro5_v)\n",
    "    scv.pp.filter_and_normalize(astro5_v, min_shared_counts=20, n_top_genes=2000)\n",
    "    scv.pp.moments(astro5_v, n_pcs=30, n_neighbors=30)\n",
    "    scv.tl.recover_dynamics(astro5_v)\n",
    "    scv.tl.velocity(astro5_v)\n",
    "    scv.tl.velocity_graph(astro5_v)\n",
    "\n",
    "    sc.write(sc_settings_writedir+'astro5_v.h5ad', astro5_v)\n",
    "else:\n",
    "    astro5_v = sc.read(sc_settings_writedir+'astro5_v.h5ad') "
   ]
  },
  {
   "cell_type": "code",
   "execution_count": 50,
   "metadata": {},
   "outputs": [],
   "source": [
    "if bool_plot == True: \n",
    "    cf.plot_umap_marker(astro5, ['cluster5n'], use_raw=False, size=60, frameon=False,\n",
    "                        palette=['darkorange','orangered','darkcyan'])\n",
    "    scv.set_figure_params()\n",
    "    scv.pl.velocity_embedding_stream(astro5_v, basis='umap', color='cluster5n', use_raw=False, size=60, figsize=(6.5,6.5), \n",
    "                                     legend_loc='right margin', palette=['darkorange','orangered','darkcyan'])"
   ]
  },
  {
   "cell_type": "code",
   "execution_count": 51,
   "metadata": {},
   "outputs": [],
   "source": [
    "if bool_plot == True: \n",
    "    labels = 'c', 'a', 'b'\n",
    "    sizes = astro5.obs['cluster5n'].value_counts()\n",
    "\n",
    "    fig1, ax1 = plt.subplots()\n",
    "    ax1.pie(sizes,  labels=labels, autopct='%1.1f%%', startangle=90, pctdistance=1.3, labeldistance=None,\n",
    "            colors=['darkcyan','darkorange','orangered'], textprops={'fontsize': 20, 'color':\"black\"})\n",
    "    ax1.axis('equal')  # Equal aspect ratio ensures that pie is drawn as a circle.\n",
    "    plt.show()"
   ]
  },
  {
   "cell_type": "code",
   "execution_count": 52,
   "metadata": {},
   "outputs": [],
   "source": [
    "if bool_recomp == True: \n",
    "    top_genes = astro5_v.var['fit_likelihood'].sort_values(ascending=False).index\n",
    "\n",
    "    scv.tl.rank_dynamical_genes(astro5_v, groupby='leiden', n_genes=400)\n",
    "    df = scv.get_df(astro5_v, 'rank_dynamical_genes/names')\n",
    "    df.to_csv('hfd5_potential_drivers.csv')\n",
    "    print(df.shape)\n",
    "    df.head(10)"
   ]
  },
  {
   "cell_type": "code",
   "execution_count": 53,
   "metadata": {
    "scrolled": false
   },
   "outputs": [],
   "source": [
    "if bool_plot == True:\n",
    "    scv.tl.latent_time(astro5_v)\n",
    "    top_genes = df['1'] #['Npy','Pcsk1n','Ins2','Il1b','Ifit3b','Flt1','Ucp2','Vamp5','S100b','Gfap','Aldh1l1']\n",
    "    scv.pl.heatmap(astro5_v, var_names=top_genes, sortby='latent_time', col_color='cluster5n', n_convolve=100,\n",
    "                  col_cluster=False, figsize=(10,15), font_scale=1, yticklabels=True)"
   ]
  },
  {
   "cell_type": "code",
   "execution_count": 54,
   "metadata": {},
   "outputs": [],
   "source": [
    "if bool_plot == True:\n",
    "    scv.pl.velocity(astro5_v, var_names=['Ucp2'], figsize=(10,12), #'Gfap', 'Clu','Ucp2','Vamp5'\n",
    "                    colorbar=True, ncols=1, color='cluster5n')\n",
    "    #astro5_v_aldh = sc.read(sc_settings_writedir+'astro5_v_aldh.h5ad')\n",
    "    #scv.pl.velocity(astro5_v_aldh, var_names=['Aldh1l1'], colorbar=True, ncols=1, color='cluster5n')"
   ]
  },
  {
   "cell_type": "markdown",
   "metadata": {},
   "source": [
    "#### hfd_15"
   ]
  },
  {
   "cell_type": "code",
   "execution_count": 55,
   "metadata": {},
   "outputs": [],
   "source": [
    "if bool_recomp == True:\n",
    "    astro15 = adata_astro[adata_astro.obs['diet']=='hfd_15',]\n",
    "    sc.tl.leiden(astro15, resolution=0.5, key_added='cluster15')\n",
    "    astro15.obs['cluster15n'] = astro15.obs['cluster15'].replace({'0': 'c', '1': 'b', '2': 'a', '3': 'd'})\n",
    "    sc.write(sc_settings_writedir+'astro15.h5ad', astro15)\n",
    "else:\n",
    "    astro15 = sc.read(sc_settings_writedir+'astro15.h5ad') "
   ]
  },
  {
   "cell_type": "code",
   "execution_count": 56,
   "metadata": {},
   "outputs": [],
   "source": [
    "if bool_recomp == True: \n",
    "    adata_loom15 = scv.read(dir_scv+'MUC26032/possorted_genome_bam_2UK19.loom', cache=True)\n",
    "    astro15_v = scv.utils.merge(astro15, adata_loom15)\n",
    "    scv.pl.proportions(astro15_v)\n",
    "    scv.pp.filter_and_normalize(astro15_v, min_shared_counts=20, n_top_genes=2000)\n",
    "    scv.pp.moments(astro15_v, n_pcs=30, n_neighbors=30)\n",
    "    scv.tl.recover_dynamics(astro15_v)\n",
    "    scv.tl.velocity(astro15_v)\n",
    "    scv.tl.velocity_graph(astro15_v)\n",
    "    \n",
    "    sc.write(sc_settings_writedir+'astro15_v.h5ad', astro15_v)\n",
    "else:\n",
    "    astro15_v = sc.read(sc_settings_writedir+'astro15_v.h5ad') "
   ]
  },
  {
   "cell_type": "code",
   "execution_count": 57,
   "metadata": {},
   "outputs": [],
   "source": [
    "if bool_plot == True:\n",
    "    cf.plot_umap_marker(astro15, ['cluster15n'], use_raw=False, size=60, frameon=False, \n",
    "                        palette=['darkorange','orangered','darkcyan','lightseagreen'])\n",
    "    scv.pl.velocity_embedding_stream(astro15_v, basis='umap', color='cluster15n', use_raw=True,save='check.png',\n",
    "                                     size=60, legend_loc='right margin',\n",
    "                                     palette=['darkorange','orangered','darkcyan','lightseagreen'])"
   ]
  },
  {
   "cell_type": "code",
   "execution_count": 58,
   "metadata": {},
   "outputs": [],
   "source": [
    "if bool_plot == True:\n",
    "    labels = 'c', 'b', 'a', 'd'\n",
    "    sizes = astro15.obs['cluster15n'].value_counts()\n",
    "\n",
    "    fig1, ax1 = plt.subplots()\n",
    "    ax1.pie(sizes,  labels=labels, autopct='%1.1f%%', startangle=90, pctdistance=1.3, labeldistance=None,\n",
    "            colors=['darkcyan','orangered','darkorange','lightseagreen'], textprops={'fontsize': 20, 'color':\"black\"})\n",
    "    ax1.axis('equal')  # Equal aspect ratio ensures that pie is drawn as a circle.\n",
    "    plt.show()"
   ]
  },
  {
   "cell_type": "code",
   "execution_count": 59,
   "metadata": {},
   "outputs": [],
   "source": [
    "if bool_recomp == True:\n",
    "    top_genes = astro15_v.var['fit_likelihood'].sort_values(ascending=False).index\n",
    "\n",
    "    scv.tl.rank_dynamical_genes(astro15_v, groupby='cluster15', n_genes=400)\n",
    "    df = scv.get_df(astro15_v, 'rank_dynamical_genes/names')\n",
    "    df.to_csv('hfd15_potential_drivers.csv')\n",
    "    print(df.shape)\n",
    "    df.head(10)"
   ]
  },
  {
   "cell_type": "code",
   "execution_count": 60,
   "metadata": {},
   "outputs": [],
   "source": [
    "if bool_plot == True:\n",
    "    scv.tl.latent_time(astro15_v)\n",
    "    top_genes = df['1'] # ['Apoe','Ift43','Cldn10','Tpt1','Slc1a2','Slc3a2']\n",
    "    scv.pl.heatmap(astro15_v, var_names=top_genes, sortby='latent_time', col_color='cluster15n', n_convolve=100,\n",
    "                  col_cluster=False, figsize=(10,15), font_scale=1, yticklabels=True)"
   ]
  },
  {
   "cell_type": "code",
   "execution_count": 61,
   "metadata": {},
   "outputs": [],
   "source": [
    "if bool_plot == True:\n",
    "    scv.pl.velocity(astro15_v, var_names=['Apoe'], figsize=(10,12),  # 'Ift43','Apoe'\n",
    "                    colorbar=True, ncols=1, color='cluster15n')\n",
    "    #astro15_v_aldh = sc.read(sc_settings_writedir+'astro15_v_aldh.h5ad')\n",
    "    #scv.pl.velocity(astro15_v_aldh, var_names=['Aldh1l1'], colorbar=True, ncols=1, color='cluster15n')"
   ]
  },
  {
   "cell_type": "code",
   "execution_count": null,
   "metadata": {},
   "outputs": [],
   "source": []
  },
  {
   "cell_type": "code",
   "execution_count": null,
   "metadata": {},
   "outputs": [],
   "source": []
  },
  {
   "cell_type": "code",
   "execution_count": 62,
   "metadata": {},
   "outputs": [],
   "source": [
    "if bool_plot == True:\n",
    "    adata_astro.obs['cluster'] = list(pd.concat([astro0.obs['cluster0'],\n",
    "                                                 astro5.obs['cluster5'],\n",
    "                                                 astro15.obs['cluster15']]))\n",
    "    adata_astro.obs['diet_cluster'] = adata_astro.obs['diet'].astype(str) + '_' + adata_astro.obs['cluster'].astype(str)\n",
    "    adata_astro.obs['diet_location'] = adata_astro.obs['diet_cluster'].replace({'chow_2': 'chow_up',\n",
    "                                                                                'chow_0': 'chow_down',\n",
    "                                                                                'chow_1': 'chow_down',\n",
    "                                                                                'chow_3': 'chow_down',\n",
    "                                                                                'hfd_5_0': 'hfd_5_down',\n",
    "                                                                                'hfd_5_1': 'hfd_5_up',\n",
    "                                                                                'hfd_5_2': 'hfd_5_up',\n",
    "                                                                                'hfd_15_0': 'hfd_15_down',\n",
    "                                                                                'hfd_15_1': 'hfd_15_up',\n",
    "                                                                                'hfd_15_2': 'hfd_15_up',\n",
    "                                                                                'hfd_15_3': 'hfd_15_down'})"
   ]
  },
  {
   "cell_type": "markdown",
   "metadata": {},
   "source": [
    "#### All diets"
   ]
  },
  {
   "cell_type": "code",
   "execution_count": 63,
   "metadata": {
    "scrolled": false
   },
   "outputs": [],
   "source": [
    "if bool_plot == True:\n",
    "    adata_loom_all = adata_loom0.concatenate([adata_loom5, adata_loom15])\n",
    "    astro_all_v = scv.utils.merge(adata_astro, adata_loom_all)\n",
    "    scv.pl.proportions(astro_all_v)\n",
    "    scv.pp.filter_and_normalize(astro_all_v, min_shared_counts=20, n_top_genes=2000)\n",
    "    scv.pp.moments(astro_all_v, n_pcs=30, n_neighbors=30)\n",
    "    scv.tl.recover_dynamics(astro_all_v)\n",
    "    scv.tl.velocity(astro_all_v)\n",
    "    scv.tl.velocity_graph(astro_all_v)\n",
    "    sc.write(sc_settings_writedir+'astro_all_v.h5ad', astro_all_v)\n",
    "else:\n",
    "    astro_all_v = sc.read(sc_settings_writedir+'astro_all_v.h5ad') "
   ]
  },
  {
   "cell_type": "code",
   "execution_count": 64,
   "metadata": {},
   "outputs": [],
   "source": [
    "if bool_plot == True:\n",
    "    cf.plot_umap_marker(adata_astro, ['leiden'], use_raw=False, size=60, frameon=False)\n",
    "    scv.pl.velocity_embedding_stream(astro_all_v, basis='umap', color='leiden', use_raw=True, size=60, \n",
    "                                     legend_loc='right margin')"
   ]
  },
  {
   "cell_type": "code",
   "execution_count": 65,
   "metadata": {},
   "outputs": [],
   "source": [
    "if bool_plot == True:\n",
    "    top_genes = astro_all_v.var['fit_likelihood'].sort_values(ascending=False).index\n",
    "\n",
    "    scv.tl.rank_dynamical_genes(astro_all_v, groupby='leiden', n_genes=400)\n",
    "    df = scv.get_df(astro_all_v, 'rank_dynamical_genes/names')\n",
    "    df.to_csv('astro_all_potential_drivers.csv')\n",
    "    print(df.shape)\n",
    "    df.head(10)"
   ]
  },
  {
   "cell_type": "markdown",
   "metadata": {},
   "source": [
    "# Differential gene expression"
   ]
  },
  {
   "cell_type": "markdown",
   "metadata": {},
   "source": [
    "### diet effect"
   ]
  },
  {
   "cell_type": "code",
   "execution_count": 66,
   "metadata": {},
   "outputs": [],
   "source": [
    "if bool_plot == True:    \n",
    "    sc.tl.rank_genes_groups(adata_astro, 'diet', groups=['hfd_15'], reference='chow', method='t-test_overestim_var')\n",
    "\n",
    "    result = adata_astro.uns['rank_genes_groups']\n",
    "    groups = result['names'].dtype.names\n",
    "    df = pd.DataFrame({group + '_' + key[:1]: result[key][group]\n",
    "                       for group in groups for key in ['names', 'logfoldchanges', 'pvals_adj']})\n",
    "\n",
    "    df.columns = ['gene', 'log2fc', 'pval']\n",
    "    df.to_csv(path_or_buf = dir_tables+\"chow_vs_hfd_15.csv\", sep=\"\\t\")\n",
    "    df[df['gene'].isin(marker_genes_dict['Astrocytes'])]"
   ]
  },
  {
   "cell_type": "markdown",
   "metadata": {},
   "source": [
    "### diet effect of up and down clusters"
   ]
  },
  {
   "cell_type": "code",
   "execution_count": 67,
   "metadata": {},
   "outputs": [],
   "source": [
    "if bool_plot == True:\n",
    "    sc.tl.rank_genes_groups(adata_astro, 'diet_location', groups=['hfd_15_down'], reference='hfd_15_up',\n",
    "                             method='t-test_overestim_var') \n",
    "\n",
    "    result = adata_astro.uns['rank_genes_groups']\n",
    "    groups = result['names'].dtype.names\n",
    "    df = pd.DataFrame({group + '_' + key[:1]: result[key][group]\n",
    "                      for group in groups for key in ['names', 'logfoldchanges', 'pvals_adj']})\n",
    "\n",
    "    df.columns = ['gene', 'log2fc', 'pval']\n",
    "    df.to_csv(path_or_buf = dir_tables+\"hfd_15_up_vs_hfd_15_down.csv\", sep=\"\\t\")\n",
    "    df[df['gene'].isin(marker_genes_dict['Astrocytes'])]"
   ]
  },
  {
   "cell_type": "markdown",
   "metadata": {},
   "source": [
    "### diet effect comparing clusters"
   ]
  },
  {
   "cell_type": "code",
   "execution_count": 68,
   "metadata": {},
   "outputs": [],
   "source": [
    "if bool_plot == True:\n",
    "    sc.tl.rank_genes_groups(adata_astro, 'diet_cluster', groups=['hfd_15_2'], reference='chow_2',\n",
    "                             method='t-test_overestim_var') \n",
    "\n",
    "    result = adata_astro.uns['rank_genes_groups']\n",
    "    groups = result['names'].dtype.names\n",
    "    df = pd.DataFrame({group + '_' + key[:1]: result[key][group]\n",
    "                      for group in groups for key in ['names', 'logfoldchanges', 'pvals_adj']})\n",
    "\n",
    "    df.columns = ['gene', 'log2fc', 'pval']\n",
    "    df.to_csv(path_or_buf = dir_tables+\"chow_2_vs_hfd_15_2.csv\", sep=\"\\t\")\n",
    "    df[df['gene'].isin(marker_genes_dict['Astrocytes'])]"
   ]
  },
  {
   "cell_type": "markdown",
   "metadata": {},
   "source": [
    "## Astorcyte markers per diet"
   ]
  },
  {
   "cell_type": "markdown",
   "metadata": {},
   "source": [
    "#### chow"
   ]
  },
  {
   "cell_type": "code",
   "execution_count": 69,
   "metadata": {
    "scrolled": false
   },
   "outputs": [],
   "source": [
    "if bool_plot == True:\n",
    "    cf.plot_umap_marker(astro0, ['Gfap', 'Aldh1l1'], color_map=mymap, size=30, \n",
    "                        save=\"_Gfap_Aldh1l1_chow.png\", use_raw=False, vmax=3.4056416, frameon=False)\n",
    "    cf.plot_umap_marker(astro0, ['Slc1a2', 'Slc1a3', 'Aqp4', 'Gja1', 'Gjb6', 'Atp1b2'], color_map=mymap,\n",
    "                        size=30, save=\"_astrocyte_markers_chow.png\", use_raw=False, vmax=4.1836486, frameon=False)"
   ]
  },
  {
   "cell_type": "markdown",
   "metadata": {},
   "source": [
    "#### hfd 5"
   ]
  },
  {
   "cell_type": "code",
   "execution_count": 70,
   "metadata": {
    "scrolled": false
   },
   "outputs": [],
   "source": [
    "if bool_plot == True:\n",
    "    cf.plot_umap_marker(astro5, ['Gfap', 'Aldh1l1'], color_map=mymap, size=30, \n",
    "                        save=\"_Gfap_Aldh1l1_hfd5.png\", use_raw=False, vmax=3.4056416, frameon=False)\n",
    "    cf.plot_umap_marker(astro5, ['Slc1a2', 'Slc1a3', 'Aqp4', 'Gja1', 'Gjb6', 'Atp1b2'], color_map=mymap,\n",
    "                        size=30, save=\"_astrocyte_markers_hfd5.png\", use_raw=False, vmax=4.1836486, frameon=False)"
   ]
  },
  {
   "cell_type": "markdown",
   "metadata": {},
   "source": [
    "#### hfd 15"
   ]
  },
  {
   "cell_type": "code",
   "execution_count": 71,
   "metadata": {
    "scrolled": false
   },
   "outputs": [],
   "source": [
    "if bool_plot == True:\n",
    "    cf.plot_umap_marker(astro15, ['Gfap', 'Aldh1l1'], color_map=mymap, size=30, \n",
    "                        save=\"_Gfap_Aldh1l1_hfd15.png\", use_raw = False, vmax=3.4056416, frameon=False)\n",
    "    cf.plot_umap_marker(astro15, ['Slc1a2', 'Slc1a3', 'Aqp4', 'Gja1', 'Gjb6', 'Atp1b2'], color_map=mymap,\n",
    "                        size=30, save=\"_astrocyte_markers_hfd15.png\", use_raw = False, vmax=4.1836486, frameon=False)"
   ]
  },
  {
   "cell_type": "markdown",
   "metadata": {},
   "source": [
    "# Counting"
   ]
  },
  {
   "cell_type": "code",
   "execution_count": 79,
   "metadata": {},
   "outputs": [],
   "source": [
    "if bool_plot == True:\n",
    "    astro0.var['n_cells'] = np.squeeze(np.asarray((astro0.raw.X > 0).sum(0)))\n",
    "    astro5.var['n_cells'] = np.squeeze(np.asarray((astro5.raw.X > 0).sum(0)))\n",
    "    astro15.var['n_cells'] = np.squeeze(np.asarray((astro15.raw.X > 0).sum(0)))\n",
    "\n",
    "    p0_5 = (astro5.var[astro5.var.index.isin(marker_genes_dict['Astrocytes'])]['n_cells']/astro0.var[astro0.var.index.isin(marker_genes_dict['Astrocytes'])]['n_cells']-1)*100\n",
    "    p5_15 = (astro15.var[astro15.var.index.isin(marker_genes_dict['Astrocytes'])]['n_cells']/astro5.var[astro5.var.index.isin(marker_genes_dict['Astrocytes'])]['n_cells']-1)*100\n",
    "    p0_15 = (astro15.var[astro15.var.index.isin(marker_genes_dict['Astrocytes'])]['n_cells']/astro0.var[astro0.var.index.isin(marker_genes_dict['Astrocytes'])]['n_cells']-1)*100\n",
    "\n",
    "    p0_5.to_csv('substraction_cells_hfd5-chow.csv')\n",
    "    p5_15.to_csv('substraction_cells_hfd15-hfd5.csv')"
   ]
  },
  {
   "cell_type": "code",
   "execution_count": 80,
   "metadata": {},
   "outputs": [],
   "source": [
    "if bool_plot == True:\n",
    "    fig = plt.figure()\n",
    "    fig.set_size_inches(9, 5)\n",
    "    ax = fig.add_axes([0,0,1,1])\n",
    "    langs = p0_5.index\n",
    "    students = p0_5\n",
    "    ax.bar(langs,students)\n",
    "    plt.xlabel(\"astrocyte markers\")\n",
    "    plt.ylabel(\"percent of increase comparing to chow (%)\")\n",
    "    plt.title(\"Substraction HFD_5 - chow\")\n",
    "    plt.show()"
   ]
  },
  {
   "cell_type": "code",
   "execution_count": 81,
   "metadata": {},
   "outputs": [],
   "source": [
    "if bool_plot == True:\n",
    "    fig = plt.figure()\n",
    "    fig.set_size_inches(9, 5)\n",
    "    ax = fig.add_axes([0,0,1,1])\n",
    "    langs = p5_15.index\n",
    "    students = p5_15\n",
    "    ax.bar(langs,students)\n",
    "    plt.xlabel(\"astrocyte markers\")\n",
    "    plt.ylabel(\"percentage of increase comparing to HFD_5 (%)\")\n",
    "    plt.title(\"Substraction HFD_15 - HFD_5\")\n",
    "    plt.show()"
   ]
  },
  {
   "cell_type": "markdown",
   "metadata": {},
   "source": [
    "### up cluster"
   ]
  },
  {
   "cell_type": "code",
   "execution_count": 68,
   "metadata": {},
   "outputs": [],
   "source": [
    "if bool_plot == True:\n",
    "    astro0up = adata_astro[adata_astro.obs['diet_location']=='chow_up',]\n",
    "    astro5up = adata_astro[adata_astro.obs['diet_location']=='hfd_5_up',]\n",
    "    astro15up = adata_astro[adata_astro.obs['diet_location']=='hfd_15_up',]\n",
    "    \n",
    "    astro0up.var['n_cells'] = (astro0up.X > 0).sum(0)\n",
    "    astro5up.var['n_cells'] = (astro5up.X > 0).sum(0)\n",
    "    astro15up.var['n_cells'] = (astro15up.X > 0).sum(0)\n",
    "\n",
    "    p0_5up = astro5up.var[astro5up.var.index.isin(marker_genes_dict['Astrocytes'])]['n_cells']/astro0up.var[astro0up.var.index.isin(marker_genes_dict['Astrocytes'])]['n_cells']\n",
    "    p0_15up = astro15up.var[astro15up.var.index.isin(marker_genes_dict['Astrocytes'])]['n_cells']/astro0up.var[astro0up.var.index.isin(marker_genes_dict['Astrocytes'])]['n_cells']\n",
    "    p5_15up = astro15up.var[astro15up.var.index.isin(marker_genes_dict['Astrocytes'])]['n_cells']/astro5up.var[astro5up.var.index.isin(marker_genes_dict['Astrocytes'])]['n_cells']"
   ]
  },
  {
   "cell_type": "code",
   "execution_count": 69,
   "metadata": {},
   "outputs": [],
   "source": [
    "if bool_plot == True:\n",
    "    fig = plt.figure()\n",
    "    fig.set_size_inches(9, 5)\n",
    "    ax = fig.add_axes([0,0,1,1])\n",
    "    langs = p0_5up.index\n",
    "    students = (p0_5up-1)*100\n",
    "    ax.bar(langs,students)\n",
    "    plt.xlabel(\"astrocyte markers\")\n",
    "    plt.ylabel(\"percent of increase comparing to chow (%)\")\n",
    "    plt.title(\"Substraction HFD_5-Chow - up\")\n",
    "    plt.show()"
   ]
  },
  {
   "cell_type": "code",
   "execution_count": 70,
   "metadata": {},
   "outputs": [],
   "source": [
    "if bool_plot == True:\n",
    "    fig = plt.figure()\n",
    "    fig.set_size_inches(9, 5)\n",
    "    ax = fig.add_axes([0,0,1,1])\n",
    "    langs = p0_15up.index\n",
    "    students = (p0_15up-1)*100\n",
    "    ax.bar(langs,students)\n",
    "    plt.xlabel(\"astrocyte markers\")\n",
    "    plt.ylabel(\"percent of increase comparing to chow (%)\")\n",
    "    plt.title(\"Substraction HFD_15-Chow - up\")\n",
    "    plt.show()"
   ]
  },
  {
   "cell_type": "code",
   "execution_count": 71,
   "metadata": {},
   "outputs": [],
   "source": [
    "if bool_plot == True:\n",
    "    fig = plt.figure()\n",
    "    fig.set_size_inches(9, 5)\n",
    "    ax = fig.add_axes([0,0,1,1])\n",
    "    langs = p5_15up.index\n",
    "    students = (p5_15up-1)*100\n",
    "    ax.bar(langs,students)\n",
    "    plt.xlabel(\"astrocyte markers\")\n",
    "    plt.ylabel(\"percentage of increase comparing to HFD_5 (%)\")\n",
    "    plt.title(\"Substraction HFD_15-HFD_5 - up\")\n",
    "    plt.show()"
   ]
  },
  {
   "cell_type": "markdown",
   "metadata": {},
   "source": [
    "### down clusters"
   ]
  },
  {
   "cell_type": "code",
   "execution_count": 72,
   "metadata": {},
   "outputs": [],
   "source": [
    "if bool_plot == True:\n",
    "    astro0down = adata_astro[adata_astro.obs['diet_location']=='chow_down',]\n",
    "    astro5down = adata_astro[adata_astro.obs['diet_location']=='hfd_5_down',]\n",
    "    astro15down = adata_astro[adata_astro.obs['diet_location']=='hfd_15_down',]\n",
    "    \n",
    "    astro0down.var['n_cells'] = (astro0down.X > 0).sum(0)\n",
    "    astro5down.var['n_cells'] = (astro5down.X > 0).sum(0)\n",
    "    astro15down.var['n_cells'] = (astro15down.X > 0).sum(0)\n",
    "\n",
    "    p0_5down = astro5down.var[astro5down.var.index.isin(marker_genes_dict['Astrocytes'])]['n_cells']/astro0down.var[astro0down.var.index.isin(marker_genes_dict['Astrocytes'])]['n_cells']\n",
    "    p0_15down = astro15down.var[astro15down.var.index.isin(marker_genes_dict['Astrocytes'])]['n_cells']/astro0down.var[astro0down.var.index.isin(marker_genes_dict['Astrocytes'])]['n_cells']\n",
    "    p5_15down = astro15down.var[astro15down.var.index.isin(marker_genes_dict['Astrocytes'])]['n_cells']/astro5down.var[astro5down.var.index.isin(marker_genes_dict['Astrocytes'])]['n_cells']"
   ]
  },
  {
   "cell_type": "code",
   "execution_count": 73,
   "metadata": {},
   "outputs": [],
   "source": [
    "if bool_plot == True:\n",
    "    fig = plt.figure()\n",
    "    fig.set_size_inches(9, 5)\n",
    "    ax = fig.add_axes([0,0,1,1])\n",
    "    langs = p0_5down.index\n",
    "    students = (p0_5down-1)*100\n",
    "    ax.bar(langs,students)\n",
    "    plt.xlabel(\"astrocyte markers\")\n",
    "    plt.ylabel(\"percent of increase comparing to chow (%)\")\n",
    "    plt.title(\"Substraction HFD_5-Chow - down\")\n",
    "    plt.show()"
   ]
  },
  {
   "cell_type": "code",
   "execution_count": 74,
   "metadata": {},
   "outputs": [],
   "source": [
    "if bool_plot == True:\n",
    "    fig = plt.figure()\n",
    "    fig.set_size_inches(9, 5)\n",
    "    ax = fig.add_axes([0,0,1,1])\n",
    "    langs = p0_15down.index\n",
    "    students = (p0_15down-1)*100\n",
    "    ax.bar(langs,students)\n",
    "    plt.xlabel(\"astrocyte markers\")\n",
    "    plt.ylabel(\"percent of increase comparing to chow (%)\")\n",
    "    plt.title(\"Substraction HFD_15-Chow - down\")\n",
    "    plt.show()"
   ]
  },
  {
   "cell_type": "code",
   "execution_count": 75,
   "metadata": {},
   "outputs": [],
   "source": [
    "if bool_plot == True:\n",
    "    fig = plt.figure()\n",
    "    fig.set_size_inches(9, 5)\n",
    "    ax = fig.add_axes([0,0,1,1])\n",
    "    langs = p5_15down.index\n",
    "    students = (p5_15down-1)*100\n",
    "    ax.bar(langs,students)\n",
    "    plt.xlabel(\"astrocyte markers\")\n",
    "    plt.ylabel(\"percentage of increase comparing to HFD_5 (%)\")\n",
    "    plt.title(\"Substraction HFD_15b-HFD_5 - down\")\n",
    "    plt.show()"
   ]
  },
  {
   "cell_type": "markdown",
   "metadata": {},
   "source": [
    "### up vs down clusters"
   ]
  },
  {
   "cell_type": "code",
   "execution_count": 76,
   "metadata": {},
   "outputs": [],
   "source": [
    "if bool_plot == True:\n",
    "    p0down_0up = astro0down.var[astro0down.var.index.isin(marker_genes_dict['Astrocytes'])]['n_cells']/astro0up.var[astro0up.var.index.isin(marker_genes_dict['Astrocytes'])]['n_cells']\n",
    "    p5down_5up = astro5down.var[astro0down.var.index.isin(marker_genes_dict['Astrocytes'])]['n_cells']/astro5up.var[astro5up.var.index.isin(marker_genes_dict['Astrocytes'])]['n_cells']"
   ]
  },
  {
   "cell_type": "code",
   "execution_count": 77,
   "metadata": {},
   "outputs": [],
   "source": [
    "if bool_plot == True:\n",
    "    fig = plt.figure()\n",
    "    fig.set_size_inches(9, 5)\n",
    "    ax = fig.add_axes([0,0,1,1])\n",
    "    langs = p0down_0up.index\n",
    "    students = (p0down_0up-1)*100\n",
    "    ax.bar(langs,students)\n",
    "    plt.xlabel(\"astrocyte markers\")\n",
    "    plt.ylabel(\"percentage of increase comparing to chow up (%)\")\n",
    "    plt.title(\"Substraction chow_down-chow_up\")\n",
    "    plt.show()"
   ]
  },
  {
   "cell_type": "code",
   "execution_count": 78,
   "metadata": {},
   "outputs": [],
   "source": [
    "if bool_plot == True:\n",
    "    fig = plt.figure()\n",
    "    fig.set_size_inches(9, 5)\n",
    "    ax = fig.add_axes([0,0,1,1])\n",
    "    langs =  p5down_5up.index\n",
    "    students = (p5down_5up-1)*100\n",
    "    ax.bar(langs,students)\n",
    "    plt.xlabel(\"astrocyte markers\")\n",
    "    plt.ylabel(\"percentage of increase comparing to hfd5 up (%)\")\n",
    "    plt.title(\"Substraction hfd5_down-hfd5_up\")\n",
    "    plt.show()"
   ]
  },
  {
   "cell_type": "code",
   "execution_count": null,
   "metadata": {},
   "outputs": [],
   "source": []
  },
  {
   "cell_type": "code",
   "execution_count": null,
   "metadata": {},
   "outputs": [],
   "source": []
  },
  {
   "cell_type": "code",
   "execution_count": null,
   "metadata": {},
   "outputs": [],
   "source": []
  },
  {
   "cell_type": "code",
   "execution_count": null,
   "metadata": {},
   "outputs": [],
   "source": []
  },
  {
   "cell_type": "code",
   "execution_count": null,
   "metadata": {},
   "outputs": [],
   "source": []
  }
 ],
 "metadata": {
  "kernelspec": {
   "display_name": "Python 3",
   "language": "python",
   "name": "python3"
  },
  "language_info": {
   "codemirror_mode": {
    "name": "ipython",
    "version": 3
   },
   "file_extension": ".py",
   "mimetype": "text/x-python",
   "name": "python",
   "nbconvert_exporter": "python",
   "pygments_lexer": "ipython3",
   "version": "3.9.2"
  },
  "toc": {
   "base_numbering": 1,
   "nav_menu": {},
   "number_sections": true,
   "sideBar": true,
   "skip_h1_title": false,
   "title_cell": "Table of Contents",
   "title_sidebar": "Contents",
   "toc_cell": false,
   "toc_position": {},
   "toc_section_display": true,
   "toc_window_display": true
  }
 },
 "nbformat": 4,
 "nbformat_minor": 2
}
