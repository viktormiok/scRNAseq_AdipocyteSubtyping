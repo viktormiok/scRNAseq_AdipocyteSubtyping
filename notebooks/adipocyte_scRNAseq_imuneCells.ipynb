{
 "cells": [
  {
   "cell_type": "markdown",
   "metadata": {},
   "source": [
    "# Analysis of the scRNA-seq immune cells from adipocyte tissue"
   ]
  },
  {
   "cell_type": "markdown",
   "metadata": {},
   "source": [
    "## Table of contents:\n",
    "\n",
    "* <a href=#Load>Load Packages and Set Global Variables</a>\n",
    "    * <a href=#Imports>Imports and Settings</a>\n",
    "    * <a href=#Global>Global Variables</a> \n",
    "* <a href=#Dataloading>Loading Data, Quality Control and Preprocessing</a>\n",
    "    * <a href=#Counts>Gene numbers and counts with and without mitochondrial RNA</a>\n",
    "* <a href=#Allcells>All cells - normalization, projection and clustering</a>\n",
    "* <a href=#Define>Define Cell Types</a>\n",
    "* <a href=#astrocytes>Astrocytes Only</a>\n",
    "    * <a href=#Embedding>Embeddings and Clustering</a>\n",
    "    * <a href=#adipmarkers>Astrocyte Marker Analysis</a>\n",
    "    * <a href=#topde>Top ranking DE Genes</a>\n",
    "    * <a href=#count_dist>Count distribution for Gfap, Aldh1l1 and Slc1a3</a>\n",
    "* <a href=#traject>Gfap and Aldh1l1 only</a>"
   ]
  },
  {
   "cell_type": "markdown",
   "metadata": {},
   "source": [
    "# Load Packages and Set Global Variables"
   ]
  },
  {
   "cell_type": "markdown",
   "metadata": {},
   "source": [
    "<a id=\"imports\"></a>"
   ]
  },
  {
   "cell_type": "markdown",
   "metadata": {},
   "source": [
    "## Imports and Settings"
   ]
  },
  {
   "cell_type": "code",
   "execution_count": 1,
   "metadata": {},
   "outputs": [
    {
     "name": "stderr",
     "output_type": "stream",
     "text": [
      "WARNING: If you miss a compact list, please try `print_header`!\n"
     ]
    },
    {
     "name": "stdout",
     "output_type": "stream",
     "text": [
      "-----\n",
      "anndata     0.7.5\n",
      "scanpy      1.7.1\n",
      "sinfo       0.3.1\n",
      "-----\n",
      "PIL                 8.1.2\n",
      "PyObjCTools         NA\n",
      "anndata             0.7.5\n",
      "appdirs             1.4.4\n",
      "appnope             0.1.2\n",
      "autoreload          NA\n",
      "backcall            0.2.0\n",
      "batchglm            v0.7.4\n",
      "bioservices         1.7.11\n",
      "bs4                 4.9.3\n",
      "certifi             2020.12.05\n",
      "cffi                1.14.5\n",
      "chardet             4.0.0\n",
      "cloudpickle         1.6.0\n",
      "colorama            0.4.4\n",
      "colorlog            NA\n",
      "custom_functions    NA\n",
      "cycler              0.10.0\n",
      "cython_runtime      NA\n",
      "dask                2021.03.0\n",
      "dateutil            2.8.1\n",
      "decorator           4.4.2\n",
      "diffxpy             v0.7.4\n",
      "docutils            0.16\n",
      "easydev             0.11.0\n",
      "get_version         2.1\n",
      "gprofiler           1.0.0\n",
      "gseapy              0.10.4\n",
      "h5py                3.2.1\n",
      "idna                2.10\n",
      "igraph              0.9.0\n",
      "ipykernel           5.4.3\n",
      "ipython_genutils    0.2.0\n",
      "ipywidgets          7.6.3\n",
      "jedi                0.17.2\n",
      "joblib              1.0.1\n",
      "kiwisolver          1.3.1\n",
      "legacy_api_wrap     1.2\n",
      "leidenalg           0.8.3\n",
      "littleutils         NA\n",
      "llvmlite            0.36.0\n",
      "lxml                4.6.3\n",
      "matplotlib          3.3.4\n",
      "matplotlib_venn     0.11.6\n",
      "mpl_toolkits        NA\n",
      "natsort             7.1.1\n",
      "numba               0.53.1\n",
      "numexpr             2.7.3\n",
      "numpy               1.20.1\n",
      "outdated            0.2.1\n",
      "packaging           20.9\n",
      "pandas              1.2.3\n",
      "pandas_flavor       NA\n",
      "parso               0.7.0\n",
      "patsy               0.5.1\n",
      "pexpect             4.8.0\n",
      "pickleshare         0.7.5\n",
      "pingouin            0.3.12\n",
      "pkg_resources       NA\n",
      "prompt_toolkit      3.0.14\n",
      "psutil              5.8.0\n",
      "ptyprocess          0.7.0\n",
      "pyexpat             NA\n",
      "pygments            2.7.4\n",
      "pylab               NA\n",
      "pyparsing           2.4.7\n",
      "pytz                2021.1\n",
      "requests            2.25.1\n",
      "requests_cache      0.5.2\n",
      "scanpy              1.7.1\n",
      "scipy               1.6.1\n",
      "scvelo              0.2.3\n",
      "seaborn             0.11.1\n",
      "sinfo               0.3.1\n",
      "six                 1.15.0\n",
      "sklearn             0.24.1\n",
      "soupsieve           2.2.1\n",
      "sparse              0.12.0\n",
      "sphinxcontrib       NA\n",
      "statsmodels         0.12.2\n",
      "storemagic          NA\n",
      "tables              3.6.1\n",
      "tabulate            0.8.9\n",
      "texttable           1.6.3\n",
      "tlz                 0.11.1\n",
      "toolz               0.11.1\n",
      "tornado             6.1\n",
      "traitlets           5.0.5\n",
      "typing_extensions   NA\n",
      "urllib3             1.26.3\n",
      "wcwidth             0.2.5\n",
      "wrapt               1.12.1\n",
      "xarray              0.18.2\n",
      "yaml                5.4.1\n",
      "zmq                 22.0.2\n",
      "zope                NA\n",
      "-----\n",
      "IPython             7.20.0\n",
      "jupyter_client      6.1.11\n",
      "jupyter_core        4.7.1\n",
      "notebook            6.2.0\n",
      "-----\n",
      "Python 3.9.2 (v3.9.2:1a79785e3e, Feb 19 2021, 09:06:10) [Clang 6.0 (clang-600.0.57)]\n",
      "macOS-10.16-x86_64-i386-64bit\n",
      "12 logical CPU cores, i386\n",
      "-----\n",
      "Session information updated at 2022-03-28 08:36\n",
      "\n",
      "3.9.2 (v3.9.2:1a79785e3e, Feb 19 2021, 09:06:10) \n",
      "[Clang 6.0 (clang-600.0.57)]\n"
     ]
    }
   ],
   "source": [
    "import numpy as np\n",
    "import scanpy as sc\n",
    "import scipy as sci\n",
    "import scipy.sparse\n",
    "import pandas as pd\n",
    "import seaborn as sb\n",
    "import scvelo as scv\n",
    "import matplotlib as mpl\n",
    "import matplotlib.pyplot as plt\n",
    "from matplotlib import colors\n",
    "from gprofiler import GProfiler\n",
    "import custom_functions as cf\n",
    "from matplotlib_venn import venn3_unweighted\n",
    "from scipy import stats\n",
    "import pingouin as pg\n",
    "import matplotlib_venn\n",
    "import statistics\n",
    "import gseapy\n",
    "import sys\n",
    "import re\n",
    "import os\n",
    "\n",
    "import batchglm\n",
    "import diffxpy.api as de\n",
    "\n",
    "import warnings\n",
    "warnings.filterwarnings('ignore')\n",
    "\n",
    "%load_ext autoreload\n",
    "%autoreload 2\n",
    "sc.settings.verbosity=3 # amount of output\n",
    "\n",
    "base_dir='/Users/viktorian.miok/Documents/consultation/Xiaocheng/'\n",
    "dat_start='/Users/viktorian.miok/Documents/consultation/Altun-Ussar/data/'\n",
    "dat_end='/count_matrices/filtered_gene_bc_matrices/mm10_ensrel94/'\n",
    "dir_out='/Users/viktorian.miok/Documents/consultation/Xiaocheng/results/'\n",
    "dir_tables=dir_out+'tables/'\n",
    "sc_settings_figdir=dir_out+'figures/'\n",
    "sc_settings_writedir=dir_out+'anndata/'\n",
    "sc.logging.print_versions()\n",
    "os.chdir(dir_out)\n",
    "sc.settings.set_figure_params(dpi=80, scanpy=True)\n",
    "print (sys.version)"
   ]
  },
  {
   "cell_type": "code",
   "execution_count": 2,
   "metadata": {},
   "outputs": [],
   "source": [
    "#Define a nice colour map for gene expression\n",
    "colors2=plt.cm.Reds(np.linspace(0, 1, 128))\n",
    "colors3=plt.cm.Greys_r(np.linspace(0.7,0.8,20))\n",
    "colorsComb=np.vstack([colors3, colors2])\n",
    "mymap=colors.LinearSegmentedColormap.from_list('my_colormap', colorsComb)\n",
    "sc.set_figure_params(scanpy=True, fontsize=17)"
   ]
  },
  {
   "cell_type": "markdown",
   "metadata": {},
   "source": [
    "## Global Variables"
   ]
  },
  {
   "cell_type": "markdown",
   "metadata": {},
   "source": [
    "All embeddings and clusterings can be saved and loaded into this script. Be carful with overwriting cluster caches as soon as cell type annotation has started as cluster labels may be shuffled."
   ]
  },
  {
   "cell_type": "markdown",
   "metadata": {},
   "source": [
    "Set whether anndata objects are recomputed or loaded from cache."
   ]
  },
  {
   "cell_type": "code",
   "execution_count": 3,
   "metadata": {},
   "outputs": [],
   "source": [
    "bool_recomp=False"
   ]
  },
  {
   "cell_type": "markdown",
   "metadata": {},
   "source": [
    "Set whether clustering is recomputed or loaded from saved .obs file. Loading makes sense if the clustering changes due to a change in scanpy or one of its dependencies and the number of clusters or the cluster labels change accordingly."
   ]
  },
  {
   "cell_type": "code",
   "execution_count": 4,
   "metadata": {},
   "outputs": [],
   "source": [
    "bool_recluster=False"
   ]
  },
  {
   "cell_type": "markdown",
   "metadata": {},
   "source": [
    "Set whether velocity is recomputed or loaded from saved .obs file."
   ]
  },
  {
   "cell_type": "code",
   "execution_count": 5,
   "metadata": {},
   "outputs": [],
   "source": [
    "bool_revelocity=False"
   ]
  },
  {
   "cell_type": "markdown",
   "metadata": {},
   "source": [
    "Set whether cluster cache is overwritten. Note that the cache exists for reproducibility of clustering, see above."
   ]
  },
  {
   "cell_type": "code",
   "execution_count": 6,
   "metadata": {},
   "outputs": [],
   "source": [
    "bool_write_cluster_cache=False"
   ]
  },
  {
   "cell_type": "markdown",
   "metadata": {},
   "source": [
    "Set whether to produce plots, set to False for test runs."
   ]
  },
  {
   "cell_type": "code",
   "execution_count": 7,
   "metadata": {},
   "outputs": [],
   "source": [
    "bool_plot=False"
   ]
  },
  {
   "cell_type": "markdown",
   "metadata": {},
   "source": [
    "Set whether to produce only curently interesting plots for ploting"
   ]
  },
  {
   "cell_type": "code",
   "execution_count": 8,
   "metadata": {},
   "outputs": [],
   "source": [
    "bool_plot_current=True"
   ]
  },
  {
   "cell_type": "markdown",
   "metadata": {},
   "source": [
    "Set whether observations should be calculated. If false, it is necessary to read cacheed file that contains the necssary information. It then shows the the distributions of counts and genes, as well as mt_frac after filtering. \n",
    "Set to true in order to see the data before filtering and follow the decisions for cutoffs."
   ]
  },
  {
   "cell_type": "code",
   "execution_count": 9,
   "metadata": {},
   "outputs": [],
   "source": [
    "bool_create_observations=True"
   ]
  },
  {
   "cell_type": "markdown",
   "metadata": {},
   "source": [
    "<a id=\"Dataloading\"></a>"
   ]
  },
  {
   "cell_type": "markdown",
   "metadata": {},
   "source": [
    "# Loading Data, Quality Control and Preprocessing"
   ]
  },
  {
   "cell_type": "markdown",
   "metadata": {},
   "source": [
    "Read the data in:"
   ]
  },
  {
   "cell_type": "code",
   "execution_count": 10,
   "metadata": {},
   "outputs": [],
   "source": [
    "if bool_recomp:\n",
    "    adata87 = sc.read_10x_mtx(path=dat_start+'MUC8387'+dat_end, \n",
    "                              var_names='gene_symbols',\n",
    "                              cache=True\n",
    "    )  \n",
    "    adata87_loom = scv.read(dat_start+'MUC8387/possorted_genome_bam_4O74Q.loom',\n",
    "                            cache=True\n",
    "    )\n",
    "    adata87_v = scv.utils.merge(adata87, \n",
    "                                adata87_loom\n",
    "    )\n",
    "    ########\n",
    "    adata88 = sc.read_10x_mtx(path=dat_start+'MUC8388'+dat_end,\n",
    "                              var_names='gene_symbols',\n",
    "                              cache=True\n",
    "    )  \n",
    "    adata88_loom = scv.read(dat_start+'MUC8388/possorted_genome_bam_FGFK8.loom', \n",
    "                            cache=True\n",
    "    )\n",
    "    adata88_v = scv.utils.merge(adata88, \n",
    "                                adata88_loom\n",
    "    )\n",
    "    ########\n",
    "    adata89 = sc.read_10x_mtx(path=dat_start+'MUC8389'+dat_end,\n",
    "                              var_names='gene_symbols',\n",
    "                              cache=True\n",
    "    )  \n",
    "    adata89_loom = scv.read(dat_start+'MUC8389/possorted_genome_bam_ASNXU.loom',\n",
    "                            cache=True\n",
    "    )\n",
    "    adata89_v = scv.utils.merge(adata89, \n",
    "                                adata89_loom\n",
    "    )\n",
    "    ########\n",
    "    adata90 = sc.read_10x_mtx(path=dat_start+'MUC8390'+dat_end,\n",
    "                              var_names='gene_symbols',\n",
    "                              cache=True\n",
    "    ) \n",
    "    adata90_loom = scv.read(dat_start+'MUC8390/possorted_genome_bam_J89SC.loom',\n",
    "                            cache=True\n",
    "    )\n",
    "    adata90_v = scv.utils.merge(adata90, \n",
    "                                adata90_loom\n",
    "    )\n",
    "    ########\n",
    "    adataY = sc.read_10x_mtx(path=dat_start+'PreYoung'+dat_end, \n",
    "                             var_names='gene_symbols', \n",
    "                             cache=True\n",
    "    ) \n",
    "    adataY_loom = scv.read(dat_start+'PreYoung/possorted_genome_bam_VP0VC.loom',\n",
    "                           cache=True\n",
    "    )\n",
    "    adataY_v = scv.utils.merge(adataY,\n",
    "                               adataY_loom\n",
    "    )\n",
    "    ########\n",
    "    adataO = sc.read_10x_mtx(path=dat_start+'PreOld'+dat_end,\n",
    "                             var_names='gene_symbols',\n",
    "                             cache=True\n",
    "    ) \n",
    "    adataO_loom = scv.read(dat_start+'PreOld/possorted_genome_bam_SPR8G.loom',\n",
    "                           cache=True\n",
    "    )\n",
    "    adataO_v = scv.utils.merge(adataO, \n",
    "                               adataO_loom\n",
    "    )\n",
    "    ########\n",
    "    adata_raw=adata87_v.concatenate(adata88_v,\n",
    "                                    adata89_v, \n",
    "                                    adata90_v, \n",
    "                                    adataY_v,\n",
    "                                    adataO_v\n",
    "    )\n",
    "\n",
    "    p = adata_raw.obs_names.str.endswith\n",
    "    groups=['BAT-2', 'BAT-8', 'PGF-2', 'PGF-8', 'SCF-2', 'SCF-8']\n",
    "    adata_raw.obs['batch_type'] = np.select([p('-0'), p('-1'), p('-2'), p('-3'), p('-4'), p('-5')],\n",
    "                                            groups\n",
    "    )\n",
    "    adata_raw.obs['tissue_type'] = np.select([(p('-0')|p('-1')), (p('-2')|p('-3')), (p('-4')|p('-5'))],\n",
    "                                             ['BAT', 'PGF', 'SCF']\n",
    "    )\n",
    "    adata_raw.obs['age_type'] = np.select([(p('-0')|p('-2')|p('-4')), (p('-1')|p('-3')|p('-5'))], \n",
    "                                          ['young', 'old'])\n",
    "\n",
    "    adata_raw.var_names_make_unique()\n",
    "    sc.write(sc_settings_writedir+'adata_raw.h5ad', adata_raw)\n",
    "else:\n",
    "    adata_raw=sc.read(sc_settings_writedir+'adata_raw.h5ad')"
   ]
  },
  {
   "cell_type": "markdown",
   "metadata": {},
   "source": [
    "Summary of steps performed here: Only cells with at least 500 UMIs are kept. Counts per cell are cell library depth normalized. The gene (feature) space is reduced with PCA to 50 PCs. A nearest neighbour graph and umap are computed based on the PC space. Cell are clustered with louvain clustering based on the nearest neighbour graph. Graph abstraction is computed based on the louvain clustering."
   ]
  },
  {
   "cell_type": "code",
   "execution_count": 11,
   "metadata": {},
   "outputs": [],
   "source": [
    "sc.pp.filter_cells(adata_raw, min_counts=1)"
   ]
  },
  {
   "cell_type": "markdown",
   "metadata": {},
   "source": [
    "The data contains 21143 observations with 31253 different genes. Due to dropouts, some of the observations might not show any counts and genes. In order to calculate the fraction of mitochondrial RNA in the next steps, each observations without counts must be filtered out to prevent NaN from emerging. "
   ]
  },
  {
   "cell_type": "code",
   "execution_count": 12,
   "metadata": {},
   "outputs": [
    {
     "name": "stdout",
     "output_type": "stream",
     "text": [
      "Number of cells: 24733\n",
      "Number of genes: 31125\n",
      "Number of cells per tissue_type:\n"
     ]
    },
    {
     "data": {
      "text/plain": [
       "BAT    6472\n",
       "PGF    8917\n",
       "SCF    9344\n",
       "Name: tissue_type, dtype: int64"
      ]
     },
     "execution_count": 12,
     "metadata": {},
     "output_type": "execute_result"
    }
   ],
   "source": [
    "print('Number of cells: {:d}'.format(adata_raw.n_obs))\n",
    "print('Number of genes: {:d}'.format(adata_raw.shape[1]))\n",
    "print('Number of cells per tissue_type:')\n",
    "adata_raw.obs['tissue_type'].value_counts().sort_index()"
   ]
  },
  {
   "cell_type": "markdown",
   "metadata": {},
   "source": [
    "### Gene numbers and counts with and without mitochondrial RNA"
   ]
  },
  {
   "cell_type": "markdown",
   "metadata": {},
   "source": [
    "Create necessary obs:"
   ]
  },
  {
   "cell_type": "code",
   "execution_count": 13,
   "metadata": {},
   "outputs": [],
   "source": [
    "adata_qc=adata_raw.copy()\n",
    "adata_qc.obs['n_genes']=(adata_qc.X > 0).sum(1)\n",
    "mt_gene_mask=[gene.startswith('mt-') for gene in adata_qc.var_names]\n",
    "temp_mt_sum=adata_qc[:,mt_gene_mask].X.sum(1)\n",
    "temp_mt_sum=np.squeeze(np.asarray(temp_mt_sum))\n",
    "adata_qc.obs['n_counts']=adata_qc.X.sum(1)\n",
    "temp_n_counts=adata_qc.obs['n_counts']\n",
    "adata_qc.obs['mt_frac']=temp_mt_sum/adata_qc.obs['n_counts']"
   ]
  },
  {
   "cell_type": "markdown",
   "metadata": {},
   "source": [
    "Plot n_counts and mt_frac:"
   ]
  },
  {
   "cell_type": "code",
   "execution_count": 14,
   "metadata": {},
   "outputs": [],
   "source": [
    "if bool_plot == True:\n",
    "    t1 = sc.pl.violin(adata_qc,\n",
    "                      ['n_counts', 'n_genes', 'mt_frac'],\n",
    "                      size=1, \n",
    "                      log=False,\n",
    "                      jitter=3,\n",
    "                      multi_panel=True\n",
    "    )"
   ]
  },
  {
   "cell_type": "code",
   "execution_count": 15,
   "metadata": {},
   "outputs": [],
   "source": [
    "if bool_plot==True:\n",
    "    sc.pl.highest_expr_genes(adata_qc,\n",
    "                             n_top=20\n",
    "    ) "
   ]
  },
  {
   "cell_type": "markdown",
   "metadata": {},
   "source": [
    "Overall, the data contains a lot of observations with high fractions of mitochondrial RNA. Additionally, most observations show counts below 100, suggesting poor data quality. To further investigate the distributions counts over genes per observations, scatterplots are created:"
   ]
  },
  {
   "cell_type": "markdown",
   "metadata": {},
   "source": [
    "### Number of Genes versus Number of Counts"
   ]
  },
  {
   "cell_type": "code",
   "execution_count": 16,
   "metadata": {},
   "outputs": [],
   "source": [
    "if bool_plot == True:\n",
    "    p1 = sc.pl.scatter(adata_qc, \n",
    "                       'n_counts', \n",
    "                       'n_genes', \n",
    "                       color='mt_frac', \n",
    "                       size=5\n",
    "    )\n",
    "    p2 = sc.pl.scatter(adata_qc[adata_qc.obs['n_counts'] < 5000],\n",
    "                       'n_counts',\n",
    "                       'n_genes', \n",
    "                       color='mt_frac',\n",
    "                       size=5\n",
    "    )"
   ]
  },
  {
   "cell_type": "markdown",
   "metadata": {},
   "source": [
    "### Distribution of Counts and Genes"
   ]
  },
  {
   "cell_type": "markdown",
   "metadata": {},
   "source": [
    "For the remaining observations, the fraction of mitochondrial RNA is generally very low and at most 20%"
   ]
  },
  {
   "cell_type": "code",
   "execution_count": 17,
   "metadata": {},
   "outputs": [],
   "source": [
    "if bool_plot == True:\n",
    "    p6 = sb.distplot(adata_qc.obs['n_counts'],\n",
    "                     kde=False\n",
    "    )\n",
    "    plt.show()\n",
    "    p7 = sb.distplot(adata_qc.obs['n_counts'][adata_qc.obs['n_counts'] < 5000], \n",
    "                     kde=False)\n",
    "    plt.show()"
   ]
  },
  {
   "cell_type": "code",
   "execution_count": 18,
   "metadata": {},
   "outputs": [],
   "source": [
    "if bool_plot == True:\n",
    "    p9 = sb.distplot(adata_qc.obs['n_genes'],\n",
    "                     kde=False, \n",
    "                     bins=60\n",
    "    )\n",
    "    plt.show()\n",
    "    p10 = sb.distplot(adata_qc.obs['n_genes'][adata_qc.obs['n_genes'] < 500],\n",
    "                      kde=False,\n",
    "                      bins=60\n",
    "    )\n",
    "    plt.show()"
   ]
  },
  {
   "cell_type": "markdown",
   "metadata": {},
   "source": [
    "### Filtering"
   ]
  },
  {
   "cell_type": "code",
   "execution_count": 19,
   "metadata": {},
   "outputs": [
    {
     "name": "stderr",
     "output_type": "stream",
     "text": [
      "filtered out 701 cells that have less than 1500 counts\n"
     ]
    },
    {
     "name": "stdout",
     "output_type": "stream",
     "text": [
      "Total number of cells: 24733\n"
     ]
    },
    {
     "name": "stderr",
     "output_type": "stream",
     "text": [
      "filtered out 66 cells that have more than 25000 counts\n"
     ]
    },
    {
     "name": "stdout",
     "output_type": "stream",
     "text": [
      "Number of cells after min count filter: 24032\n",
      "Number of cells after max count filter: 23966\n",
      "Number of cells after MT filter: 23939\n"
     ]
    },
    {
     "name": "stderr",
     "output_type": "stream",
     "text": [
      "filtered out 1279 cells that have less than 300 genes expressed\n",
      "Trying to set attribute `.obs` of view, copying.\n"
     ]
    },
    {
     "name": "stdout",
     "output_type": "stream",
     "text": [
      "Number of cells after gene filter: 22660\n"
     ]
    }
   ],
   "source": [
    "# Filter cells according to identified QC thresholds:\n",
    "print('Total number of cells: {:d}'.format(adata_qc.n_obs))\n",
    "\n",
    "sc.pp.filter_cells(adata_qc,\n",
    "                   min_counts=1500\n",
    ")\n",
    "print('Number of cells after min count filter: {:d}'.format(adata_qc.n_obs))\n",
    "\n",
    "sc.pp.filter_cells(adata_qc,\n",
    "                   max_counts=25000\n",
    ")\n",
    "print('Number of cells after max count filter: {:d}'.format(adata_qc.n_obs))\n",
    "\n",
    "adata_qc = adata_qc[adata_qc.obs['mt_frac'] < 0.2]\n",
    "print('Number of cells after MT filter: {:d}'.format(adata_qc.n_obs))\n",
    "\n",
    "sc.pp.filter_cells(adata_qc, \n",
    "                   min_genes=300\n",
    ")\n",
    "print('Number of cells after gene filter: {:d}'.format(adata_qc.n_obs))"
   ]
  },
  {
   "cell_type": "code",
   "execution_count": 20,
   "metadata": {},
   "outputs": [
    {
     "name": "stdout",
     "output_type": "stream",
     "text": [
      "Total number of genes: 31125\n"
     ]
    },
    {
     "name": "stderr",
     "output_type": "stream",
     "text": [
      "filtered out 14148 genes that are detected in less than 30 cells\n"
     ]
    },
    {
     "name": "stdout",
     "output_type": "stream",
     "text": [
      "Number of genes after cell filter: 16977\n"
     ]
    }
   ],
   "source": [
    "#Filter genes:\n",
    "print('Total number of genes: {:d}'.format(adata_qc.n_vars))\n",
    "\n",
    "# Min 20 cells - filters out 0 count genes\n",
    "sc.pp.filter_genes(adata_qc, \n",
    "                   min_cells=30\n",
    ")\n",
    "print('Number of genes after cell filter: {:d}'.format(adata_qc.n_vars))"
   ]
  },
  {
   "cell_type": "code",
   "execution_count": 21,
   "metadata": {},
   "outputs": [],
   "source": [
    "if bool_plot == True:\n",
    "    p1 = sc.pl.scatter(adata_qc, \n",
    "                       'n_counts',\n",
    "                       'n_genes',\n",
    "                       color='mt_frac',\n",
    "                       size=5\n",
    "    )\n",
    "    p3 = sc.pl.scatter(adata_qc[adata_qc.obs['n_counts'] < 5000],\n",
    "                       'n_counts',\n",
    "                       'n_genes',\n",
    "                       color='mt_frac', \n",
    "                       size=5\n",
    "    )"
   ]
  },
  {
   "cell_type": "code",
   "execution_count": 22,
   "metadata": {},
   "outputs": [
    {
     "name": "stdout",
     "output_type": "stream",
     "text": [
      "Number of cells: 22660\n",
      "Number of genes: 16977\n",
      "Number of cells per tissue_type:\n"
     ]
    },
    {
     "data": {
      "text/plain": [
       "BAT-2    2658\n",
       "BAT-8    2343\n",
       "PGF-2    6303\n",
       "PGF-8    2128\n",
       "SCF-2    3892\n",
       "SCF-8    5336\n",
       "Name: batch_type, dtype: int64"
      ]
     },
     "execution_count": 22,
     "metadata": {},
     "output_type": "execute_result"
    }
   ],
   "source": [
    "print('Number of cells: {:d}'.format(adata_qc.n_obs))\n",
    "print('Number of genes: {:d}'.format(adata_qc.shape[1]))\n",
    "print('Number of cells per tissue_type:')\n",
    "adata_qc.obs['batch_type'].value_counts().sort_index()"
   ]
  },
  {
   "cell_type": "markdown",
   "metadata": {},
   "source": [
    "## All cells - normalization, projection and clustering"
   ]
  },
  {
   "cell_type": "markdown",
   "metadata": {},
   "source": [
    "Remove BAT cells and perform the standard analysis"
   ]
  },
  {
   "cell_type": "code",
   "execution_count": 23,
   "metadata": {
    "scrolled": false
   },
   "outputs": [
    {
     "name": "stderr",
     "output_type": "stream",
     "text": [
      "running PAGA\n",
      "    finished: added\n",
      "    'paga/connectivities', connectivities adjacency (adata.uns)\n",
      "    'paga/connectivities_tree', connectivities subtree (adata.uns) (0:00:02)\n"
     ]
    }
   ],
   "source": [
    "if bool_recomp == True:\n",
    "    adata_qc=adata_qc[adata_qc.obs['tissue_type'] != 'BAT',:] # remove brown adiopoytes\n",
    "    adata_proc=adata_qc.copy()\n",
    "    adata_proc.raw=adata_qc\n",
    "    sc.pp.normalize_per_cell(adata_proc)\n",
    "    sc.pp.log1p(adata_proc)\n",
    "    sc.pp.combat(adata_proc, \n",
    "                 key='batch'\n",
    "    )\n",
    "    sc.pp.highly_variable_genes(adata_proc,\n",
    "                                flavor='cell_ranger',\n",
    "                                n_top_genes=4000\n",
    "    )\n",
    "    sc.pl.highly_variable_genes(adata_proc)\n",
    "    #adata_proc.X=adata_proc.X.toarray()\n",
    "    \n",
    "    sc.pp.pca(adata_proc,\n",
    "              n_comps=50,\n",
    "              random_state=0, \n",
    "              use_highly_variable=True,\n",
    "              svd_solver='arpack'\n",
    "    )\n",
    "    sc.pp.neighbors(adata_proc,\n",
    "                    n_neighbors=100,\n",
    "                    knn=True, \n",
    "                    method='umap',\n",
    "                    n_pcs=50, \n",
    "                    random_state=0\n",
    "    )\n",
    "    sc.tl.umap(adata_proc)\n",
    "    if bool_recluster == True:\n",
    "        #sc.tl.louvain(adata_proc,\n",
    "        #              resolution=0.5,\n",
    "        #              flavor='vtraag',\n",
    "        #              random_state=0\n",
    "        #)\n",
    "        sc.tl.leiden(adata_proc,\n",
    "                     resolution=0.5\n",
    "        )\n",
    "        pd.DataFrame(adata_proc.obs).to_csv(path_or_buf=sc_settings_writedir+\"obs_adata_proc.csv\")\n",
    "    else:\n",
    "        obs=pd.read_csv(sc_settings_writedir+'obs_adata_proc.csv')\n",
    "        adata_proc.obs['leiden']=pd.Series(obs['leiden'].values, dtype='category')\n",
    "    sc.write(sc_settings_writedir+'adata_proc.h5ad', adata_proc)\n",
    "else:\n",
    "    adata_proc=sc.read(sc_settings_writedir+'adata_proc.h5ad') \n",
    "sc.tl.paga(adata_proc)"
   ]
  },
  {
   "cell_type": "code",
   "execution_count": 24,
   "metadata": {},
   "outputs": [
    {
     "data": {
      "text/plain": [
       "PGF-2    6303\n",
       "SCF-8    5336\n",
       "SCF-2    3892\n",
       "PGF-8    2128\n",
       "Name: batch_type, dtype: int64"
      ]
     },
     "execution_count": 24,
     "metadata": {},
     "output_type": "execute_result"
    }
   ],
   "source": [
    "adata_proc.obs['batch_type'].value_counts()"
   ]
  },
  {
   "cell_type": "markdown",
   "metadata": {},
   "source": [
    "Produce some summarizing plots that show the global characteristics of the data."
   ]
  },
  {
   "cell_type": "code",
   "execution_count": 25,
   "metadata": {},
   "outputs": [],
   "source": [
    "if bool_plot == True:# A530016L24Rik\n",
    "    plt.rcParams['figure.figsize']=[10,10]\n",
    "    cf.plot_umap_marker(adata_proc,\n",
    "                        ['Pdgfra'],\n",
    "                        save=\"_pgf-scf_cells_Pdgfra\",\n",
    "                        use_raw=False, \n",
    "                        color_map=mymap,\n",
    "                        size=50\n",
    "    )"
   ]
  },
  {
   "cell_type": "code",
   "execution_count": 26,
   "metadata": {},
   "outputs": [],
   "source": [
    "if bool_plot == True:# cells in the cluster 13 need to be removed Endothelial\n",
    "    plt.rcParams['figure.figsize']=[10,10]\n",
    "    cf.plot_umap_marker(adata_proc,\n",
    "                        ['Pecam1'],\n",
    "                        save=\"_pgf-scf_cells_Pecam1\",\n",
    "                        use_raw=False, \n",
    "                        color_map=mymap,\n",
    "                        size=50\n",
    "    )"
   ]
  },
  {
   "cell_type": "code",
   "execution_count": 27,
   "metadata": {},
   "outputs": [],
   "source": [
    "if bool_plot == True:\n",
    "    plt.rcParams['figure.figsize']=[10,10]\n",
    "    cf.plot_umap_marker(adata_proc,\n",
    "                        ['leiden'], \n",
    "                        save=\"_pgf-scf_cells_leiden_clustering\",\n",
    "                        use_raw=False, \n",
    "                        legend_loc='on data', \n",
    "                        size=50\n",
    "    )"
   ]
  },
  {
   "cell_type": "markdown",
   "metadata": {},
   "source": [
    "Number of cells in each cluster:"
   ]
  },
  {
   "cell_type": "code",
   "execution_count": 28,
   "metadata": {},
   "outputs": [
    {
     "data": {
      "text/plain": [
       "0     2088\n",
       "1     1970\n",
       "2     1732\n",
       "3     1519\n",
       "4     1378\n",
       "5     1240\n",
       "6     1216\n",
       "7      864\n",
       "8      765\n",
       "9      759\n",
       "10     758\n",
       "11     632\n",
       "12     516\n",
       "13     480\n",
       "14     468\n",
       "15     415\n",
       "16     274\n",
       "17     161\n",
       "18     147\n",
       "19     114\n",
       "20      98\n",
       "21      65\n",
       "Name: leiden, dtype: int64"
      ]
     },
     "execution_count": 28,
     "metadata": {},
     "output_type": "execute_result"
    }
   ],
   "source": [
    "adata_proc.obs[\"leiden\"].value_counts()"
   ]
  },
  {
   "cell_type": "code",
   "execution_count": 29,
   "metadata": {},
   "outputs": [],
   "source": [
    "#####################################################################################################################\n",
    "if bool_plot==True:\n",
    "    marker_genes_dict={'Immune cell': ['Ptprc'],\n",
    "                       'Macrophage': ['Cd68','Ccl6','Adgre1','Cd14','C1qc','Lyz2'],\n",
    "                       'Monocyte': ['Csf1r','Ly6c2','Lyz1','Fn1','Spn','Ccr2'],\n",
    "                       'cDc': ['Itgax',],\n",
    "                       'cDc1': ['Irf8','Batf3','Xcr1','Cadm1'],\n",
    "                       'cDc2': ['Cd209a','Irf4','Mgl2'],\n",
    "                       'Mast cell': ['Fcer1a','Kit','Il1rl1'],\n",
    "                       'Granulocyte': ['Itgam'],\n",
    "                       'Neutrophil': ['Ceacam1','Cxcr2','Cxcr4','Sell','Cd63'], # ,'Ly6g'\n",
    "                       'T Cell': ['Cd3g','Cd3d','Cd3e'],\n",
    "                       'CD4+ T Cell': ['Cd4','Sell'],\n",
    "                       'CD8+ T Cell': ['Cd8a','Cd8b1'],\n",
    "                       'B Cell': ['Cd19','Cd22','Ms4a1','Cd79a','Cd79b'],\n",
    "                       'NK Cell': ['Klrd1','Klrc1','Ncr1','Il2rb','Klrb1c','Klrk1'],\n",
    "                       'ILCs': ['Il7r','Cd200r1','Ccr6'],\n",
    "    } \n",
    "    for i in list(marker_genes_dict.keys()):\n",
    "        marker_genes_dict[i].sort()\n",
    "        \n",
    "    sc.pl.dotplot(adata=adata_proc,\n",
    "                  var_names=marker_genes_dict, \n",
    "                  groupby='leiden',\n",
    "                  use_raw=True, \n",
    "                  log=False, \n",
    "                  dendrogram=True, \n",
    "                  var_group_rotation=90, \n",
    "                  show=True, \n",
    "                  save=\"pgf-scf_cells_celltypes_markers.pdf\"\n",
    "    )"
   ]
  },
  {
   "cell_type": "markdown",
   "metadata": {},
   "source": [
    "# Immune cells"
   ]
  },
  {
   "cell_type": "markdown",
   "metadata": {},
   "source": [
    "## Embedding and Clustering"
   ]
  },
  {
   "cell_type": "markdown",
   "metadata": {},
   "source": [
    "Remove preadipocyte, presented in the clusters: 3,7,11,5,6,13(contain also endothelial cells).\n",
    "Also other non-immune(Prptc-) cells from clusters: 12,18"
   ]
  },
  {
   "cell_type": "code",
   "execution_count": 30,
   "metadata": {},
   "outputs": [
    {
     "name": "stderr",
     "output_type": "stream",
     "text": [
      "running PAGA\n",
      "    finished: added\n",
      "    'paga/connectivities', connectivities adjacency (adata.uns)\n",
      "    'paga/connectivities_tree', connectivities subtree (adata.uns) (0:00:01)\n"
     ]
    }
   ],
   "source": [
    "if bool_recomp == True:  \n",
    "    cell_ids_imuno=np.asarray(adata_proc.obs_names)[\n",
    "        [x in ['0','1','2','4','8','9','10','14','15','16','17','19','20','21']# '3','7','11','5','6','13','12','18',\n",
    "         for x in np.asarray(adata_proc.obs['leiden'].values)]\n",
    "    ]\n",
    "    adata_imuno=adata_qc[cell_ids_imuno,:].copy()  # adata_raw\n",
    "    #dat=pd.DataFrame(adata_proc.X, index=adata_proc.obs.index, columns=adata_proc.var.index)\n",
    "    adata_imuno.obs['n_genes']=(adata_imuno.X > 0).sum(1)\n",
    "    adata_imuno.obs['n_counts']=adata_imuno.X.sum(1)\n",
    "    mt_gene_mask=[gene.startswith('mt-') for gene in adata_imuno.var_names]\n",
    "    temp_mt_sum=adata_imuno[:,mt_gene_mask].X.sum(1)\n",
    "    temp_mt_sum=np.squeeze(np.asarray(temp_mt_sum))\n",
    "    temp_n_counts=adata_imuno.obs['n_counts']\n",
    "    adata_imuno.obs['mt_frac']=temp_mt_sum/adata_imuno.obs['n_counts']\n",
    "    adata_imuno.raw=adata_imuno\n",
    "    sc.pp.normalize_per_cell(adata_imuno)\n",
    "    sc.pp.log1p(adata_imuno)\n",
    "    sc.pp.highly_variable_genes(adata_imuno, n_top_genes=4000)\n",
    "    #sc.pl.highly_variable_genes(adata_imuno)\n",
    "    adata_imuno.X=adata_imuno.X.toarray()\n",
    "    \n",
    "    sc.pp.pca(adata_imuno,\n",
    "              n_comps=50,\n",
    "              use_highly_variable = True,\n",
    "              random_state=0, \n",
    "              svd_solver='arpack'\n",
    "    )\n",
    "    sc.pp.neighbors(adata_imuno,\n",
    "                    n_neighbors=100,\n",
    "                    knn=True, \n",
    "                    method='umap',\n",
    "                    n_pcs=50, \n",
    "                    random_state=0\n",
    "    )\n",
    "    sc.tl.umap(adata_imuno)\n",
    "    \n",
    "    if bool_recluster == True:\n",
    "        sc.tl.leiden(adata_imuno, \n",
    "                     resolution=0.5\n",
    "        )\n",
    "        pd.DataFrame(adata_imuno.obs).to_csv(path_or_buf=sc_settings_writedir+'obs_adata_imuno.csv')\n",
    "    else:\n",
    "        obs=pd.read_csv(sc_settings_writedir+'obs_adata_imuno.csv')\n",
    "        adata_imuno.obs['leiden']=pd.Series(obs['leiden'].values, dtype = 'category')\n",
    "    sc.write(sc_settings_writedir+'adata_imuno.h5ad', adata_imuno)\n",
    "else:\n",
    "    adata_imuno=sc.read(sc_settings_writedir+'adata_imuno.h5ad') \n",
    "sc.tl.paga(adata_imuno)"
   ]
  },
  {
   "cell_type": "code",
   "execution_count": 31,
   "metadata": {},
   "outputs": [],
   "source": [
    "if bool_plot == True:\n",
    "    cf.plot_umap_marker(adata_imuno, \n",
    "                        ['leiden'],\n",
    "                        save=\"_immuno_cells_leiden\",\n",
    "                        use_raw=False,\n",
    "                        size=40,\n",
    "                        legend_loc='on data'\n",
    "    ) "
   ]
  },
  {
   "cell_type": "code",
   "execution_count": 32,
   "metadata": {},
   "outputs": [],
   "source": [
    "if bool_plot == True:\n",
    "    cf.plot_umap_marker(adata_imuno, \n",
    "                        ['batch_type'],\n",
    "                        save=\"_immuno_cells_tissue\",\n",
    "                        use_raw=False,\n",
    "                        size=40\n",
    "    ) "
   ]
  },
  {
   "cell_type": "code",
   "execution_count": 33,
   "metadata": {},
   "outputs": [],
   "source": [
    "if bool_plot == True:\n",
    "    plt.rcParams['figure.figsize']=[10,10]\n",
    "    sc.pl.paga(adata_imuno,\n",
    "               color=['batch_type'],\n",
    "               node_size_scale=10,\n",
    "               edge_width_scale=2,\n",
    "               save=\"_immuno_cells_leiden\"\n",
    "    )"
   ]
  },
  {
   "cell_type": "markdown",
   "metadata": {},
   "source": [
    "## Define Cell Types"
   ]
  },
  {
   "cell_type": "markdown",
   "metadata": {},
   "source": [
    "<a id=\"DE\"></a>"
   ]
  },
  {
   "cell_type": "markdown",
   "metadata": {},
   "source": [
    "### Summary heatmap, dotplot and stacked_violin for cluster assignments"
   ]
  },
  {
   "cell_type": "code",
   "execution_count": 34,
   "metadata": {},
   "outputs": [],
   "source": [
    "#####################################################################################################################\n",
    "if bool_plot==True:\n",
    "    marker_genes_dict={'Immune cell': ['Ptprc'],\n",
    "                       'Macrophage': ['Adgre1','Cd14','C1qc','Mrc1','Pf4'],\n",
    "                       'Inflammatory Macrophage': ['Tnf','Mmp3','Mmp9'],\n",
    "                       'Perivascular Macrophage': ['Cd163','Lyve1'],\n",
    "                       'Lipid-associated Macrophage': ['Trem2','Ctsb','Cd36','Ctsl','Lgals1','Lipa','Rhoc','Cd68',\n",
    "                                                       'Pld3','Plin2','Serpinb6a','Cd63','Ms4a7'],\n",
    "                       'Monocyte': ['Csf1r','Lyz2','Lyz1','Fn1','Ear2','Csf3r'],\n",
    "                       'Classical Monocyte': ['Ly6c1','Ccr2'],\n",
    "                       'Intermediate Monocyte': ['Ccr5'],\n",
    "                       'Non-classical Monocyte': ['Pag1','Fpr2','Cx3cr1','Fcgr4','Il1b','Lst1','Treml4'],\n",
    "                       'cDc': ['Itgax',],\n",
    "                       'cDc1': ['Irf8','Batf3','Xcr1','Cadm1'],\n",
    "                       'cDc2': ['Cd209a','Irf4','Mgl2','Clec10a','Ccr7','Fscn1'],                        \n",
    "                       'Mast cell': ['Fcer1a','Kit','Il1rl1'],                         \n",
    "                       'Myeloid cells': ['Itgam'], \n",
    "                       'Neutrophil': ['S100a8','Cxcr2','Cxcr4','Sell','S100a9','Ly6g'],                                             \n",
    "                       'T Cell': ['Cd3g','Cd3d','Cd3e'],\n",
    "                       'Naïve T Cell': ['Sell','Ccr7'],\n",
    "                       'CD4+/CD8+ T Cell': ['Cd2','Cd4','Cd40lg','Cd8a','Cd8b1','Foxp3','Ctla4','Nkg7','Gzmb','Gzmk'], \n",
    "                       'MAIT': ['Cd44','Rorc','Cxcr6','Zbtb16','Ccr6','Il17a','Il23r'],                         \n",
    "                       'B Cell': ['Cd19','Cd22','Ms4a1','Cd79a','Cd79b','Ly6d'],                         \n",
    "                       'NK Cell': ['Klrd1','Klrc1','Ncr1','Il2rb','Klrb1c','Klrk1'],                         \n",
    "                       'ILCs': ['Il7r','Cd200r1','Gata3','Ly6a','Il1rl1','Il5','Il13']\n",
    "\n",
    "    } \n",
    "    for i in list(marker_genes_dict.keys()):\n",
    "        marker_genes_dict[i].sort()\n",
    "        \n",
    "    sc.pl.dotplot(adata=adata_imuno,\n",
    "                  var_names=marker_genes_dict, \n",
    "                  groupby='leiden',\n",
    "                  use_raw=True, \n",
    "                  log=False, \n",
    "                  dendrogram=True, \n",
    "                  var_group_rotation=90, \n",
    "                  show=True, \n",
    "                  #size_title=5,\n",
    "                  save=\"immuno_cells_celltypes_markers.pdf\"\n",
    "    )"
   ]
  },
  {
   "cell_type": "markdown",
   "metadata": {},
   "source": [
    "## Differential gene expression - immuno cells - clusters"
   ]
  },
  {
   "cell_type": "code",
   "execution_count": 35,
   "metadata": {},
   "outputs": [],
   "source": [
    "if bool_plot == True: \n",
    "    #adata_imuno1 = adata_imuno[:, adata_imuno.var.highly_variable] # Keep only top 4000\n",
    "    sc.tl.rank_genes_groups(adata_imuno, \n",
    "                            'leiden',\n",
    "                            use_raw=False,\n",
    "                            method='t-test'\n",
    "    )  \n",
    "    # Build the \n",
    "    result = adata_imuno.uns['rank_genes_groups']\n",
    "    groups = result['names'].dtype.names\n",
    "    df = pd.DataFrame({group + '_' + key[:1]: result[key][group]\n",
    "                   for group in groups for key in ['names', 'logfoldchanges', 'pvals_adj']}\n",
    "    )\n",
    "    df.to_csv(\"tables/DGE_imuno_clusters.csv\")"
   ]
  },
  {
   "cell_type": "markdown",
   "metadata": {},
   "source": [
    "## UMAP with assigned cell types"
   ]
  },
  {
   "cell_type": "code",
   "execution_count": 36,
   "metadata": {},
   "outputs": [],
   "source": [
    "if bool_plot == True:\n",
    "    new_cluster_names = {'0': \"B cell\",\n",
    "                         '1': \"Macrophages\",\n",
    "                         '2': \"Monocytes\",\n",
    "                         '3': \"CD4+/CD8+ T Cells\",\n",
    "                         '4': \"Naïve T Cell\",\n",
    "                         '5': \"Non-classical Monocyte\",\n",
    "                         '6': \"NK cells\",\n",
    "                         '7': \"cDC2B\",\n",
    "                         '8': \"cDC1\",\n",
    "                         '9': \"ILCs\",\n",
    "                         '10': \"Perivascular Macrophage\",\n",
    "                         '11': \"MAIT\",\n",
    "                         '12': \"Mast cell\",\n",
    "                         '13': \"cDC2A\",\n",
    "                         '14': \"Neutrophil\"\n",
    "    }\n",
    "    adata_imuno.obs['celltypes'] = [new_cluster_names[x] for x in  adata_imuno.obs['leiden']]\n",
    "    plt.rcParams['figure.figsize']=[10,10]\n",
    "    cf.plot_umap_marker(adata_imuno, \n",
    "                        ['celltypes'], \n",
    "                        save=\"_immuno_cells_celltypes\",\n",
    "                        use_raw=False, \n",
    "                        frameon=True, \n",
    "                        size=50,\n",
    "                        title=''\n",
    "    ) "
   ]
  },
  {
   "cell_type": "code",
   "execution_count": 37,
   "metadata": {},
   "outputs": [],
   "source": [
    "if bool_plot == True:\n",
    "    cf.cell_percent(adata_imuno, \n",
    "                    'celltypes', \n",
    "                    'batch_type',\n",
    "                    ['tab:blue','tab:orange','tab:green','tab:red'],\n",
    "                    norm='index',\n",
    "                    xlabel='', \n",
    "                    ylabel='Percentage of cells',\n",
    "                    leg_loc='upper left',\n",
    "                    title='',\n",
    "                    save='figures/percent_immuno_celltype_tissue', \n",
    "                    table=False\n",
    "    )\n",
    "    pd_celltypes = pd.crosstab(adata_imuno.obs['celltypes'],\n",
    "                               adata_imuno.obs['batch_type'], \n",
    "                               normalize=False,\n",
    "                               margins=True\n",
    "    )\n",
    "    pd_celltypes.to_csv('tables/number_cell_immuno_celltype_tissue.csv')"
   ]
  },
  {
   "cell_type": "markdown",
   "metadata": {},
   "source": [
    "# WAT monocytes and macrophages"
   ]
  },
  {
   "cell_type": "markdown",
   "metadata": {},
   "source": [
    "## Embedding and Clustering"
   ]
  },
  {
   "cell_type": "code",
   "execution_count": 38,
   "metadata": {},
   "outputs": [
    {
     "name": "stderr",
     "output_type": "stream",
     "text": [
      "running PAGA\n",
      "    finished: added\n",
      "    'paga/connectivities', connectivities adjacency (adata.uns)\n",
      "    'paga/connectivities_tree', connectivities subtree (adata.uns) (0:00:00)\n"
     ]
    }
   ],
   "source": [
    "if bool_recomp == True:  \n",
    "    cell_ids_mm=np.asarray(adata_imuno.obs_names)[\n",
    "        [x in ['1','2','5','10']\n",
    "         for x in np.asarray(adata_imuno.obs['leiden'].values)]\n",
    "    ]\n",
    "    adata_mm=adata_imuno[cell_ids_mm,:].copy()  # adata_raw\n",
    "    adata_mm.obs['n_genes']=(adata_mm.X > 0).sum(1)\n",
    "    adata_mm.obs['n_counts']=adata_mm.X.sum(1)\n",
    "    mt_gene_mask=[gene.startswith('mt-') for gene in adata_mm.var_names]\n",
    "    temp_mt_sum=adata_mm[:,mt_gene_mask].X.sum(1)\n",
    "    temp_mt_sum=np.squeeze(np.asarray(temp_mt_sum))\n",
    "    temp_n_counts=adata_mm.obs['n_counts']\n",
    "    adata_mm.obs['mt_frac']=temp_mt_sum/adata_mm.obs['n_counts']\n",
    "    adata_mm.raw=adata_mm\n",
    "    sc.pp.normalize_per_cell(adata_mm)\n",
    "    sc.pp.log1p(adata_mm)\n",
    "    sc.pp.highly_variable_genes(adata_mm, n_top_genes=4000)\n",
    "    #sc.pl.highly_variable_genes(adata_mm)\n",
    "    #adata_mm.X=adata_mm.X.toarray()\n",
    "    \n",
    "    sc.pp.pca(adata_mm,\n",
    "              n_comps=50,\n",
    "              use_highly_variable = True,\n",
    "              random_state=0, \n",
    "              svd_solver='arpack'\n",
    "    )\n",
    "    sc.pp.neighbors(adata_mm,\n",
    "                    n_neighbors=100,\n",
    "                    knn=True, \n",
    "                    method='umap',\n",
    "                    n_pcs=50, \n",
    "                    random_state=0\n",
    "    )\n",
    "    sc.tl.umap(adata_mm)\n",
    "    \n",
    "    if bool_revelocity == True:\n",
    "        scv.pp.moments(adata_mm, \n",
    "                       n_pcs=30,\n",
    "                       n_neighbors=30\n",
    "        )\n",
    "        scv.tl.recover_dynamics(adata_mm, \n",
    "                                n_jobs=8\n",
    "        )\n",
    "        scv.tl.velocity(adata_mm)\n",
    "        scv.tl.velocity_graph(adata_mm)\n",
    "        scv.tl.latent_time(adata_mm)\n",
    "        \n",
    "    if bool_recluster == True:\n",
    "        sc.tl.leiden(adata_mm, \n",
    "                     resolution=0.5, \n",
    "                     key_added='leiden_mm'\n",
    "        )\n",
    "        pd.DataFrame(adata_mm.obs).to_csv(path_or_buf=sc_settings_writedir+'obs_adata_mm.csv')\n",
    "    else:\n",
    "        obs=pd.read_csv(sc_settings_writedir+'obs_adata_mm.csv')\n",
    "        adata_mm.obs['leiden_mm']=pd.Series(obs['leiden_mm'].values, dtype = 'category')\n",
    "    sc.write(sc_settings_writedir+'adata_mm.h5ad', adata_mm)\n",
    "else:\n",
    "    adata_mm=sc.read(sc_settings_writedir+'adata_mm.h5ad') \n",
    "sc.tl.paga(adata_mm)"
   ]
  },
  {
   "cell_type": "code",
   "execution_count": 39,
   "metadata": {},
   "outputs": [
    {
     "name": "stderr",
     "output_type": "stream",
     "text": [
      "WARNING: saving figure to file figures/umap_mm_cells_leiden_clustering_0.pdf\n"
     ]
    },
    {
     "name": "stdout",
     "output_type": "stream",
     "text": [
      "['leiden_mm']\n"
     ]
    },
    {
     "data": {
      "image/png": "[encoded data removed]",
      "text/plain": [
       "<Figure size 800x800 with 1 Axes>"
      ]
     },
     "metadata": {},
     "output_type": "display_data"
    }
   ],
   "source": [
    "if bool_plot_current == True:\n",
    "    plt.rcParams['figure.figsize']=[10,10]\n",
    "    cf.plot_umap_marker(adata_mm,\n",
    "                        ['leiden_mm'], \n",
    "                        save=\"_mm_cells_leiden_clustering\",\n",
    "                        use_raw=False, \n",
    "                        legend_loc='on data', \n",
    "                        size=50\n",
    "    )"
   ]
  },
  {
   "cell_type": "markdown",
   "metadata": {},
   "source": [
    "## Cluster cell type "
   ]
  },
  {
   "cell_type": "code",
   "execution_count": 40,
   "metadata": {},
   "outputs": [],
   "source": [
    "#####################################################################################################################\n",
    "if bool_plot==True:\n",
    "    marker_genes_dict={'Monocyte': ['Lyz1','Fn1','Ear2','Csf3r'],\n",
    "                       'Classical Monocyte': ['Ly6c1','Ccr2'],\n",
    "                       'Intermediate Monocyte': ['Ccr5'],\n",
    "                       'Non-classical Monocyte': ['Pag1','Fpr2','Cx3cr1','Fcgr4','Il1b','Lst1','Treml4'],\n",
    "                       'Macrophage': ['Adgre1','Cd14','C1qc','Mrc1','Pf4'],\n",
    "                       'Inflammatory Macrophage': ['Tnf','Mmp3','Mmp9'],\n",
    "                       'Perivascular Macrophage': ['Cd163','Lyve1'],\n",
    "                       'Lipid-associated Macrophage': ['Trem2','Ctsb','Cd36','Ctsl','Lgals1','Lipa','Rhoc','Cd68',\n",
    "                                                       'Pld3','Plin2','Serpinb6a','Cd63','Ms4a7']\n",
    "    } \n",
    "    for i in list(marker_genes_dict.keys()):\n",
    "        marker_genes_dict[i].sort()\n",
    "    \n",
    "    sc.pl.dotplot(adata=adata_mm,\n",
    "                  var_names=marker_genes_dict, \n",
    "                  groupby='leiden_mm',\n",
    "                  use_raw=True, \n",
    "                  log=False, \n",
    "                  dendrogram=True, \n",
    "                  var_group_rotation=90, \n",
    "                  show=True, \n",
    "                  #size_title=5,\n",
    "                  save=\"mm_cells_celltypes_markers.pdf\"\n",
    "    )"
   ]
  },
  {
   "cell_type": "markdown",
   "metadata": {},
   "source": [
    "## UMAP with assigned cell types"
   ]
  },
  {
   "cell_type": "code",
   "execution_count": 41,
   "metadata": {},
   "outputs": [],
   "source": [
    "#####################################################################################################################\n",
    "if bool_plot == True:\n",
    "    new_cluster_names = {'0': \"Intermediate Monocyte\",\n",
    "                         '1': \"Lipid-associated Macrophage\",\n",
    "                         '2': \"Non-classical Monocyte\",\n",
    "                         '3': \"Inflammatory Macrophage\",\n",
    "                         '4': \"Perivascular Macrophage\",\n",
    "                         '5': \"Classical Monocyte\",\n",
    "    }\n",
    "    adata_mm.obs['celltypes'] = [new_cluster_names[x] for x in  adata_mm.obs['leiden_mm']]\n",
    "    plt.rcParams['figure.figsize']=[10,10]\n",
    "    cf.plot_umap_marker(adata_mm, \n",
    "                        ['celltypes'], \n",
    "                        palette=['tab:brown','tab:Red','tab:blue','tab:orange','tab:green','tab:purple'],\n",
    "                        save=\"_mm_cells_celltypes.pdf\",\n",
    "                        use_raw=False, \n",
    "                        frameon=True, \n",
    "                        size=50,\n",
    "                        title=''\n",
    "    ) "
   ]
  },
  {
   "cell_type": "markdown",
   "metadata": {},
   "source": [
    "## Differential gene expression - clusters"
   ]
  },
  {
   "cell_type": "code",
   "execution_count": 42,
   "metadata": {},
   "outputs": [],
   "source": [
    "if bool_plot == True: \n",
    "    #adata_imuno1 = adata_imuno[:, adata_imuno.var.highly_variable] # Keep only top 4000\n",
    "    sc.tl.rank_genes_groups(adata_mm, \n",
    "                            'leiden_mm',\n",
    "                            use_raw=False,\n",
    "                            method='t-test'\n",
    "    )  \n",
    "    # Build the data frame\n",
    "    result = adata_mm.uns['rank_genes_groups']\n",
    "    groups = result['names'].dtype.names\n",
    "    df = pd.DataFrame({group + '_' + key[:1]: result[key][group]\n",
    "                   for group in groups for key in ['names', 'logfoldchanges', 'pvals_adj']}\n",
    "    )\n",
    "    df.to_csv(\"tables/DGE_mm_clusters.csv\")"
   ]
  },
  {
   "cell_type": "markdown",
   "metadata": {},
   "source": [
    "## RNA velocity"
   ]
  },
  {
   "cell_type": "code",
   "execution_count": 43,
   "metadata": {},
   "outputs": [],
   "source": [
    "if bool_plot == True:\n",
    "    scv.pl.velocity_embedding_stream(adata_mm,\n",
    "                                     basis='umap', \n",
    "                                     color='leiden_mm',\n",
    "                                     use_raw=False, \n",
    "                                     size=60, \n",
    "                                     figsize=(10,10), \n",
    "                                     legend_loc='on data',\n",
    "                                     save=\"mm_cells_clust_velocity.svg\"\n",
    "    ) "
   ]
  },
  {
   "cell_type": "markdown",
   "metadata": {},
   "source": [
    "## Latent time"
   ]
  },
  {
   "cell_type": "markdown",
   "metadata": {},
   "source": [
    "The dynamical model recovers the latent time of the underlying cellular processes. This latent time represents the cell’s internal clock and approximates the real time experienced by cells as they differentiate, based only on its transcriptional dynamics."
   ]
  },
  {
   "cell_type": "code",
   "execution_count": 44,
   "metadata": {},
   "outputs": [],
   "source": [
    "if bool_plot == True:\n",
    "    kwargs = dict(color='latent_time',\n",
    "                  color_map='gnuplot',\n",
    "                  title='',\n",
    "                  vmin=-.1,\n",
    "                  colorbar=False,\n",
    "                  show=False\n",
    "    )\n",
    "    ax = scv.pl.velocity_embedding(adata_mm, \n",
    "                                   arrow_length=4,\n",
    "                                   arrow_size=1.5,\n",
    "                                   alpha=.5, \n",
    "                                   dpi=150,\n",
    "                                   **kwargs\n",
    "    )\n",
    "    ax = scv.pl.velocity_embedding_stream(adata_mm,\n",
    "                                          size=150,\n",
    "                                          alpha=.01,\n",
    "                                          arrow_color='white',\n",
    "                                          ax=ax,\n",
    "                                          smooth=.7,\n",
    "                                          min_mass=3.5, \n",
    "                                          density=.6, \n",
    "                                          linewidth=.6, \n",
    "                                          **kwargs\n",
    "    )\n",
    "    ax = scv.pl.velocity_embedding_stream(adata_mm,\n",
    "                                          size=150, \n",
    "                                          alpha=.1,\n",
    "                                          arrow_color='darkslategrey', \n",
    "                                          ax=ax,\n",
    "                                          smooth=.7, \n",
    "                                          min_mass=3.5,\n",
    "                                          density=.6,\n",
    "                                          linewidth=.5,\n",
    "                                          save=\"mm_cells_latentTime_velocity.svg\",\n",
    "                                          **kwargs\n",
    "    )"
   ]
  },
  {
   "cell_type": "code",
   "execution_count": 45,
   "metadata": {},
   "outputs": [],
   "source": [
    "if bool_plot == True:\n",
    "    var_names = adata_mm.var.sort_values('fit_likelihood', ascending=False).index[:300]\n",
    "    scv.pl.heatmap(adata_mm,\n",
    "                   var_names=var_names,\n",
    "                   tkey='latent_time',\n",
    "                   n_convolve=100, \n",
    "                   col_color='leiden_mm',\n",
    "                   save='mm_cells_heatmap_latentTime.pdf'\n",
    "    )\n",
    "    # save table of top dynamical genes\n",
    "    scv.tl.rank_dynamical_genes(adata_mm,\n",
    "                                groupby='leiden_mm'\n",
    "    )\n",
    "    df = scv.get_df(adata_mm, \n",
    "                    'rank_dynamical_genes/names'\n",
    "    )\n",
    "    df.to_csv('tables/mm_rank_dynamical_genes.csv')"
   ]
  },
  {
   "cell_type": "markdown",
   "metadata": {},
   "source": [
    "## Diffusion Pseudotime"
   ]
  },
  {
   "cell_type": "markdown",
   "metadata": {},
   "source": [
    "Finally, we include Diffusion Pseudotime in the analysis to further support the found trajectories. Diffusion pseudotime is integrated into scanpy and is therefore easy to use with the current setup.\n",
    "\n",
    "DPT is based on diffusion maps, thus a diffusion map representation must be calculated prior to pseudotime inference. This in turn is based on a KNN graph embedding obtained from `sc.pp.neighbors()`."
   ]
  },
  {
   "cell_type": "code",
   "execution_count": 46,
   "metadata": {},
   "outputs": [],
   "source": [
    "if bool_plot == True:\n",
    "    sc.pp.neighbors(adata_mm)\n",
    "    sc.tl.diffmap(adata_mm)\n",
    "\n",
    "    mm_mask21 = np.isin(adata_mm.obs['leiden_mm'], '0')\n",
    "    max_mm_id21 = np.argmax(adata_mm.obsm['X_diffmap'][mm_mask21,2])\n",
    "    root_id21 = np.arange(len(mm_mask21))[mm_mask21][max_mm_id21]\n",
    "    adata_mm.uns['iroot'] = root_id21\n",
    "\n",
    "    #Compute dpt\n",
    "    sc.tl.dpt(adata_mm, n_branchings = 0)\n",
    "\n",
    "    cf.plot_diffmap_marker(adata_mm,\n",
    "                           ['leiden_mm','age_type','tissue_type','dpt_pseudotime'],\n",
    "                           components='1,2', \n",
    "                           color_map=mymap, \n",
    "                           use_raw=False,\n",
    "                           size=20,\n",
    "                           save=\"_mm_cells\"\n",
    "    )"
   ]
  },
  {
   "cell_type": "markdown",
   "metadata": {},
   "source": [
    "# WAT effector lymphocytes  "
   ]
  },
  {
   "cell_type": "markdown",
   "metadata": {},
   "source": [
    "## Embedding and Clustering"
   ]
  },
  {
   "cell_type": "code",
   "execution_count": 47,
   "metadata": {},
   "outputs": [
    {
     "name": "stderr",
     "output_type": "stream",
     "text": [
      "running PAGA\n",
      "    finished: added\n",
      "    'paga/connectivities', connectivities adjacency (adata.uns)\n",
      "    'paga/connectivities_tree', connectivities subtree (adata.uns) (0:00:00)\n"
     ]
    }
   ],
   "source": [
    "if bool_recomp == True:  \n",
    "    cell_ids_lymph=np.asarray(adata_imuno.obs_names)[\n",
    "        [x in ['3','4','6','9','11']\n",
    "         for x in np.asarray(adata_imuno.obs['leiden'].values)]\n",
    "    ]\n",
    "    adata_lymph=adata_imuno[cell_ids_lymph,:].copy()  # adata_raw\n",
    "    adata_lymph.obs['n_genes']=(adata_lymph.X > 0).sum(1)\n",
    "    adata_lymph.obs['n_counts']=adata_lymph.X.sum(1)\n",
    "    mt_gene_mask=[gene.startswith('mt-') for gene in adata_lymph.var_names]\n",
    "    temp_mt_sum=adata_lymph[:,mt_gene_mask].X.sum(1)\n",
    "    temp_mt_sum=np.squeeze(np.asarray(temp_mt_sum))\n",
    "    temp_n_counts=adata_lymph.obs['n_counts']\n",
    "    adata_lymph.obs['mt_frac']=temp_mt_sum/adata_lymph.obs['n_counts']\n",
    "    adata_lymph.raw=adata_lymph\n",
    "    sc.pp.normalize_per_cell(adata_lymph)\n",
    "    sc.pp.log1p(adata_lymph)\n",
    "    sc.pp.highly_variable_genes(adata_lymph, n_top_genes=4000)\n",
    "    #sc.pl.highly_variable_genes(adata_lymph)\n",
    "    #adata_lymph.X=adata_lymph.X.toarray()\n",
    "    \n",
    "    sc.pp.pca(adata_lymph,\n",
    "              n_comps=50,\n",
    "              use_highly_variable = True,\n",
    "              random_state=0, \n",
    "              svd_solver='arpack'\n",
    "    )\n",
    "    sc.pp.neighbors(adata_lymph,\n",
    "                    n_neighbors=100,\n",
    "                    knn=True, \n",
    "                    method='umap',\n",
    "                    n_pcs=50, \n",
    "                    random_state=0\n",
    "    )\n",
    "    sc.tl.umap(adata_lymph)\n",
    "    \n",
    "    if bool_revelocity == True:\n",
    "        scv.pp.moments(adata_lymph, \n",
    "                       n_pcs=30,\n",
    "                       n_neighbors=30\n",
    "        )\n",
    "        scv.tl.recover_dynamics(adata_lymph, \n",
    "                                n_jobs=8\n",
    "        )\n",
    "        scv.tl.velocity(adata_lymph)\n",
    "        scv.tl.velocity_graph(adata_lymph)\n",
    "        scv.tl.latent_time(adata_lymph)\n",
    "        \n",
    "    if bool_recluster == True:\n",
    "        sc.tl.leiden(adata_lymph, \n",
    "                     resolution=0.5,\n",
    "                     key_added='leiden_lymph')\n",
    "        pd.DataFrame(adata_lymph.obs).to_csv(path_or_buf=sc_settings_writedir+'obs_adata_lymph.csv')\n",
    "    else:\n",
    "        obs=pd.read_csv(sc_settings_writedir+'obs_adata_lymph.csv')\n",
    "        adata_lymph.obs['leiden_lymph']=pd.Series(obs['leiden_lymph'].values, dtype = 'category')\n",
    "    sc.write(sc_settings_writedir+'adata_lymph.h5ad', adata_lymph)\n",
    "else:\n",
    "    adata_lymph=sc.read(sc_settings_writedir+'adata_lymph.h5ad') \n",
    "sc.tl.paga(adata_lymph)"
   ]
  },
  {
   "cell_type": "code",
   "execution_count": 48,
   "metadata": {},
   "outputs": [],
   "source": [
    "if bool_plot == True:\n",
    "    plt.rcParams['figure.figsize']=[10,10]\n",
    "    cf.plot_umap_marker(adata_lymph,\n",
    "                        ['leiden_lymph'], \n",
    "                        save=\"_lymph_cells_leiden_clustering\",\n",
    "                        use_raw=False, \n",
    "                        legend_loc='on data', \n",
    "                        size=50\n",
    "    )"
   ]
  },
  {
   "cell_type": "markdown",
   "metadata": {},
   "source": [
    "## Cluster cell type "
   ]
  },
  {
   "cell_type": "code",
   "execution_count": 49,
   "metadata": {},
   "outputs": [],
   "source": [
    "#####################################################################################################################\n",
    "if bool_plot == True:\n",
    "    marker_genes_dict={'T Cell': ['Cd3g','Cd3d','Cd3e'],\n",
    "                       'Naïve T Cell': ['Sell','Ccr7'],\n",
    "                       'CD4+/CD8+ T Cell': ['Cd4','Cd40lg','Cd8a','Cd8b1','Foxp3','Ctla4','Nkg7','Gzmb','Gzmk'], \n",
    "                       'MAIT': ['Cd44','Rorc','Cxcr6','Zbtb16','Ccr6','Il17a','Il23r'],                         \n",
    "                       'NK Cell': ['Klrd1','Klrc1','Ncr1','Il2rb','Klrb1c','Klrk1'],\n",
    "                       'ILCs': ['Il7r','Cd200r1','Gata3','Ly6a','Il1rl1','Il5','Il13']\n",
    "    } \n",
    "    for i in list(marker_genes_dict.keys()):\n",
    "        marker_genes_dict[i].sort()\n",
    "        \n",
    "    sc.pl.dotplot(adata=adata_lymph,\n",
    "                  var_names=marker_genes_dict, \n",
    "                  groupby='leiden_lymph',\n",
    "                  use_raw=True, \n",
    "                  log=False, \n",
    "                  dendrogram=True, \n",
    "                  var_group_rotation=90, \n",
    "                  show=True, \n",
    "                  #size_title=5,\n",
    "                  save=\"lymph_cells_celltypes_markers.pdf\"\n",
    "    )"
   ]
  },
  {
   "cell_type": "markdown",
   "metadata": {},
   "source": [
    "## UMAP with assigned cell types"
   ]
  },
  {
   "cell_type": "code",
   "execution_count": 50,
   "metadata": {},
   "outputs": [],
   "source": [
    "#####################################################################################################################\n",
    "if bool_plot == True:\n",
    "    new_cluster_names = {'0': \"CD4+/CD8+ T Cell\",\n",
    "                         '1': \"Naïve T Cell\",\n",
    "                         '2': \"NK Cell\",\n",
    "                         '3': \"ILCs\",\n",
    "                         '4': \"MAIT\"\n",
    "    }\n",
    "    adata_lymph.obs['celltypes'] = [new_cluster_names[x] for x in  adata_lymph.obs['leiden_lymph']]\n",
    "    plt.rcParams['figure.figsize']=[10,10]\n",
    "    cf.plot_umap_marker(adata_lymph, \n",
    "                        ['celltypes'], \n",
    "                        palette=['tab:blue','tab:Red','tab:purple','tab:green','tab:orange'],\n",
    "                        save=\"_lymph_cells_celltypes\",\n",
    "                        use_raw=False, \n",
    "                        frameon=True, \n",
    "                        size=50,\n",
    "                        title=''\n",
    "    ) "
   ]
  },
  {
   "cell_type": "markdown",
   "metadata": {},
   "source": [
    "## Differential gene expression - clusters"
   ]
  },
  {
   "cell_type": "code",
   "execution_count": 51,
   "metadata": {},
   "outputs": [],
   "source": [
    "if bool_plot == True: \n",
    "    #adata_imuno1 = adata_imuno[:, adata_imuno.var.highly_variable] # Keep only top 4000\n",
    "    sc.tl.rank_genes_groups(adata_lymph, \n",
    "                            'leiden_lymph',\n",
    "                            use_raw=False,\n",
    "                            method='t-test'\n",
    "    )  \n",
    "    # Build the \n",
    "    result = adata_lymph.uns['rank_genes_groups']\n",
    "    groups = result['names'].dtype.names\n",
    "    df = pd.DataFrame({group + '_' + key[:1]: result[key][group]\n",
    "                   for group in groups for key in ['names', 'logfoldchanges', 'pvals_adj']}\n",
    "    )\n",
    "    df.to_csv(\"tables/DGE_lymph_clusters.csv\")"
   ]
  },
  {
   "cell_type": "markdown",
   "metadata": {},
   "source": [
    "## RNA velocity"
   ]
  },
  {
   "cell_type": "code",
   "execution_count": 52,
   "metadata": {},
   "outputs": [],
   "source": [
    "if bool_plot == True:\n",
    "    scv.pl.velocity_embedding_stream(adata_lymph,\n",
    "                                     basis='umap', \n",
    "                                     color='leiden_lymph',\n",
    "                                     use_raw=False, \n",
    "                                     size=60, \n",
    "                                     figsize=(10,10), \n",
    "                                     legend_loc='on data', \n",
    "                                     save=\"lymph_cells_clust_velocity.svg\"\n",
    "                                     #palette=['firebrick','mediumblue','dodgerblue','aqua']\n",
    "    ) "
   ]
  },
  {
   "cell_type": "code",
   "execution_count": 53,
   "metadata": {},
   "outputs": [],
   "source": [
    "if bool_plot == True:\n",
    "    kwargs = dict(color='latent_time',\n",
    "                  color_map='gnuplot',\n",
    "                  title='',\n",
    "                  vmin=-.1,\n",
    "                  colorbar=False,\n",
    "                  show=False\n",
    "    )\n",
    "    ax = scv.pl.velocity_embedding(adata_lymph, \n",
    "                                   arrow_length=4,\n",
    "                                   arrow_size=1.5,\n",
    "                                   alpha=.5, \n",
    "                                   dpi=150,\n",
    "                                   **kwargs\n",
    "    )\n",
    "    ax = scv.pl.velocity_embedding_stream(adata_lymph,\n",
    "                                          size=150,\n",
    "                                          alpha=.01,\n",
    "                                          arrow_color='white',\n",
    "                                          ax=ax,\n",
    "                                          smooth=.7,\n",
    "                                          min_mass=3.5, \n",
    "                                          density=.6, \n",
    "                                          linewidth=.6, \n",
    "                                          **kwargs\n",
    "    )\n",
    "    ax = scv.pl.velocity_embedding_stream(adata_lymph,\n",
    "                                          size=150, \n",
    "                                          alpha=.1,\n",
    "                                          arrow_color='darkslategrey', \n",
    "                                          ax=ax,\n",
    "                                          smooth=.7, \n",
    "                                          min_mass=3.5,\n",
    "                                          density=.6,\n",
    "                                          linewidth=.5,\n",
    "                                          save=\"lymph_cells_latentTime_velocity.svg\",\n",
    "                                          **kwargs\n",
    "    )"
   ]
  },
  {
   "cell_type": "code",
   "execution_count": 54,
   "metadata": {},
   "outputs": [],
   "source": [
    "if bool_plot == True:\n",
    "    var_names = adata_lymph.var.sort_values('fit_likelihood', ascending=False).index[:300]\n",
    "    scv.pl.heatmap(adata_lymph,\n",
    "                   var_names=var_names,\n",
    "                   tkey='latent_time',\n",
    "                   n_convolve=100, \n",
    "                   col_color='leiden_lymph',\n",
    "                   save='lymph_cells_heatmap_latentTime.pdf'\n",
    "    )\n",
    "    # save table of top dynamical genes\n",
    "    scv.tl.rank_dynamical_genes(adata_lymph,\n",
    "                                groupby='leiden_lymph'\n",
    "    )\n",
    "    df = scv.get_df(adata_lymph, \n",
    "                    'rank_dynamical_genes/names'\n",
    "    )\n",
    "    df.to_csv('tables/lymph_rank_dynamical_genes.csv')"
   ]
  },
  {
   "cell_type": "markdown",
   "metadata": {},
   "source": [
    "## Diffusion Pseudotime"
   ]
  },
  {
   "cell_type": "markdown",
   "metadata": {},
   "source": [
    "Finally, we include Diffusion Pseudotime in the analysis to further support the found trajectories. Diffusion pseudotime is integrated into scanpy and is therefore easy to use with the current setup.\n",
    "\n",
    "DPT is based on diffusion maps, thus a diffusion map representation must be calculated prior to pseudotime inference. This in turn is based on a KNN graph embedding obtained from `sc.pp.neighbors()`."
   ]
  },
  {
   "cell_type": "code",
   "execution_count": 55,
   "metadata": {},
   "outputs": [],
   "source": [
    "if bool_plot==True:\n",
    "    \n",
    "    sc.pp.neighbors(adata_lymph)\n",
    "    sc.tl.diffmap(adata_lymph)\n",
    "\n",
    "    lymph_mask21 = np.isin(adata_lymph.obs['leiden_lymph'], '1')\n",
    "    max_lymph_id21 = np.argmax(adata_lymph.obsm['X_diffmap'][lymph_mask21,2])\n",
    "    root_id21 = np.arange(len(lymph_mask21))[lymph_mask21][max_lymph_id21]\n",
    "    adata_lymph.uns['iroot'] = root_id21\n",
    "\n",
    "    #Compute dpt\n",
    "    sc.tl.dpt(adata_lymph,\n",
    "              n_branchings=0\n",
    "    )\n",
    "\n",
    "    cf.plot_diffmap_marker(adata_lymph,\n",
    "                           ['leiden_lymph','age_type','tissue_type','dpt_pseudotime'],\n",
    "                           components='1,2', \n",
    "                           color_map=mymap, \n",
    "                           use_raw=False,\n",
    "                           size=20,\n",
    "                           save=\"_lymph_cells\"\n",
    "    )"
   ]
  },
  {
   "cell_type": "markdown",
   "metadata": {},
   "source": [
    "# Young - WAT monocytes and macrophages"
   ]
  },
  {
   "cell_type": "code",
   "execution_count": 56,
   "metadata": {},
   "outputs": [],
   "source": [
    "# RNA velocity\n",
    "if bool_recomp == True: \n",
    "    adata_mm_y=adata_mm[adata_mm.obs['age_type']=='young',]\n",
    "    sc.pp.pca(adata_mm_y,\n",
    "              n_comps=50,\n",
    "              use_highly_variable=True,\n",
    "              random_state=0, \n",
    "              svd_solver='arpack'\n",
    "    )\n",
    "    sc.pp.neighbors(adata_mm_y,\n",
    "                    n_neighbors=100,\n",
    "                    knn=True, \n",
    "                    method='umap',\n",
    "                    n_pcs=50, \n",
    "                    random_state=0\n",
    "    )\n",
    "    sc.tl.umap(adata_mm_y)\n",
    "    \n",
    "    sc.tl.leiden(adata_mm_y, \n",
    "                     resolution=0.5,\n",
    "                     key_added='leiden_mm_y'\n",
    "    )\n",
    "    scv.pp.moments(adata_mm_y, \n",
    "                   n_pcs=30,\n",
    "                   n_neighbors=30\n",
    "    )\n",
    "    scv.tl.recover_dynamics(adata_mm_y, \n",
    "                            n_jobs=8\n",
    "    )\n",
    "    scv.tl.velocity(adata_mm_y)\n",
    "    scv.tl.velocity_graph(adata_mm_y)\n",
    "    scv.tl.latent_time(adata_mm_y)\n",
    "    sc.write(sc_settings_writedir+'adata_mm_y.h5ad', adata_mm_y)\n",
    "else:\n",
    "    adata_mm_y = sc.read(sc_settings_writedir+'adata_mm_y.h5ad') "
   ]
  },
  {
   "cell_type": "code",
   "execution_count": 57,
   "metadata": {},
   "outputs": [],
   "source": [
    "if bool_plot == True:\n",
    "    plt.rcParams['figure.figsize']=[10,10]\n",
    "    cf.plot_umap_marker(adata_mm_y,\n",
    "                        ['leiden_mm_y'], \n",
    "                        save=\"_mm_young_cells_leiden_clustering\",\n",
    "                        use_raw=False, \n",
    "                        legend_loc='on data', \n",
    "                        size=50\n",
    "    )"
   ]
  },
  {
   "cell_type": "markdown",
   "metadata": {},
   "source": [
    "## Cluster cell type "
   ]
  },
  {
   "cell_type": "code",
   "execution_count": 58,
   "metadata": {},
   "outputs": [],
   "source": [
    "#####################################################################################################################\n",
    "if bool_plot==True:\n",
    "    marker_genes_dict={'Monocyte': ['Lyz1','Fn1','Ear2','Csf3r'],\n",
    "                       'Classical Monocyte': ['Ly6c1','Ccr2'],\n",
    "                       'Intermediate Monocyte': ['Ccr5'],\n",
    "                       'Non-classical Monocyte': ['Pag1','Fpr2','Cx3cr1','Fcgr4','Il1b','Lst1','Treml4'],\n",
    "                       'Macrophage': ['Adgre1','Cd14','C1qc','Mrc1','Pf4'],\n",
    "                       'Inflammatory Macrophage': ['Tnf','Mmp3','Mmp9'],\n",
    "                       'Perivascular Macrophage': ['Cd163','Lyve1'],\n",
    "                       'Lipid-associated Macrophage': ['Trem2','Ctsb','Cd36','Ctsl','Lgals1','Lipa','Rhoc','Cd68',\n",
    "                                                       'Pld3','Plin2','Serpinb6a','Cd63','Ms4a7']\n",
    "    } \n",
    "    for i in list(marker_genes_dict.keys()):\n",
    "        marker_genes_dict[i].sort()\n",
    "        \n",
    "    sc.pl.dotplot(adata=adata_mm_y,\n",
    "                  var_names=marker_genes_dict, \n",
    "                  groupby='leiden_mm_y',\n",
    "                  use_raw=True, \n",
    "                  log=False, \n",
    "                  dendrogram=True, \n",
    "                  var_group_rotation=90, \n",
    "                  show=True, \n",
    "                  #size_title=5,\n",
    "                  save=\"mm_young_cells_celltypes_markers.pdf\"\n",
    "    )"
   ]
  },
  {
   "cell_type": "markdown",
   "metadata": {},
   "source": [
    "## UMAP with assigned cell types"
   ]
  },
  {
   "cell_type": "code",
   "execution_count": 59,
   "metadata": {},
   "outputs": [],
   "source": [
    "if bool_plot == True:\n",
    "    new_cluster_names = {'0': \"Lipid-associated Macrophage\",\n",
    "                         '1': \"Intermediate Monocyte\",\n",
    "                         '2': \"Inflammatory Macrophage\",\n",
    "                         '3': \"Non-classical Monocyte\",\n",
    "                         '4': \"Perivascular Macrophage\",\n",
    "                         '5': \"Classical Monocyte\"\n",
    "    }\n",
    "    adata_mm_y.obs['celltypes'] = [new_cluster_names[x] for x in  adata_mm_y.obs['leiden_mm_y']]\n",
    "    plt.rcParams['figure.figsize']=[10,10]\n",
    "    cf.plot_umap_marker(adata_mm_y, \n",
    "                        ['celltypes'], \n",
    "                        save=\"_mm_young_cells_celltypes\",\n",
    "                        palette=['tab:brown','tab:Red','tab:blue','tab:orange','tab:green','tab:purple'],\n",
    "                        use_raw=False, \n",
    "                        frameon=True, \n",
    "                        size=50,\n",
    "                        title=''\n",
    "    ) "
   ]
  },
  {
   "cell_type": "markdown",
   "metadata": {},
   "source": [
    "## Differential gene expression - clusters"
   ]
  },
  {
   "cell_type": "code",
   "execution_count": 60,
   "metadata": {},
   "outputs": [],
   "source": [
    "if bool_plot == True: \n",
    "    #adata_imuno1 = adata_imuno[:, adata_imuno.var.highly_variable] # Keep only top 4000\n",
    "    sc.tl.rank_genes_groups(adata_mm_y, \n",
    "                            'leiden_mm_y',\n",
    "                            use_raw=False,\n",
    "                            method='t-test'\n",
    "    )  \n",
    "    # Build the \n",
    "    result = adata_mm_y.uns['rank_genes_groups']\n",
    "    groups = result['names'].dtype.names\n",
    "    df = pd.DataFrame({group + '_' + key[:1]: result[key][group]\n",
    "                   for group in groups for key in ['names', 'logfoldchanges', 'pvals_adj']}\n",
    "    )\n",
    "    df.to_csv(\"tables/DGE_mm_young_clusters.csv\")"
   ]
  },
  {
   "cell_type": "markdown",
   "metadata": {},
   "source": [
    "## RNA velocity"
   ]
  },
  {
   "cell_type": "code",
   "execution_count": 61,
   "metadata": {
    "scrolled": false
   },
   "outputs": [],
   "source": [
    "if bool_plot == True:\n",
    "    scv.pl.velocity_embedding_stream(adata_mm_y,\n",
    "                                     basis='umap', \n",
    "                                     color='leiden_mm_y',\n",
    "                                     use_raw=False, \n",
    "                                     size=60, \n",
    "                                     figsize=(10,10), \n",
    "                                     legend_loc='on data',\n",
    "                                     save=\"mm_young_cells_clust_velocity.svg\"\n",
    "                                     #palette=['firebrick','mediumblue','dodgerblue','aqua']\n",
    "    ) "
   ]
  },
  {
   "cell_type": "markdown",
   "metadata": {},
   "source": [
    "## Latent time"
   ]
  },
  {
   "cell_type": "markdown",
   "metadata": {},
   "source": [
    "The dynamical model recovers the latent time of the underlying cellular processes. This latent time represents the cell’s internal clock and approximates the real time experienced by cells as they differentiate, based only on its transcriptional dynamics."
   ]
  },
  {
   "cell_type": "code",
   "execution_count": 62,
   "metadata": {},
   "outputs": [],
   "source": [
    "if bool_plot == True:\n",
    "    kwargs = dict(color='latent_time',\n",
    "                  color_map='gnuplot',\n",
    "                  title='',\n",
    "                  vmin=-.1,\n",
    "                  colorbar=False,\n",
    "                  show=False\n",
    "    )\n",
    "    ax = scv.pl.velocity_embedding(adata_mm_y, \n",
    "                                   arrow_length=4,\n",
    "                                   arrow_size=1.5,\n",
    "                                   alpha=.5, \n",
    "                                   dpi=150,\n",
    "                                   **kwargs\n",
    "    )\n",
    "    ax = scv.pl.velocity_embedding_stream(adata_mm_y,\n",
    "                                          size=150,\n",
    "                                          alpha=.01,\n",
    "                                          arrow_color='white',\n",
    "                                          ax=ax,\n",
    "                                          smooth=.7,\n",
    "                                          min_mass=3.5, \n",
    "                                          density=.6, \n",
    "                                          linewidth=.6, \n",
    "                                          **kwargs\n",
    "    )\n",
    "    ax = scv.pl.velocity_embedding_stream(adata_mm_y,\n",
    "                                          size=150, \n",
    "                                          alpha=.1,\n",
    "                                          arrow_color='darkslategrey', \n",
    "                                          ax=ax,\n",
    "                                          smooth=.7, \n",
    "                                          min_mass=3.5,\n",
    "                                          density=.6,\n",
    "                                          linewidth=.5,\n",
    "                                          save=\"mm_young_cells_latentTime_velocity.svg\",\n",
    "                                          **kwargs\n",
    "    )"
   ]
  },
  {
   "cell_type": "code",
   "execution_count": 63,
   "metadata": {},
   "outputs": [],
   "source": [
    "if bool_plot == True:\n",
    "    var_names = adata_mm_y.var.sort_values('fit_likelihood', ascending=False).index[:300]\n",
    "    scv.pl.heatmap(adata_mm_y,\n",
    "                   var_names=var_names,\n",
    "                   tkey='latent_time',\n",
    "                   n_convolve=100, \n",
    "                   col_color='leiden_mm_y',\n",
    "                   save='mm_young_cells_heatmap_latentTime.pdf'\n",
    "    )\n",
    "    # save table of top dynamical genes\n",
    "    scv.tl.rank_dynamical_genes(adata_mm_y,\n",
    "                                groupby='leiden_mm_y'\n",
    "    )\n",
    "    df = scv.get_df(adata_mm_y, \n",
    "                    'rank_dynamical_genes/names'\n",
    "    )\n",
    "    df.to_csv('tables/mm_young_rank_dynamical_genes.csv')"
   ]
  },
  {
   "cell_type": "markdown",
   "metadata": {},
   "source": [
    "## Diffusion Pseudotime"
   ]
  },
  {
   "cell_type": "markdown",
   "metadata": {},
   "source": [
    "Finally, we include Diffusion Pseudotime in the analysis to further support the found trajectories. Diffusion pseudotime is integrated into scanpy and is therefore easy to use with the current setup.\n",
    "\n",
    "DPT is based on diffusion maps, thus a diffusion map representation must be calculated prior to pseudotime inference. This in turn is based on a KNN graph embedding obtained from `sc.pp.neighbors()`."
   ]
  },
  {
   "cell_type": "code",
   "execution_count": 64,
   "metadata": {},
   "outputs": [],
   "source": [
    "if bool_plot == True:\n",
    "    sc.pp.neighbors(adata_mm_y)\n",
    "    sc.tl.diffmap(adata_mm_y)\n",
    "\n",
    "    mm_mask21 = np.isin(adata_mm_y.obs['leiden_mm_y'], '5')\n",
    "    max_mm_id21 = np.argmax(adata_mm_y.obsm['X_diffmap'][mm_mask21,2])\n",
    "    root_id21 = np.arange(len(mm_mask21))[mm_mask21][max_mm_id21]\n",
    "    adata_mm_y.uns['iroot'] = root_id21\n",
    "\n",
    "    #Compute dpt\n",
    "    sc.tl.dpt(adata_mm_y, n_branchings = 0)\n",
    "\n",
    "    cf.plot_diffmap_marker(adata_mm_y,\n",
    "                           ['leiden_mm_y','age_type','tissue_type','dpt_pseudotime'],\n",
    "                           components='1,2', \n",
    "                           color_map=mymap, \n",
    "                           use_raw=False,\n",
    "                           size=20,\n",
    "                           save=\"_mm_young_cells\"\n",
    "    )"
   ]
  },
  {
   "cell_type": "markdown",
   "metadata": {},
   "source": [
    "# Old - WAT monocytes and macrophages"
   ]
  },
  {
   "cell_type": "code",
   "execution_count": 65,
   "metadata": {},
   "outputs": [],
   "source": [
    "# RNA velocity\n",
    "if bool_recomp == True: \n",
    "    adata_mm_o=adata_mm[adata_mm.obs['age_type']=='old',]\n",
    "    sc.pp.pca(adata_mm_o,\n",
    "              n_comps=50,\n",
    "              use_highly_variable=True,\n",
    "              random_state=0, \n",
    "              svd_solver='arpack'\n",
    "    )\n",
    "    sc.pp.neighbors(adata_mm_o,\n",
    "                    n_neighbors=100,\n",
    "                    knn=True, \n",
    "                    method='umap',\n",
    "                    n_pcs=50, \n",
    "                    random_state=0\n",
    "    )\n",
    "    sc.tl.umap(adata_mm_o)\n",
    "    \n",
    "    sc.tl.leiden(adata_mm_o, \n",
    "                     resolution=0.5,\n",
    "                     key_added='leiden_mm_o'\n",
    "    )\n",
    "    scv.pp.moments(adata_mm_o, \n",
    "                   n_pcs=30,\n",
    "                   n_neighbors=30\n",
    "    )\n",
    "    scv.tl.recover_dynamics(adata_mm_o, \n",
    "                            n_jobs=8\n",
    "    )\n",
    "    scv.tl.velocity(adata_mm_o)\n",
    "    scv.tl.velocity_graph(adata_mm_o)\n",
    "    scv.tl.latent_time(adata_mm_o)\n",
    "    sc.write(sc_settings_writedir+'adata_mm_o.h5ad', adata_mm_o)\n",
    "else:\n",
    "    adata_mm_o = sc.read(sc_settings_writedir+'adata_mm_o.h5ad') "
   ]
  },
  {
   "cell_type": "code",
   "execution_count": 66,
   "metadata": {},
   "outputs": [],
   "source": [
    "if bool_plot == True:\n",
    "    plt.rcParams['figure.figsize']=[10,10]\n",
    "    cf.plot_umap_marker(adata_mm_o,\n",
    "                        ['leiden_mm_o'], \n",
    "                        save=\"_mm_old_cells_leiden_clustering\",\n",
    "                        use_raw=False, \n",
    "                        legend_loc='on data', \n",
    "                        size=50\n",
    "    )"
   ]
  },
  {
   "cell_type": "markdown",
   "metadata": {},
   "source": [
    "## Cluster cell type "
   ]
  },
  {
   "cell_type": "code",
   "execution_count": 67,
   "metadata": {},
   "outputs": [],
   "source": [
    "#####################################################################################################################\n",
    "if bool_plot == True:\n",
    "    marker_genes_dict={'Monocyte': ['Lyz1','Fn1','Ear2','Csf3r'],\n",
    "                       'Classical Monocyte': ['Ly6c1','Ccr2'],\n",
    "                       'Intermediate Monocyte': ['Ccr5'],\n",
    "                       'Non-classical Monocyte': ['Pag1','Fpr2','Cx3cr1','Fcgr4','Il1b','Lst1','Treml4'],\n",
    "                       'Macrophage': ['Adgre1','Cd14','C1qc','Mrc1','Pf4'],\n",
    "                       'Inflammatory Macrophage': ['Tnf','Mmp3','Mmp9'],\n",
    "                       'Perivascular Macrophage': ['Cd163','Lyve1'],\n",
    "                       'Lipid-associated Macrophage': ['Trem2','Ctsb','Cd36','Ctsl','Lgals1','Lipa','Rhoc','Cd68',\n",
    "                                                       'Pld3','Plin2','Serpinb6a','Cd63','Ms4a7']\n",
    "    } \n",
    "    for i in list(marker_genes_dict.keys()):\n",
    "        marker_genes_dict[i].sort()\n",
    "        \n",
    "    sc.pl.dotplot(adata=adata_mm_o,\n",
    "                  var_names=marker_genes_dict, \n",
    "                  groupby='leiden_mm_o',\n",
    "                  use_raw=True, \n",
    "                  log=False, \n",
    "                  dendrogram=True, \n",
    "                  var_group_rotation=90, \n",
    "                  show=True, \n",
    "                  #size_title=5,\n",
    "                  save=\"mm_old_cells_celltypes_markers.pdf\"\n",
    "    )"
   ]
  },
  {
   "cell_type": "markdown",
   "metadata": {},
   "source": [
    "## UMAP with assigned cell types"
   ]
  },
  {
   "cell_type": "code",
   "execution_count": 68,
   "metadata": {},
   "outputs": [],
   "source": [
    "if bool_plot == True:\n",
    "    new_cluster_names = {'0': \"Inflammatory Macrophage\",\n",
    "                         '1': \"Intermediate Monocyte\",\n",
    "                         '2': \"Classical Monocyte\",\n",
    "                         '3': \"Non-classical Monocyte\",\n",
    "                         '4': \"Lipid-associated Macrophage\"\n",
    "    }\n",
    "    adata_mm_o.obs['celltypes'] = [new_cluster_names[x] for x in  adata_mm_o.obs['leiden_mm_o']]\n",
    "    plt.rcParams['figure.figsize']=[10,10]\n",
    "    cf.plot_umap_marker(adata_mm_o, \n",
    "                        ['celltypes'], \n",
    "                        palette=['tab:brown','tab:Red','tab:blue','tab:orange','tab:green'],\n",
    "                        save=\"_mm_old_cells_celltypes\",\n",
    "                        use_raw=False, \n",
    "                        frameon=True, \n",
    "                        size=50,\n",
    "                        title=''\n",
    "    ) "
   ]
  },
  {
   "cell_type": "markdown",
   "metadata": {},
   "source": [
    "## Differential gene expression - clusters"
   ]
  },
  {
   "cell_type": "code",
   "execution_count": 69,
   "metadata": {},
   "outputs": [],
   "source": [
    "if bool_plot == True: \n",
    "    #adata_imuno1 = adata_imuno[:, adata_imuno.var.highly_variable] # Keep only top 4000\n",
    "    sc.tl.rank_genes_groups(adata_mm_o, \n",
    "                            'leiden_mm_o',\n",
    "                            use_raw=False,\n",
    "                            method='t-test'\n",
    "    )  \n",
    "    # Build the \n",
    "    result = adata_mm_o.uns['rank_genes_groups']\n",
    "    groups = result['names'].dtype.names\n",
    "    df = pd.DataFrame({group + '_' + key[:1]: result[key][group]\n",
    "                   for group in groups for key in ['names', 'logfoldchanges', 'pvals_adj']}\n",
    "    )\n",
    "    df.to_csv(\"tables/DGE_mm_old_clusters.csv\")"
   ]
  },
  {
   "cell_type": "markdown",
   "metadata": {},
   "source": [
    "## RNA velocity"
   ]
  },
  {
   "cell_type": "code",
   "execution_count": 70,
   "metadata": {
    "scrolled": false
   },
   "outputs": [],
   "source": [
    "if bool_plot == True:\n",
    "    scv.pl.velocity_embedding_stream(adata_mm_o,\n",
    "                                     basis='umap', \n",
    "                                     color='leiden_mm_o',\n",
    "                                     use_raw=False, \n",
    "                                     size=60, \n",
    "                                     figsize=(10,10), \n",
    "                                     legend_loc='on data',\n",
    "                                     save=\"mm_old_cells_clust_velocity.svg\"\n",
    "                                     #palette=['firebrick','mediumblue','dodgerblue','aqua']\n",
    "    ) "
   ]
  },
  {
   "cell_type": "markdown",
   "metadata": {},
   "source": [
    "## Latent time"
   ]
  },
  {
   "cell_type": "markdown",
   "metadata": {},
   "source": [
    "The dynamical model recovers the latent time of the underlying cellular processes. This latent time represents the cell’s internal clock and approximates the real time experienced by cells as they differentiate, based only on its transcriptional dynamics."
   ]
  },
  {
   "cell_type": "code",
   "execution_count": 71,
   "metadata": {},
   "outputs": [],
   "source": [
    "if bool_plot == True:\n",
    "    kwargs = dict(color='latent_time',\n",
    "                  color_map='gnuplot',\n",
    "                  title='',\n",
    "                  vmin=-.1,\n",
    "                  colorbar=False,\n",
    "                  show=False\n",
    "    )\n",
    "    ax = scv.pl.velocity_embedding(adata_mm_o, \n",
    "                                   arrow_length=4,\n",
    "                                   arrow_size=1.5,\n",
    "                                   alpha=.5, \n",
    "                                   dpi=150,\n",
    "                                   **kwargs\n",
    "    )\n",
    "    ax = scv.pl.velocity_embedding_stream(adata_mm_o,\n",
    "                                          size=150,\n",
    "                                          alpha=.01,\n",
    "                                          arrow_color='white',\n",
    "                                          ax=ax,\n",
    "                                          smooth=.7,\n",
    "                                          min_mass=3.5, \n",
    "                                          density=.6, \n",
    "                                          linewidth=.6, \n",
    "                                          **kwargs\n",
    "    )\n",
    "    ax = scv.pl.velocity_embedding_stream(adata_mm_o,\n",
    "                                          size=150, \n",
    "                                          alpha=.1,\n",
    "                                          arrow_color='darkslategrey', \n",
    "                                          ax=ax,\n",
    "                                          smooth=.7, \n",
    "                                          min_mass=3.5,\n",
    "                                          density=.6,\n",
    "                                          linewidth=.5,\n",
    "                                          save=\"mm_old_cells_latentTime_velocity.svg\",\n",
    "                                          **kwargs\n",
    "    )"
   ]
  },
  {
   "cell_type": "code",
   "execution_count": 72,
   "metadata": {},
   "outputs": [],
   "source": [
    "if bool_plot == True:\n",
    "    var_names = adata_mm_o.var.sort_values('fit_likelihood', ascending=False).index[:300]\n",
    "    scv.pl.heatmap(adata_mm_o,\n",
    "                   var_names=var_names,\n",
    "                   tkey='latent_time',\n",
    "                   n_convolve=100, \n",
    "                   col_color='leiden_mm_o',\n",
    "                   save='mm_old_cells_heatmap_latentTime.pdf'\n",
    "    )\n",
    "    # save table of top dynamical genes\n",
    "    scv.tl.rank_dynamical_genes(adata_mm_o,\n",
    "                                groupby='leiden_mm_o'\n",
    "    )\n",
    "    df = scv.get_df(adata_mm_o, \n",
    "                    'rank_dynamical_genes/names'\n",
    "    )\n",
    "    df.to_csv('tables/mm_old_rank_dynamical_genes.csv')"
   ]
  },
  {
   "cell_type": "markdown",
   "metadata": {},
   "source": [
    "## Diffusion Pseudotime"
   ]
  },
  {
   "cell_type": "markdown",
   "metadata": {},
   "source": [
    "Finally, we include Diffusion Pseudotime in the analysis to further support the found trajectories. Diffusion pseudotime is integrated into scanpy and is therefore easy to use with the current setup.\n",
    "\n",
    "DPT is based on diffusion maps, thus a diffusion map representation must be calculated prior to pseudotime inference. This in turn is based on a KNN graph embedding obtained from `sc.pp.neighbors()`."
   ]
  },
  {
   "cell_type": "code",
   "execution_count": 73,
   "metadata": {
    "scrolled": false
   },
   "outputs": [],
   "source": [
    "if bool_plot == True:\n",
    "    sc.pp.neighbors(adata_mm_o)\n",
    "    sc.tl.diffmap(adata_mm_o)\n",
    "\n",
    "    mm_mask21 = np.isin(adata_mm_o.obs['leiden_mm_o'], '2')\n",
    "    max_mm_id21 = np.argmax(adata_mm_o.obsm['X_diffmap'][mm_mask21,2])\n",
    "    root_id21 = np.arange(len(mm_mask21))[mm_mask21][max_mm_id21]\n",
    "    adata_mm_o.uns['iroot'] = root_id21\n",
    "\n",
    "    #Compute dpt\n",
    "    sc.tl.dpt(adata_mm_o, \n",
    "              n_branchings=0\n",
    "    )\n",
    "    cf.plot_diffmap_marker(adata_mm_o,\n",
    "                           ['leiden_mm_o','age_type','tissue_type','dpt_pseudotime'],\n",
    "                           components='1,2', \n",
    "                           color_map=mymap, \n",
    "                           use_raw=False,\n",
    "                           size=20,\n",
    "                           save=\"_mm_old_cells\"\n",
    "    )"
   ]
  },
  {
   "cell_type": "markdown",
   "metadata": {},
   "source": [
    "# Young - WAT effector lymphocytes"
   ]
  },
  {
   "cell_type": "code",
   "execution_count": 74,
   "metadata": {},
   "outputs": [],
   "source": [
    "# RNA velocity\n",
    "if bool_recomp == True: \n",
    "    adata_lymph_y=adata_lymph[adata_lymph.obs['age_type']=='young',]\n",
    "    sc.pp.pca(adata_lymph_y,\n",
    "              n_comps=50,\n",
    "              use_highly_variable=True,\n",
    "              random_state=0, \n",
    "              svd_solver='arpack'\n",
    "    )\n",
    "    sc.pp.neighbors(adata_lymph_y,\n",
    "                    n_neighbors=100,\n",
    "                    knn=True, \n",
    "                    method='umap',\n",
    "                    n_pcs=50, \n",
    "                    random_state=0\n",
    "    )\n",
    "    sc.tl.umap(adata_lymph_y)\n",
    "    \n",
    "    sc.tl.leiden(adata_lymph_y, \n",
    "                     resolution=0.5,\n",
    "                     key_added='leiden_lymph_y'\n",
    "    )\n",
    "    scv.pp.moments(adata_lymph_y, \n",
    "                   n_pcs=30,\n",
    "                   n_neighbors=30\n",
    "    )\n",
    "    scv.tl.recover_dynamics(adata_lymph_y, \n",
    "                            n_jobs=8\n",
    "    )\n",
    "    scv.tl.velocity(adata_lymph_y)\n",
    "    scv.tl.velocity_graph(adata_lymph_y)\n",
    "    scv.tl.latent_time(adata_lymph_y)\n",
    "    sc.write(sc_settings_writedir+'adata_lymph_y.h5ad', adata_lymph_y)\n",
    "else:\n",
    "    adata_lymph_y = sc.read(sc_settings_writedir+'adata_lymph_y.h5ad') "
   ]
  },
  {
   "cell_type": "code",
   "execution_count": 75,
   "metadata": {},
   "outputs": [],
   "source": [
    "if bool_plot == True:\n",
    "    plt.rcParams['figure.figsize']=[10,10]\n",
    "    cf.plot_umap_marker(adata_lymph_y,\n",
    "                        ['leiden_lymph_y'], \n",
    "                        save=\"_lymph_young_cells_leiden_clustering\",\n",
    "                        use_raw=False, \n",
    "                        legend_loc='on data', \n",
    "                        size=50\n",
    "    )"
   ]
  },
  {
   "cell_type": "markdown",
   "metadata": {},
   "source": [
    "## Cluster cell type "
   ]
  },
  {
   "cell_type": "code",
   "execution_count": 76,
   "metadata": {},
   "outputs": [],
   "source": [
    "#####################################################################################################################\n",
    "if bool_plot==True:\n",
    "    marker_genes_dict={'T Cell': ['Cd3g','Cd3d','Cd3e'],\n",
    "                       'Naïve T Cell': ['Sell','Ccr7'],\n",
    "                       'CD4+/CD8+ T Cell': ['Cd4','Cd40lg','Cd8a','Cd8b1','Foxp3','Ctla4','Nkg7','Gzmb','Gzmk'], \n",
    "                       'MAIT': ['Cd44','Rorc','Cxcr6','Zbtb16','Ccr6','Il17a','Il23r'],                         \n",
    "                       'NK Cell': ['Klrd1','Klrc1','Ncr1','Il2rb','Klrb1c','Klrk1'],\n",
    "                       'ILCs': ['Il7r','Cd200r1','Gata3','Ly6a','Il1rl1','Il5','Il13']\n",
    "    } \n",
    "    for i in list(marker_genes_dict.keys()):\n",
    "        marker_genes_dict[i].sort()\n",
    "        \n",
    "    sc.pl.dotplot(adata=adata_lymph_y,\n",
    "                  var_names=marker_genes_dict, \n",
    "                  groupby='leiden_lymph_y',\n",
    "                  use_raw=True, \n",
    "                  log=False, \n",
    "                  dendrogram=True, \n",
    "                  var_group_rotation=90, \n",
    "                  show=True, \n",
    "                  #size_title=5,\n",
    "                  save=\"lymph_young_cells_celltypes_markers.pdf\"\n",
    "    )"
   ]
  },
  {
   "cell_type": "markdown",
   "metadata": {},
   "source": [
    "## UMAP with assigned cell types"
   ]
  },
  {
   "cell_type": "code",
   "execution_count": 77,
   "metadata": {},
   "outputs": [],
   "source": [
    "if bool_plot == True:\n",
    "    new_cluster_names = {'0': \"CD4+/CD8+ T Cell\",\n",
    "                         '1': \"NK Cell\",\n",
    "                         '2': \"Naïve T Cell\",\n",
    "                         '3': \"ILCs\",\n",
    "                         '4': \"MAIT\"\n",
    "    }\n",
    "    adata_lymph_y.obs['celltypes'] = [new_cluster_names[x] for x in  adata_lymph_y.obs['leiden_lymph_y']]\n",
    "    plt.rcParams['figure.figsize']=[10,10]\n",
    "    cf.plot_umap_marker(adata_lymph_y, \n",
    "                        ['celltypes'], \n",
    "                        palette=['tab:blue','tab:Red','tab:purple','tab:green','tab:orange'],\n",
    "                        save=\"_lymph_young_cells_celltypes\",\n",
    "                        use_raw=False, \n",
    "                        frameon=True, \n",
    "                        size=50,\n",
    "                        title=''\n",
    "    ) "
   ]
  },
  {
   "cell_type": "markdown",
   "metadata": {},
   "source": [
    "## Differential gene expression - clusters"
   ]
  },
  {
   "cell_type": "code",
   "execution_count": 78,
   "metadata": {},
   "outputs": [],
   "source": [
    "if bool_plot == True: \n",
    "    #adata_imuno1 = adata_imuno[:, adata_imuno.var.highly_variable] # Keep only top 4000\n",
    "    sc.tl.rank_genes_groups(adata_lymph_y, \n",
    "                            'leiden_lymph_y',\n",
    "                            use_raw=False,\n",
    "                            method='t-test'\n",
    "    )  \n",
    "    # Build the \n",
    "    result = adata_lymph_y.uns['rank_genes_groups']\n",
    "    groups = result['names'].dtype.names\n",
    "    df = pd.DataFrame({group + '_' + key[:1]: result[key][group]\n",
    "                   for group in groups for key in ['names', 'logfoldchanges', 'pvals_adj']}\n",
    "    )\n",
    "    df.to_csv(\"tables/DGE_lymph_young_clusters.csv\")"
   ]
  },
  {
   "cell_type": "markdown",
   "metadata": {},
   "source": [
    "## RNA velocity"
   ]
  },
  {
   "cell_type": "code",
   "execution_count": 79,
   "metadata": {
    "scrolled": false
   },
   "outputs": [],
   "source": [
    "if bool_plot == True:\n",
    "    scv.pl.velocity_embedding_stream(adata_lymph_y,\n",
    "                                     basis='umap', \n",
    "                                     color='leiden_lymph_y',\n",
    "                                     use_raw=False, \n",
    "                                     size=60, \n",
    "                                     figsize=(10,10), \n",
    "                                     legend_loc='on data',\n",
    "                                     save=\"lymph_young_cells_clust_velocity.svg\"\n",
    "                                     #palette=['firebrick','mediumblue','dodgerblue','aqua']\n",
    "    ) "
   ]
  },
  {
   "cell_type": "markdown",
   "metadata": {},
   "source": [
    "## Latent time"
   ]
  },
  {
   "cell_type": "markdown",
   "metadata": {},
   "source": [
    "The dynamical model recovers the latent time of the underlying cellular processes. This latent time represents the cell’s internal clock and approximates the real time experienced by cells as they differentiate, based only on its transcriptional dynamics."
   ]
  },
  {
   "cell_type": "code",
   "execution_count": 80,
   "metadata": {},
   "outputs": [],
   "source": [
    "if bool_plot == True:\n",
    "    kwargs = dict(color='latent_time',\n",
    "                  color_map='gnuplot',\n",
    "                  title='',\n",
    "                  vmin=-.1,\n",
    "                  colorbar=False,\n",
    "                  show=False\n",
    "    )\n",
    "    ax = scv.pl.velocity_embedding(adata_lymph_y, \n",
    "                                   arrow_length=4,\n",
    "                                   arrow_size=1.5,\n",
    "                                   alpha=.5, \n",
    "                                   dpi=150,\n",
    "                                   **kwargs\n",
    "    )\n",
    "    ax = scv.pl.velocity_embedding_stream(adata_lymph_y,\n",
    "                                          size=150,\n",
    "                                          alpha=.01,\n",
    "                                          arrow_color='white',\n",
    "                                          ax=ax,\n",
    "                                          smooth=.7,\n",
    "                                          min_mass=3.5, \n",
    "                                          density=.6, \n",
    "                                          linewidth=.6, \n",
    "                                          **kwargs\n",
    "    )\n",
    "    ax = scv.pl.velocity_embedding_stream(adata_lymph_y,\n",
    "                                          size=150, \n",
    "                                          alpha=.1,\n",
    "                                          arrow_color='darkslategrey', \n",
    "                                          ax=ax,\n",
    "                                          smooth=.7, \n",
    "                                          min_mass=3.5,\n",
    "                                          density=.6,\n",
    "                                          linewidth=.5,\n",
    "                                          save=\"lymph_young_cells_latentTime_velocity.svg\",\n",
    "                                          **kwargs\n",
    "    )"
   ]
  },
  {
   "cell_type": "code",
   "execution_count": 81,
   "metadata": {},
   "outputs": [],
   "source": [
    "if bool_plot == True:\n",
    "    var_names = adata_lymph_y.var.sort_values('fit_likelihood', ascending=False).index[:300]\n",
    "    scv.pl.heatmap(adata_lymph_y,\n",
    "                   var_names=var_names,\n",
    "                   tkey='latent_time',\n",
    "                   n_convolve=100, \n",
    "                   col_color='leiden_lymph_y',\n",
    "                   save='lymph_young_cells_heatmap_latentTime.pdf'\n",
    "    )\n",
    "    # save table of top dynamical genes\n",
    "    scv.tl.rank_dynamical_genes(adata_lymph_y,\n",
    "                                groupby='leiden_lymph_y'\n",
    "    )\n",
    "    df = scv.get_df(adata_lymph_y, \n",
    "                    'rank_dynamical_genes/names'\n",
    "    )\n",
    "    df.to_csv('tables/lymph_young_rank_dynamical_genes.csv')"
   ]
  },
  {
   "cell_type": "markdown",
   "metadata": {},
   "source": [
    "## Diffusion Pseudotime"
   ]
  },
  {
   "cell_type": "markdown",
   "metadata": {},
   "source": [
    "Finally, we include Diffusion Pseudotime in the analysis to further support the found trajectories. Diffusion pseudotime is integrated into scanpy and is therefore easy to use with the current setup.\n",
    "\n",
    "DPT is based on diffusion maps, thus a diffusion map representation must be calculated prior to pseudotime inference. This in turn is based on a KNN graph embedding obtained from `sc.pp.neighbors()`."
   ]
  },
  {
   "cell_type": "code",
   "execution_count": 82,
   "metadata": {},
   "outputs": [],
   "source": [
    "if bool_plot == True:\n",
    "    sc.pp.neighbors(adata_lymph_y)\n",
    "    sc.tl.diffmap(adata_lymph_y)\n",
    "\n",
    "    mm_mask21 = np.isin(adata_lymph_y.obs['leiden_lymph_y'], '2')\n",
    "    max_mm_id21 = np.argmax(adata_lymph_y.obsm['X_diffmap'][mm_mask21,2])\n",
    "    root_id21 = np.arange(len(mm_mask21))[mm_mask21][max_mm_id21]\n",
    "    adata_lymph_y.uns['iroot'] = root_id21\n",
    "\n",
    "    #Compute dpt\n",
    "    sc.tl.dpt(adata_lymph_y, n_branchings = 0)\n",
    "\n",
    "    cf.plot_diffmap_marker(adata_lymph_y,\n",
    "                           ['leiden_lymph_y','age_type','tissue_type','dpt_pseudotime'],\n",
    "                           components='1,2', \n",
    "                           color_map=mymap, \n",
    "                           use_raw=False,\n",
    "                           size=20,\n",
    "                           save=\"_lymph_young_cells\"\n",
    "    )"
   ]
  },
  {
   "cell_type": "markdown",
   "metadata": {},
   "source": [
    "# Old - WAT monocytes and macrophages"
   ]
  },
  {
   "cell_type": "code",
   "execution_count": 83,
   "metadata": {},
   "outputs": [],
   "source": [
    "# RNA velocity\n",
    "if bool_recomp == True: \n",
    "    adata_lymph_o=adata_lymph[adata_lymph.obs['age_type']=='old',]\n",
    "    sc.pp.pca(adata_lymph_o,\n",
    "              n_comps=50,\n",
    "              use_highly_variable=True,\n",
    "              random_state=0, \n",
    "              svd_solver='arpack'\n",
    "    )\n",
    "    sc.pp.neighbors(adata_lymph_o,\n",
    "                    n_neighbors=100,\n",
    "                    knn=True, \n",
    "                    method='umap',\n",
    "                    n_pcs=50, \n",
    "                    random_state=0\n",
    "    )\n",
    "    sc.tl.umap(adata_lymph_o)\n",
    "    \n",
    "    sc.tl.leiden(adata_lymph_o, \n",
    "                 resolution=0.5,\n",
    "                 key_added='leiden_lymph_o'\n",
    "    )\n",
    "    scv.pp.moments(adata_lymph_o, \n",
    "                   n_pcs=30,\n",
    "                   n_neighbors=30\n",
    "    )\n",
    "    scv.tl.recover_dynamics(adata_lymph_o, \n",
    "                            n_jobs=8\n",
    "    )\n",
    "    scv.tl.velocity(adata_lymph_o)\n",
    "    scv.tl.velocity_graph(adata_lymph_o)\n",
    "    scv.tl.latent_time(adata_lymph_o)\n",
    "    sc.write(sc_settings_writedir+'adata_lymph_o.h5ad', adata_lymph_o)\n",
    "else:\n",
    "    adata_lymph_o = sc.read(sc_settings_writedir+'adata_lymph_o.h5ad') "
   ]
  },
  {
   "cell_type": "code",
   "execution_count": 84,
   "metadata": {},
   "outputs": [],
   "source": [
    "if bool_plot == True:\n",
    "    plt.rcParams['figure.figsize']=[10,10]\n",
    "    cf.plot_umap_marker(adata_lymph_o,\n",
    "                        ['leiden_lymph_o'], \n",
    "                        save=\"_lymph_old_cells_leiden_clustering\",\n",
    "                        use_raw=False, \n",
    "                        legend_loc='on data', \n",
    "                        size=50\n",
    "    )"
   ]
  },
  {
   "cell_type": "markdown",
   "metadata": {},
   "source": [
    "## Cluster cell type "
   ]
  },
  {
   "cell_type": "code",
   "execution_count": 85,
   "metadata": {},
   "outputs": [],
   "source": [
    "#####################################################################################################################\n",
    "if bool_plot == True:\n",
    "    marker_genes_dict={'T Cell': ['Cd3g','Cd3d','Cd3e'],\n",
    "                       'Naïve T Cell': ['Sell','Ccr7'],\n",
    "                       'CD4+/CD8+ T Cell': ['Cd4','Cd40lg','Cd8a','Cd8b1','Foxp3','Ctla4','Nkg7','Gzmb','Gzmk'], \n",
    "                       'MAIT': ['Cd44','Rorc','Cxcr6','Zbtb16','Ccr6','Il17a','Il23r'],                         \n",
    "                       'NK Cell': ['Klrd1','Klrc1','Ncr1','Il2rb','Klrb1c','Klrk1'],\n",
    "                       'ILCs': ['Il7r','Cd200r1','Gata3','Ly6a','Il1rl1','Il5','Il13']\n",
    "    } \n",
    "    for i in list(marker_genes_dict.keys()):\n",
    "        marker_genes_dict[i].sort()\n",
    "        \n",
    "    sc.pl.dotplot(adata=adata_lymph_o,\n",
    "                  var_names=marker_genes_dict, \n",
    "                  groupby='leiden_lymph_o',\n",
    "                  use_raw=True, \n",
    "                  log=False, \n",
    "                  dendrogram=True, \n",
    "                  var_group_rotation=90, \n",
    "                  show=True, \n",
    "                  #size_title=5,\n",
    "                  save=\"lymph_old_cells_celltypes_markers.pdf\"\n",
    "    )"
   ]
  },
  {
   "cell_type": "markdown",
   "metadata": {},
   "source": [
    "## UMAP with assigned cell types"
   ]
  },
  {
   "cell_type": "code",
   "execution_count": 86,
   "metadata": {},
   "outputs": [],
   "source": [
    "if bool_plot == True:\n",
    "    new_cluster_names = {'0': \"Naïve T Cell\",\n",
    "                         '1': \"CD4+/CD8+ T Cell\",\n",
    "                         '2': \"NK Cell\",\n",
    "                         '3': \"ILCs\",\n",
    "                         '4': \"MAIT\"\n",
    "    }\n",
    "    adata_lymph_o.obs['celltypes'] = [new_cluster_names[x] for x in  adata_lymph_o.obs['leiden_lymph_o']]\n",
    "    plt.rcParams['figure.figsize']=[10,10]\n",
    "    cf.plot_umap_marker(adata_lymph_o, \n",
    "                        ['celltypes'], \n",
    "                        palette=['tab:blue','tab:Red','tab:purple','tab:green','tab:orange'],\n",
    "                        save=\"_lymph_old_cells_celltypes\",\n",
    "                        use_raw=False, \n",
    "                        frameon=True, \n",
    "                        size=50,\n",
    "                        title=''\n",
    "    ) "
   ]
  },
  {
   "cell_type": "markdown",
   "metadata": {},
   "source": [
    "## Differential gene expression - clusters"
   ]
  },
  {
   "cell_type": "code",
   "execution_count": 87,
   "metadata": {},
   "outputs": [],
   "source": [
    "if bool_plot == True: \n",
    "    #adata_imuno1 = adata_imuno[:, adata_imuno.var.highly_variable] # Keep only top 4000\n",
    "    sc.tl.rank_genes_groups(adata_lymph_o, \n",
    "                            'leiden_lymph_o',\n",
    "                            use_raw=False,\n",
    "                            method='t-test'\n",
    "    )  \n",
    "    # Build the \n",
    "    result = adata_lymph_o.uns['rank_genes_groups']\n",
    "    groups = result['names'].dtype.names\n",
    "    df = pd.DataFrame({group + '_' + key[:1]: result[key][group]\n",
    "                   for group in groups for key in ['names', 'logfoldchanges', 'pvals_adj']}\n",
    "    )\n",
    "    df.to_csv(\"tables/DGE_lymph_old_clusters.csv\")"
   ]
  },
  {
   "cell_type": "markdown",
   "metadata": {},
   "source": [
    "## RNA velocity"
   ]
  },
  {
   "cell_type": "code",
   "execution_count": 88,
   "metadata": {
    "scrolled": false
   },
   "outputs": [],
   "source": [
    "if bool_plot == True:\n",
    "    scv.pl.velocity_embedding_stream(adata_lymph_o,\n",
    "                                     basis='umap', \n",
    "                                     color='leiden_lymph_o',\n",
    "                                     use_raw=False, \n",
    "                                     size=60, \n",
    "                                     figsize=(10,10), \n",
    "                                     legend_loc='on data',\n",
    "                                     save=\"lymph_old_cells_clust_velocity.svg\"\n",
    "                                     #palette=['firebrick','mediumblue','dodgerblue','aqua']\n",
    "    ) "
   ]
  },
  {
   "cell_type": "markdown",
   "metadata": {},
   "source": [
    "## Latent time"
   ]
  },
  {
   "cell_type": "markdown",
   "metadata": {},
   "source": [
    "The dynamical model recovers the latent time of the underlying cellular processes. This latent time represents the cell’s internal clock and approximates the real time experienced by cells as they differentiate, based only on its transcriptional dynamics."
   ]
  },
  {
   "cell_type": "code",
   "execution_count": 89,
   "metadata": {},
   "outputs": [],
   "source": [
    "if bool_plot == True:\n",
    "    kwargs = dict(color='latent_time',\n",
    "                  color_map='gnuplot',\n",
    "                  title='',\n",
    "                  vmin=-.1,\n",
    "                  colorbar=False,\n",
    "                  show=False\n",
    "    )\n",
    "    ax = scv.pl.velocity_embedding(adata_lymph_o, \n",
    "                                   arrow_length=4,\n",
    "                                   arrow_size=1.5,\n",
    "                                   alpha=.5, \n",
    "                                   dpi=150,\n",
    "                                   **kwargs\n",
    "    )\n",
    "    ax = scv.pl.velocity_embedding_stream(adata_lymph_o,\n",
    "                                          size=150,\n",
    "                                          alpha=.01,\n",
    "                                          arrow_color='white',\n",
    "                                          ax=ax,\n",
    "                                          smooth=.7,\n",
    "                                          min_mass=3.5, \n",
    "                                          density=.6, \n",
    "                                          linewidth=.6, \n",
    "                                          **kwargs\n",
    "    )\n",
    "    ax = scv.pl.velocity_embedding_stream(adata_lymph_o,\n",
    "                                          size=150, \n",
    "                                          alpha=.1,\n",
    "                                          arrow_color='darkslategrey', \n",
    "                                          ax=ax,\n",
    "                                          smooth=.7, \n",
    "                                          min_mass=3.5,\n",
    "                                          density=.6,\n",
    "                                          linewidth=.5,\n",
    "                                          save=\"lymph_old_cells_latentTime_velocity.svg\",\n",
    "                                          **kwargs\n",
    "    )"
   ]
  },
  {
   "cell_type": "code",
   "execution_count": 90,
   "metadata": {},
   "outputs": [],
   "source": [
    "if bool_plot == True:\n",
    "    var_names = adata_lymph_o.var.sort_values('fit_likelihood', ascending=False).index[:300]\n",
    "    scv.pl.heatmap(adata_lymph_o,\n",
    "                   var_names=var_names,\n",
    "                   tkey='latent_time',\n",
    "                   n_convolve=100, \n",
    "                   col_color='leiden_lymph_o',\n",
    "                   save='lymph_old_cells_heatmap_latentTime.pdf'\n",
    "    )\n",
    "    # save table of top dynamical genes\n",
    "    scv.tl.rank_dynamical_genes(adata_lymph_o,\n",
    "                                groupby='leiden_lymph_o'\n",
    "    )\n",
    "    df = scv.get_df(adata_lymph_o, \n",
    "                    'rank_dynamical_genes/names'\n",
    "    )\n",
    "    df.to_csv('tables/lymph_old_rank_dynamical_genes.csv')"
   ]
  },
  {
   "cell_type": "markdown",
   "metadata": {},
   "source": [
    "## Diffusion Pseudotime"
   ]
  },
  {
   "cell_type": "markdown",
   "metadata": {},
   "source": [
    "Finally, we include Diffusion Pseudotime in the analysis to further support the found trajectories. Diffusion pseudotime is integrated into scanpy and is therefore easy to use with the current setup.\n",
    "\n",
    "DPT is based on diffusion maps, thus a diffusion map representation must be calculated prior to pseudotime inference. This in turn is based on a KNN graph embedding obtained from `sc.pp.neighbors()`."
   ]
  },
  {
   "cell_type": "code",
   "execution_count": 91,
   "metadata": {},
   "outputs": [],
   "source": [
    "if bool_plot == True:\n",
    "    sc.pp.neighbors(adata_lymph_o)\n",
    "    sc.tl.diffmap(adata_lymph_o)\n",
    "\n",
    "    mm_mask21 = np.isin(adata_lymph_o.obs['leiden_lymph_o'], '0')\n",
    "    max_mm_id21 = np.argmax(adata_lymph_o.obsm['X_diffmap'][mm_mask21,2])\n",
    "    root_id21 = np.arange(len(mm_mask21))[mm_mask21][max_mm_id21]\n",
    "    adata_lymph_o.uns['iroot'] = root_id21\n",
    "\n",
    "    #Compute dpt\n",
    "    sc.tl.dpt(adata_lymph_o, \n",
    "              n_branchings=0\n",
    "    )\n",
    "    cf.plot_diffmap_marker(adata_lymph_o,\n",
    "                           ['leiden_lymph_o','age_type','tissue_type','dpt_pseudotime'],\n",
    "                           components='1,2', \n",
    "                           color_map=mymap, \n",
    "                           use_raw=False,\n",
    "                           size=20,\n",
    "                           save=\"_lymph_old_cells\"\n",
    "    )"
   ]
  },
  {
   "cell_type": "code",
   "execution_count": null,
   "metadata": {},
   "outputs": [],
   "source": []
  },
  {
   "cell_type": "code",
   "execution_count": null,
   "metadata": {},
   "outputs": [],
   "source": []
  }
 ],
 "metadata": {
  "kernelspec": {
   "display_name": "Python 3",
   "language": "python",
   "name": "python3"
  },
  "language_info": {
   "codemirror_mode": {
    "name": "ipython",
    "version": 3
   },
   "file_extension": ".py",
   "mimetype": "text/x-python",
   "name": "python",
   "nbconvert_exporter": "python",
   "pygments_lexer": "ipython3",
   "version": "3.9.2"
  },
  "toc": {
   "base_numbering": 1,
   "nav_menu": {},
   "number_sections": true,
   "sideBar": true,
   "skip_h1_title": false,
   "title_cell": "Table of Contents",
   "title_sidebar": "Contents",
   "toc_cell": false,
   "toc_position": {},
   "toc_section_display": true,
   "toc_window_display": true
  }
 },
 "nbformat": 4,
 "nbformat_minor": 2
}
