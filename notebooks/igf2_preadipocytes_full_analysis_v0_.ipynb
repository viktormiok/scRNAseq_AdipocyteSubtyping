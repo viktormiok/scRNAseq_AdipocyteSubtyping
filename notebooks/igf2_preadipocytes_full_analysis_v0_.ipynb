{
 "cells": [
  {
   "cell_type": "markdown",
   "metadata": {},
   "source": [
    "# Summary of notebook"
   ]
  },
  {
   "cell_type": "markdown",
   "metadata": {},
   "source": [
    "In this notebook, we perform the following analysis:\n",
    "(1) Clustering of the cells of young and old mice, annotation of the clusters using marker genes of immune cells and adipocytes. \n",
    "(2) Separate the preadipocytes from the immune cells and identify the mature subpopulation."
   ]
  },
  {
   "cell_type": "markdown",
   "metadata": {},
   "source": [
    "# Load packages and set global variables"
   ]
  },
  {
   "cell_type": "code",
   "execution_count": 1,
   "metadata": {
    "scrolled": true
   },
   "outputs": [
    {
     "name": "stderr",
     "output_type": "stream",
     "text": [
      "WARNING: If you miss a compact list, please try `print_header`!\n"
     ]
    },
    {
     "name": "stdout",
     "output_type": "stream",
     "text": [
      "-----\n",
      "anndata     0.7.5\n",
      "scanpy      1.7.1\n",
      "sinfo       0.3.1\n",
      "-----\n",
      "PIL                 8.1.2\n",
      "PyObjCTools         NA\n",
      "anndata             0.7.5\n",
      "appdirs             1.4.4\n",
      "appnope             0.1.2\n",
      "autoreload          NA\n",
      "backcall            0.2.0\n",
      "batchglm            v0.7.4\n",
      "bioservices         1.7.11\n",
      "bs4                 4.9.3\n",
      "certifi             2020.12.05\n",
      "cffi                1.14.5\n",
      "chardet             4.0.0\n",
      "cloudpickle         1.6.0\n",
      "colorama            0.4.4\n",
      "colorlog            NA\n",
      "cycler              0.10.0\n",
      "cython_runtime      NA\n",
      "dask                2021.03.0\n",
      "dateutil            2.8.1\n",
      "decorator           4.4.2\n",
      "diffxpy             v0.7.4\n",
      "docutils            0.16\n",
      "easydev             0.11.0\n",
      "get_version         2.1\n",
      "gseapy              0.10.4\n",
      "h5py                3.2.1\n",
      "idna                2.10\n",
      "igraph              0.9.0\n",
      "ipykernel           5.4.3\n",
      "ipython_genutils    0.2.0\n",
      "ipywidgets          7.6.3\n",
      "jedi                0.17.2\n",
      "joblib              1.0.1\n",
      "kiwisolver          1.3.1\n",
      "legacy_api_wrap     1.2\n",
      "leidenalg           0.8.3\n",
      "llvmlite            0.36.0\n",
      "lxml                4.6.3\n",
      "matplotlib          3.3.4\n",
      "mpl_toolkits        NA\n",
      "natsort             7.1.1\n",
      "numba               0.53.1\n",
      "numexpr             2.7.3\n",
      "numpy               1.20.1\n",
      "packaging           20.9\n",
      "pandas              1.2.3\n",
      "parso               0.7.0\n",
      "patsy               0.5.1\n",
      "pexpect             4.8.0\n",
      "pickleshare         0.7.5\n",
      "pkg_resources       NA\n",
      "prompt_toolkit      3.0.14\n",
      "psutil              5.8.0\n",
      "ptyprocess          0.7.0\n",
      "pyexpat             NA\n",
      "pygments            2.7.4\n",
      "pylab               NA\n",
      "pyparsing           2.4.7\n",
      "pytz                2021.1\n",
      "requests            2.25.1\n",
      "requests_cache      0.5.2\n",
      "scanpy              1.7.1\n",
      "scipy               1.6.1\n",
      "seaborn             0.11.1\n",
      "sinfo               0.3.1\n",
      "six                 1.15.0\n",
      "sklearn             0.24.1\n",
      "soupsieve           2.2.1\n",
      "sparse              0.12.0\n",
      "sphinxcontrib       NA\n",
      "statsmodels         0.12.2\n",
      "storemagic          NA\n",
      "tables              3.6.1\n",
      "texttable           1.6.3\n",
      "tlz                 0.11.1\n",
      "toolz               0.11.1\n",
      "tornado             6.1\n",
      "traitlets           5.0.5\n",
      "typing_extensions   NA\n",
      "urllib3             1.26.3\n",
      "wcwidth             0.2.5\n",
      "wrapt               1.12.1\n",
      "yaml                5.4.1\n",
      "zmq                 22.0.2\n",
      "zope                NA\n",
      "-----\n",
      "IPython             7.20.0\n",
      "jupyter_client      6.1.11\n",
      "jupyter_core        4.7.1\n",
      "notebook            6.2.0\n",
      "-----\n",
      "Python 3.9.2 (v3.9.2:1a79785e3e, Feb 19 2021, 09:06:10) [Clang 6.0 (clang-600.0.57)]\n",
      "macOS-10.16-x86_64-i386-64bit\n",
      "12 logical CPU cores, i386\n",
      "-----\n",
      "Session information updated at 2022-08-23 05:32\n",
      "\n",
      "3.9.2 (v3.9.2:1a79785e3e, Feb 19 2021, 09:06:10) \n",
      "[Clang 6.0 (clang-600.0.57)]\n"
     ]
    }
   ],
   "source": [
    "import numpy as np\n",
    "import scanpy as sc\n",
    "import scipy as sci\n",
    "import scipy.sparse\n",
    "import gseapy\n",
    "import re\n",
    "import pandas\n",
    "import matplotlib as mpl\n",
    "import matplotlib.pyplot as plt\n",
    "import seaborn as sns\n",
    "import sys\n",
    "\n",
    "from matplotlib import colors\n",
    "\n",
    "import batchglm\n",
    "import diffxpy.api as de\n",
    "\n",
    "#from beakerx import *\n",
    "\n",
    "%load_ext autoreload\n",
    "%autoreload 2\n",
    "\n",
    "sc.settings.verbosity = 3 # amount of output\n",
    "dir_in = '/Users/viktorian.miok/Documents/consultation/Altun-Ussar/igf2/data/'\n",
    "dir_out = '/Users/viktorian.miok/Documents/consultation/Altun-Ussar/igf2/results/'\n",
    "dir_mat = '/count_matrices/filtered_gene_bc_matrices/mm10_ensrel94/'\n",
    "dir_tables = dir_out+'tables/'\n",
    "sc_settings_figdir = dir_out+'panels/'\n",
    "sc_settings_writedir = dir_out+'anndata/'\n",
    "sc.logging.print_versions()\n",
    "sc.settings.set_figure_params(dpi=80, scanpy=True)\n",
    "print (sys.version)"
   ]
  },
  {
   "cell_type": "code",
   "execution_count": 2,
   "metadata": {},
   "outputs": [
    {
     "name": "stdout",
     "output_type": "stream",
     "text": [
      "v0.7.4\n"
     ]
    }
   ],
   "source": [
    "print(de.__version__)"
   ]
  },
  {
   "cell_type": "markdown",
   "metadata": {},
   "source": [
    "## Global variables"
   ]
  },
  {
   "cell_type": "markdown",
   "metadata": {},
   "source": [
    "All embeddings and clusterings can be saved and loaded into this script. Be careful with over-writing cluster caches as soon as cell type annotation has started as cluster labels may be shuffled."
   ]
  },
  {
   "cell_type": "markdown",
   "metadata": {},
   "source": [
    "Set whether anndata objects are recomputed or loaded from cache."
   ]
  },
  {
   "cell_type": "code",
   "execution_count": 3,
   "metadata": {},
   "outputs": [],
   "source": [
    "bool_recomp = False"
   ]
  },
  {
   "cell_type": "markdown",
   "metadata": {},
   "source": [
    "Set whether clustering is recomputed or loaded from saved .obs file. Loading makes sense if the clustering changes due to a change in scanpy or one of its dependencies and the number of clusters or the cluster labels change accordingly."
   ]
  },
  {
   "cell_type": "code",
   "execution_count": 4,
   "metadata": {},
   "outputs": [],
   "source": [
    "bool_recluster = False"
   ]
  },
  {
   "cell_type": "markdown",
   "metadata": {},
   "source": [
    "Set whether cluster cache is overwritten. Note that the cache exists for reproducibility of clustering, see above."
   ]
  },
  {
   "cell_type": "code",
   "execution_count": 5,
   "metadata": {},
   "outputs": [],
   "source": [
    "bool_write_cluster_cache = False"
   ]
  },
  {
   "cell_type": "markdown",
   "metadata": {},
   "source": [
    "Set whether to produce plots, set to False for test runs."
   ]
  },
  {
   "cell_type": "code",
   "execution_count": 6,
   "metadata": {},
   "outputs": [],
   "source": [
    "bool_plot = False"
   ]
  },
  {
   "cell_type": "markdown",
   "metadata": {},
   "source": [
    "# Load data"
   ]
  },
  {
   "cell_type": "code",
   "execution_count": 7,
   "metadata": {},
   "outputs": [],
   "source": [
    "if bool_recomp:\n",
    "    # Count matrix:\n",
    "    adata87 = sc.read_10x_mtx(dir_in+'MUC8387'+dir_mat, var_names='gene_symbols', cache=False)  \n",
    "    adata88 = sc.read_10x_mtx(dir_in+'MUC8388'+dir_mat, var_names='gene_symbols', cache=False)  \n",
    "    adata89 = sc.read_10x_mtx(dir_in+'MUC8389'+dir_mat, var_names='gene_symbols', cache=False)  \n",
    "    adata90 = sc.read_10x_mtx(dir_in+'MUC8390'+dir_mat, var_names='gene_symbols', cache=False)  \n",
    "    adataY = sc.read_10x_mtx(dir_in+'PreYoung'+dir_mat, var_names='gene_symbols', cache=False)  \n",
    "    adataO = sc.read_10x_mtx(dir_in+'PreOld'+dir_mat, var_names='gene_symbols', cache=False)  \n",
    "    adata_raw = adata87.concatenate(adata88, adata89, adata90, adataY, adataO)\n",
    "    p = adata_raw.obs_names.str.endswith\n",
    "    groups = ['BAT-2','BAT-8','PGF-2','PGF-8','SCF-2','SCF-8']\n",
    "    adata_raw.obs['batch_type'] = np.select([p('-0'),p('-1'),p('-2'),p('-3'),p('-4'),p('-5')], groups)\n",
    "    adata_raw.obs['tissue_type'] = np.select([(p('-0')|p('-1')),(p('-2')|p('-3')),(p('-4')|p('-5'))], ['BAT', 'PGF','SCF'])\n",
    "    adata_raw.obs['age_type'] = np.select([(p('-0')|p('-2')|p('-4')),(p('-1')|p('-3')|p('-5'))], ['young', 'old'])\n",
    "    sc.write(sc_settings_writedir+'adata_raw.h5ad', adata_raw)\n",
    "else:\n",
    "    adata_raw = sc.read(sc_settings_writedir+'adata_raw.h5ad')"
   ]
  },
  {
   "cell_type": "markdown",
   "metadata": {},
   "source": [
    "# Filtering"
   ]
  },
  {
   "cell_type": "code",
   "execution_count": 8,
   "metadata": {},
   "outputs": [],
   "source": [
    "adata_raw.obs['n_counts'] = adata_raw.X.sum(1)\n",
    "adata_raw.obs['log_counts'] = np.log(adata_raw.obs['n_counts'])\n",
    "adata_raw.obs['n_genes'] = (adata_raw.X > 0).sum(1)"
   ]
  },
  {
   "cell_type": "code",
   "execution_count": 9,
   "metadata": {},
   "outputs": [],
   "source": [
    "mt_gene_mask = np.flatnonzero([gene.startswith('mt-') for gene in adata_raw.var_names])\n",
    "adata_raw.obs['mt_frac'] =adata_raw.X[:, mt_gene_mask].todense().sum(1).flat/adata_raw.obs['n_counts']"
   ]
  },
  {
   "cell_type": "code",
   "execution_count": 10,
   "metadata": {},
   "outputs": [],
   "source": [
    "if bool_plot==True:\n",
    "    t1 = sns.distplot(adata_raw.obs['mt_frac'][adata_raw.obs['mt_frac']<0.12], kde=False)"
   ]
  },
  {
   "cell_type": "code",
   "execution_count": 11,
   "metadata": {},
   "outputs": [],
   "source": [
    "if bool_plot==True:\n",
    "    p3 = sns.distplot(adata_raw.obs['n_counts'], kde=False)\n",
    "    plt.show()\n",
    "\n",
    "    p4 = sns.distplot(adata_raw.obs['n_counts'][adata_raw.obs['n_counts']<4000], kde=False, bins=60)\n",
    "    plt.show()\n",
    "\n",
    "    p5 = sns.distplot(adata_raw.obs['n_counts'][adata_raw.obs['n_counts']>20000], kde=False, bins=60)\n",
    "    plt.show()"
   ]
  },
  {
   "cell_type": "code",
   "execution_count": 12,
   "metadata": {},
   "outputs": [],
   "source": [
    "if bool_plot==True:\n",
    "    p6 = sns.distplot(adata_raw.obs['n_genes'], kde=False, bins=60)\n",
    "    plt.show()\n",
    "\n",
    "    p7 = sns.distplot(adata_raw.obs['n_genes'][adata_raw.obs['n_genes']<800], kde=False, bins=60)\n",
    "    plt.show()"
   ]
  },
  {
   "cell_type": "code",
   "execution_count": 13,
   "metadata": {},
   "outputs": [
    {
     "name": "stderr",
     "output_type": "stream",
     "text": [
      "filtered out 2610 cells that have less than 2000 counts\n"
     ]
    },
    {
     "name": "stdout",
     "output_type": "stream",
     "text": [
      "Total number of cells: 24733\n"
     ]
    },
    {
     "name": "stderr",
     "output_type": "stream",
     "text": [
      "/Library/Frameworks/Python.framework/Versions/3.9/lib/python3.9/site-packages/pandas/core/arrays/categorical.py:2487: FutureWarning: The `inplace` parameter in pandas.Categorical.remove_unused_categories is deprecated and will be removed in a future version.\n",
      "  res = method(*args, **kwargs)\n",
      "filtered out 66 cells that have more than 25000 counts\n"
     ]
    },
    {
     "name": "stdout",
     "output_type": "stream",
     "text": [
      "Number of cells after min count filter: 22123\n",
      "Number of cells after max count filter: 22057\n",
      "Number of cells after MT filter: 22057\n"
     ]
    },
    {
     "name": "stderr",
     "output_type": "stream",
     "text": [
      "/Library/Frameworks/Python.framework/Versions/3.9/lib/python3.9/site-packages/pandas/core/arrays/categorical.py:2487: FutureWarning: The `inplace` parameter in pandas.Categorical.remove_unused_categories is deprecated and will be removed in a future version.\n",
      "  res = method(*args, **kwargs)\n",
      "filtered out 1318 cells that have less than 800 genes expressed\n"
     ]
    },
    {
     "name": "stdout",
     "output_type": "stream",
     "text": [
      "Number of cells after gene filter: 20739\n"
     ]
    }
   ],
   "source": [
    "#Filter cells according to identified QC thresholds:\n",
    "print('Total number of cells: {:d}'.format(adata_raw.n_obs))\n",
    "\n",
    "sc.pp.filter_cells(adata_raw, min_counts = 2000)\n",
    "print('Number of cells after min count filter: {:d}'.format(adata_raw.n_obs))\n",
    "\n",
    "sc.pp.filter_cells(adata_raw, max_counts = 25000)\n",
    "print('Number of cells after max count filter: {:d}'.format(adata_raw.n_obs))\n",
    "\n",
    "adata = adata_raw[adata_raw.obs['mt_frac'] < 0.10]\n",
    "print('Number of cells after MT filter: {:d}'.format(adata_raw.n_obs))\n",
    "\n",
    "sc.pp.filter_cells(adata_raw, min_genes = 800)\n",
    "print('Number of cells after gene filter: {:d}'.format(adata_raw.n_obs))"
   ]
  },
  {
   "cell_type": "code",
   "execution_count": 14,
   "metadata": {},
   "outputs": [
    {
     "name": "stdout",
     "output_type": "stream",
     "text": [
      "Total number of genes: 31125\n"
     ]
    },
    {
     "name": "stderr",
     "output_type": "stream",
     "text": [
      "filtered out 13331 genes that are detected in less than 20 cells\n"
     ]
    },
    {
     "name": "stdout",
     "output_type": "stream",
     "text": [
      "Number of genes after cell filter: 17794\n"
     ]
    }
   ],
   "source": [
    "#Filter genes:\n",
    "print('Total number of genes: {:d}'.format(adata_raw.n_vars))\n",
    "\n",
    "# Min 20 cells - filters out 0 count genes\n",
    "sc.pp.filter_genes(adata_raw, min_cells=20)\n",
    "print('Number of genes after cell filter: {:d}'.format(adata_raw.n_vars))"
   ]
  },
  {
   "cell_type": "markdown",
   "metadata": {},
   "source": [
    "# Process data"
   ]
  },
  {
   "cell_type": "markdown",
   "metadata": {},
   "source": [
    "## Embeddings and clustering"
   ]
  },
  {
   "cell_type": "markdown",
   "metadata": {},
   "source": [
    "Summary of steps performed here: Only cells with at least 500 UMIs are kept. Counts per cell are cell library depth normalized. The gene (feature) space is reduced with PCA to 50 PCs. A nearest neighbour graph and t-SNE are computed based on the PC space. Cell are clustered with leiden clustering based on the nearest neighbour graph. Graph abstraction is computed based on the leiden clustering."
   ]
  },
  {
   "cell_type": "code",
   "execution_count": 15,
   "metadata": {
    "scrolled": false
   },
   "outputs": [
    {
     "name": "stderr",
     "output_type": "stream",
     "text": [
      "running PAGA\n",
      "    finished: added\n",
      "    'paga/connectivities', connectivities adjacency (adata.uns)\n",
      "    'paga/connectivities_tree', connectivities subtree (adata.uns) (0:00:02)\n"
     ]
    }
   ],
   "source": [
    "if bool_recomp:\n",
    "    adata_proc = adata_raw.copy()\n",
    "    sc.pp.normalize_per_cell(adata_proc)\n",
    "    adata_proc.raw = sc.pp.log1p(adata_proc, copy=True)\n",
    "    sc.pp.pca(adata_proc, n_comps=50, random_state=0, svd_solver='arpack')\n",
    "    sc.pp.neighbors(adata_proc, n_neighbors=100, knn=True, method='umap', n_pcs=50, random_state=0)\n",
    "    sc.tl.tsne(adata_proc, n_jobs=3)\n",
    "    sc.tl.umap(adata_proc)\n",
    "    if bool_recluster==True:\n",
    "        sc.tl.leiden(adata_proc, resolution=0.5)#, flavor='vtraag', random_state=0)\n",
    "        pandas.DataFrame(adata_proc.obs).to_csv(\n",
    "            path_or_buf =sc_settings_writedir+\"obs_adata_proc.csv\")\n",
    "    else:\n",
    "        obs = pandas.read_csv(sc_settings_writedir+'obs_adata_proc.csv')\n",
    "        adata_proc.obs['leiden'] = pandas.Series(obs['leiden'].values, dtype='category')\n",
    "    sc.write(sc_settings_writedir+'adata_proc.h5ad', adata_proc)\n",
    "else:\n",
    "    adata_proc = sc.read(sc_settings_writedir+'adata_proc.h5ad')\n",
    "sc.tl.paga(adata_proc)"
   ]
  },
  {
   "cell_type": "markdown",
   "metadata": {},
   "source": [
    "Produce some summarizing plots that show the global characteristics of the data."
   ]
  },
  {
   "cell_type": "code",
   "execution_count": 16,
   "metadata": {},
   "outputs": [],
   "source": [
    "#Define a nice colour map for gene expression\n",
    "colors2 = plt.cm.Reds(np.linspace(0, 1, 128))\n",
    "colors3 = plt.cm.Greys_r(np.linspace(0.7,0.8,20))\n",
    "colorsComb = np.vstack([colors3, colors2])\n",
    "mymap = colors.LinearSegmentedColormap.from_list('my_colormap', colorsComb)"
   ]
  },
  {
   "cell_type": "code",
   "execution_count": 17,
   "metadata": {
    "scrolled": false
   },
   "outputs": [],
   "source": [
    "if bool_plot==True:\n",
    "    sc.pl.tsne(adata_proc, color=['batch_type'], size=5, save=\"_all_age.pdf\")\n",
    "    sc.pl.tsne(adata_proc, color=['age_type'], size=5, save=\"_all_age.pdf\")\n",
    "    sc.pl.tsne(adata_proc, color=['leiden'], size=5, save=\"_all_leiden.pdf\")\n",
    "    sc.pl.tsne(adata_proc, color=['n_counts'], size=5, save=\"_all_n_counts.pdf\")\n",
    "    sc.pl.tsne(adata_proc, color=['Pdgfra'], size=5, save=\"_all_Pdgfra.pdf\", color_map=mymap)\n",
    "    sc.pl.tsne(adata_proc, color=['Igf2'], size=5, save=\"_all_Igf2.pdf\", color_map=mymap)"
   ]
  },
  {
   "cell_type": "code",
   "execution_count": 18,
   "metadata": {
    "scrolled": false
   },
   "outputs": [],
   "source": [
    "if bool_plot==True:\n",
    "    sc.pl.paga(adata_proc, save=\"_all.pdf\")"
   ]
  },
  {
   "cell_type": "markdown",
   "metadata": {},
   "source": [
    "Number of cells in each sample:"
   ]
  },
  {
   "cell_type": "code",
   "execution_count": 19,
   "metadata": {},
   "outputs": [
    {
     "data": {
      "text/plain": [
       "PGF-2    5669\n",
       "SCF-8    4936\n",
       "SCF-2    3790\n",
       "BAT-2    2317\n",
       "PGF-8    2138\n",
       "BAT-8    1889\n",
       "Name: batch_type, dtype: int64"
      ]
     },
     "execution_count": 19,
     "metadata": {},
     "output_type": "execute_result"
    }
   ],
   "source": [
    "adata_proc.obs['batch_type'].value_counts()"
   ]
  },
  {
   "cell_type": "code",
   "execution_count": 20,
   "metadata": {},
   "outputs": [
    {
     "data": {
      "text/plain": [
       "0     3789\n",
       "1     2804\n",
       "2     2405\n",
       "3     2374\n",
       "4     2236\n",
       "5     1891\n",
       "6     1770\n",
       "7     1108\n",
       "8     1034\n",
       "9      653\n",
       "10     432\n",
       "11     114\n",
       "12      82\n",
       "13      47\n",
       "Name: leiden, dtype: int64"
      ]
     },
     "execution_count": 20,
     "metadata": {},
     "output_type": "execute_result"
    }
   ],
   "source": [
    "adata_proc.obs['leiden'].value_counts()"
   ]
  },
  {
   "cell_type": "markdown",
   "metadata": {},
   "source": [
    "# Define cell types"
   ]
  },
  {
   "cell_type": "markdown",
   "metadata": {},
   "source": [
    "## Marker genes"
   ]
  },
  {
   "cell_type": "markdown",
   "metadata": {},
   "source": [
    "### Define marker sets"
   ]
  },
  {
   "cell_type": "markdown",
   "metadata": {},
   "source": [
    "Define surface marker sets for some of the expected cell types."
   ]
  },
  {
   "cell_type": "code",
   "execution_count": 21,
   "metadata": {},
   "outputs": [],
   "source": [
    "# Leukocyte markers:\n",
    "leukocyte_markers = ['Ptprc']\n",
    "tc_markers = ['Cd3d','Cd3e','Cd3g','Cd4'] \n",
    "nk_markers = ['Nkg7','Il2rb','Ncr1','Klrd1','Klrb1b','Klrb1f']\n",
    "myeloid_markers = ['Cd79a','Itgax','Itgam','Fcgr3','S100a8', 'S100a9']\n",
    "mp_markers = ['Adgre1','Lyz2']\n",
    "dc_markers = ['Cd74','Anpep' , 'Cd33', 'Cd80', 'Cd83', 'Cd86'] \n",
    "bc_markers = ['Cd19']\n",
    "adipocyte_markers = ['Pdgfra','Slc7a10','Pparg','Fermt2','Fbn1','Col4a1','Itgb1','Cd34','Cd24a','Dlk1','Slc7a10','Igf2']\n",
    "megakaryocyte_markers = ['Ppbp']\n",
    "go_adip_dev = ['Aacs','Acat1','Arid5b','Arrdc3','Atf2','Bbs4','Bdh1','Csf1','Dgat2','Dyrk1b','Ebf2','Amer1','Fto',\n",
    "               'Id2','Lrp5','Nampt','Oxct1','Paxip1','Pik3ca','Ppard','Ppargc1a','Rorc','Sh3pxd2b','Slc25a25',\n",
    "               'Sox8','Spg20','Tbl1xr1','Xbp1'] # ,'Lep'"
   ]
  },
  {
   "cell_type": "markdown",
   "metadata": {},
   "source": [
    "### Plotting routines for marker gene sets:"
   ]
  },
  {
   "cell_type": "code",
   "execution_count": 22,
   "metadata": {},
   "outputs": [],
   "source": [
    "def plot_violin_marker(adata, markers, save=None, use_raw=True):\n",
    "    for i in range(len(markers) // 2 + len(markers) % 2):\n",
    "        if save is not None:\n",
    "            sc.pl.violin(\n",
    "                adata, \n",
    "                groupby='leiden', \n",
    "                keys=markers[(2*i):np.min([2*(i+1), len(markers)])], \n",
    "                use_raw=use_raw, \n",
    "                rotation=90, size=5,\n",
    "                save=save+\"_\"+str(i)+\".pdf\"\n",
    "            )\n",
    "        else:\n",
    "            sc.pl.violin(\n",
    "                adata, \n",
    "                groupby='leiden', \n",
    "                keys=markers[(2*i):np.min([2*(i+1), len(markers)])], \n",
    "                use_raw=use_raw, \n",
    "                rotation=90, size=5,\n",
    "                save=\"dasdad\"\n",
    "            )\n",
    "        \n",
    "def plot_tsne_marker(adata, markers, size=5, save=None, use_raw=True):\n",
    "    for i in range(len(markers) // 2 + len(markers) % 2):\n",
    "        if save is not None:\n",
    "            sc.pl.tsne(\n",
    "                adata, \n",
    "                color=markers[(2*i):np.min([2*(i+1), len(markers)])], \n",
    "                size=size,\n",
    "                use_raw=use_raw,\n",
    "                color_map=mymap,\n",
    "                save=save+\"_\"+str(i)+\".pdf\"\n",
    "            )\n",
    "        else:\n",
    "            sc.pl.tsne(\n",
    "                adata, \n",
    "                color=markers[(2*i):np.min([2*(i+1), len(markers)])], \n",
    "                size=size,\n",
    "                use_raw=use_raw\n",
    "            )"
   ]
  },
  {
   "cell_type": "code",
   "execution_count": 23,
   "metadata": {
    "scrolled": false
   },
   "outputs": [],
   "source": [
    "if bool_plot==True:\n",
    "    plot_violin_marker(adata_proc, adipocyte_markers, save=\"_all_cells_adipocyte_markers\")"
   ]
  },
  {
   "cell_type": "markdown",
   "metadata": {},
   "source": [
    "### Leukocyte markers:"
   ]
  },
  {
   "cell_type": "code",
   "execution_count": 24,
   "metadata": {
    "scrolled": true
   },
   "outputs": [],
   "source": [
    "if bool_plot==True:\n",
    "    plot_violin_marker(adata_proc, leukocyte_markers, save=\"_all_cells_leukocyte_markers\")"
   ]
  },
  {
   "cell_type": "markdown",
   "metadata": {},
   "source": [
    "Cluster 1,6,7,8,9 and potentially 0,10 express leukocyte marker Ptprc. These clusters are further validated by leukocyte specific markers below. The remaining clusters 2,3,4 are investigated with non-leukocyte marker sets."
   ]
  },
  {
   "cell_type": "markdown",
   "metadata": {},
   "source": [
    "### Megakaryocyte markers:"
   ]
  },
  {
   "cell_type": "code",
   "execution_count": 25,
   "metadata": {
    "scrolled": true
   },
   "outputs": [],
   "source": [
    "if bool_plot==True:   \n",
    "    plot_violin_marker(adata_proc, megakaryocyte_markers, save=\"_all_cells_megakaryocyte_markers\")"
   ]
  },
  {
   "cell_type": "markdown",
   "metadata": {},
   "source": [
    "There do not seem to be many megakaryocytes in this data set."
   ]
  },
  {
   "cell_type": "markdown",
   "metadata": {},
   "source": [
    "### Preadipocyte markers:"
   ]
  },
  {
   "cell_type": "code",
   "execution_count": 26,
   "metadata": {
    "scrolled": false
   },
   "outputs": [],
   "source": [
    "if bool_plot==True:\n",
    "    plot_violin_marker(adata_proc, adipocyte_markers, save=\"_all_cells_adipocyte_markers\")"
   ]
  },
  {
   "cell_type": "markdown",
   "metadata": {},
   "source": [
    "Cluster 2,3,4 express adipocyte markers."
   ]
  },
  {
   "cell_type": "markdown",
   "metadata": {},
   "source": [
    "### T-cell markers:"
   ]
  },
  {
   "cell_type": "code",
   "execution_count": 27,
   "metadata": {
    "scrolled": false
   },
   "outputs": [],
   "source": [
    "if bool_plot==True:\n",
    "    plot_violin_marker(adata_proc, tc_markers, save=\"_all_cells_tc_markers\")"
   ]
  },
  {
   "cell_type": "markdown",
   "metadata": {},
   "source": [
    "Marker gene expression suggests that cluster 1 and 6 are T-cells, interestingly not Cd4+Cd8+ T-cells it seems as Cd4 expression is low."
   ]
  },
  {
   "cell_type": "markdown",
   "metadata": {},
   "source": [
    "### Natural killer cell markers:"
   ]
  },
  {
   "cell_type": "code",
   "execution_count": 28,
   "metadata": {
    "scrolled": false
   },
   "outputs": [],
   "source": [
    "if bool_plot==True:\n",
    "    plot_violin_marker(adata_proc, nk_markers, save=\"_all_cells_nk_markers\")"
   ]
  },
  {
   "cell_type": "markdown",
   "metadata": {},
   "source": [
    "Cluster 1,6,7, have natural killer cell marker gene expression, cluster 1 also expresses Cd3 so it may contain yd-T-cells-?"
   ]
  },
  {
   "cell_type": "markdown",
   "metadata": {},
   "source": [
    "### Myeloid cell markers:"
   ]
  },
  {
   "cell_type": "code",
   "execution_count": 29,
   "metadata": {
    "scrolled": false
   },
   "outputs": [],
   "source": [
    "if bool_plot==True:\n",
    "    plot_violin_marker(adata_proc, myeloid_markers, save=\"_all_cells_myeloid_markers\")"
   ]
  },
  {
   "cell_type": "markdown",
   "metadata": {},
   "source": [
    "Cluster 5,8,9,10 express myeloid cell marker genes. Cluster 9 seems to have bimodal expression in S100a8 and S100a9 so it may need subclustering to subdivide cell types here."
   ]
  },
  {
   "cell_type": "markdown",
   "metadata": {},
   "source": [
    "### Macrophage markers:"
   ]
  },
  {
   "cell_type": "code",
   "execution_count": 30,
   "metadata": {
    "scrolled": false
   },
   "outputs": [],
   "source": [
    "if bool_plot==True:\n",
    "    plot_violin_marker(adata_proc, mp_markers, save=\"_all_cells_mp_markers\")"
   ]
  },
  {
   "cell_type": "markdown",
   "metadata": {},
   "source": [
    "Cluster 5,7,8,9 express macrophage markers, in line with the myeloid cell marker gene expression."
   ]
  },
  {
   "cell_type": "markdown",
   "metadata": {},
   "source": [
    "### Dendritic cell markers:"
   ]
  },
  {
   "cell_type": "code",
   "execution_count": 31,
   "metadata": {
    "scrolled": false
   },
   "outputs": [],
   "source": [
    "if bool_plot==True:\n",
    "    plot_violin_marker(adata_proc, dc_markers, save=\"_all_cells_dc_markers\")"
   ]
  },
  {
   "cell_type": "markdown",
   "metadata": {},
   "source": [
    "Clusters 0,5,7,8,9 express dendritic cell markers, in line with myeloid marker gene expression, cluster 0,7 could be a non-myeloid dendritic cell."
   ]
  },
  {
   "cell_type": "markdown",
   "metadata": {},
   "source": [
    "### B-cell markers:"
   ]
  },
  {
   "cell_type": "code",
   "execution_count": 32,
   "metadata": {
    "scrolled": true
   },
   "outputs": [],
   "source": [
    "if bool_plot==True:\n",
    "    plot_violin_marker(adata_proc, bc_markers, save=\"_all_cells_bc_markers\")"
   ]
  },
  {
   "cell_type": "markdown",
   "metadata": {},
   "source": [
    "Cluster 0 may contain B-cells."
   ]
  },
  {
   "cell_type": "markdown",
   "metadata": {},
   "source": [
    "## Summary heatmap to characterize cell types"
   ]
  },
  {
   "cell_type": "markdown",
   "metadata": {},
   "source": [
    "Select a few genes to summarize cell type assignments:"
   ]
  },
  {
   "cell_type": "code",
   "execution_count": 33,
   "metadata": {},
   "outputs": [],
   "source": [
    "selected_leukocyte_markers = ['Ptprc']\n",
    "selected_tc_markers = ['Cd3d','Cd3g']\n",
    "selected_nk_markers = ['Nkg7','Klrd1']\n",
    "selected_myeloid_markers = ['Fcgr3','S100a8']\n",
    "selected_mp_markers = ['Adgre1','Lyz2']\n",
    "selected_dc_markers = ['Cd74','Cd83'] \n",
    "selected_bc_markers = ['Cd19']\n",
    "selected_adipocyte_markers = ['Pdgfra','Fbn1','Col4a1','Cd34','Cd24a','Dlk1','Slc7a10','Igf2'] \n",
    "selected_megakaryocyte_markers = ['Ppbp']"
   ]
  },
  {
   "cell_type": "code",
   "execution_count": 34,
   "metadata": {},
   "outputs": [],
   "source": [
    "selected_cell_markers = selected_leukocyte_markers + \\\n",
    "selected_megakaryocyte_markers + \\\n",
    "selected_myeloid_markers + \\\n",
    "selected_mp_markers + \\\n",
    "selected_dc_markers + \\\n",
    "selected_bc_markers + \\\n",
    "selected_tc_markers + \\\n",
    "selected_nk_markers + \\\n",
    "selected_adipocyte_markers"
   ]
  },
  {
   "cell_type": "markdown",
   "metadata": {},
   "source": [
    "Only keep markers that occur in data set."
   ]
  },
  {
   "cell_type": "code",
   "execution_count": 35,
   "metadata": {},
   "outputs": [],
   "source": [
    "if bool_plot==True:\n",
    "    sc.pl.heatmap(\n",
    "        adata=adata_proc, \n",
    "        var_names=selected_cell_markers, \n",
    "        groupby=\"leiden\", \n",
    "        use_raw=True, \n",
    "        log=False, \n",
    "        dendrogram=False, \n",
    "        var_group_rotation=90, \n",
    "        show_gene_labels=True, \n",
    "        show=True, \n",
    "        save=\"_all_markers_celltypes.pdf\"\n",
    "    )"
   ]
  },
  {
   "cell_type": "markdown",
   "metadata": {},
   "source": [
    "# Preadipocytes only"
   ]
  },
  {
   "cell_type": "markdown",
   "metadata": {},
   "source": [
    "## Embedding and clustering"
   ]
  },
  {
   "cell_type": "code",
   "execution_count": 36,
   "metadata": {},
   "outputs": [
    {
     "name": "stderr",
     "output_type": "stream",
     "text": [
      "running PAGA\n",
      "    finished: added\n",
      "    'paga/connectivities', connectivities adjacency (adata.uns)\n",
      "    'paga/connectivities_tree', connectivities subtree (adata.uns) (0:00:00)\n"
     ]
    }
   ],
   "source": [
    "if bool_recomp==True:\n",
    "    cell_ids_adip = np.asarray(adata_proc.obs_names)[[x in ['0','5','6'] \n",
    "                                                      for x in np.asarray(adata_proc.obs['leiden'].values)]]\n",
    "    adata_adip = adata_raw[cell_ids_adip,:].copy()\n",
    "    sc.pp.normalize_per_cell(adata_adip)\n",
    "    adata_adip.raw = adata_adip.copy()\n",
    "    sc.pp.log1p(adata_adip)\n",
    "    sc.pp.pca(adata_adip, n_comps=50, random_state=0, svd_solver='arpack')\n",
    "    sc.pp.neighbors(adata_adip, n_neighbors=100, knn=True, method='umap', n_pcs=50, random_state=0)\n",
    "    sc.tl.tsne(adata_adip, n_jobs=3)\n",
    "    if bool_recluster==True:\n",
    "        sc.tl.leiden(adata_adip, resolution=0.5)#, flavor='vtraag', random_state=0)\n",
    "        pandas.DataFrame(adata_adip.obs).to_csv(\n",
    "            path_or_buf=sc_settings_writedir+\"obs_adata_adip.csv\")\n",
    "    else:\n",
    "        obs = pandas.read_csv(sc_settings_writedir+'obs_adata_adip.csv')\n",
    "        adata_adip.obs['leiden'] = pandas.Series(obs['leiden'].values, dtype='category')\n",
    "    sc.write(sc_settings_writedir+'adata_adip.h5ad', adata_adip)\n",
    "else:\n",
    "    adata_adip = sc.read(sc_settings_writedir+'adata_adip.h5ad')\n",
    "sc.tl.paga(adata_adip)"
   ]
  },
  {
   "cell_type": "code",
   "execution_count": 37,
   "metadata": {},
   "outputs": [],
   "source": [
    "if bool_plot==True:\n",
    "    sc.pl.tsne(adata_adip, color=['batch_type'], size=20, save=\"_preadip_batch.pdf\")\n",
    "    sc.pl.tsne(adata_adip, color=['leiden'], size=20, save=\"_preadip_leiden.pdf\")\n",
    "    sc.pl.tsne(adata_adip, color=['n_counts'], size=20, save=\"_preadip_n_counts.pdf\")"
   ]
  },
  {
   "cell_type": "markdown",
   "metadata": {},
   "source": [
    "Fairly equal count depth across preadipocytes. Potential batch effect or age effect, indistinguishable in this scenario."
   ]
  },
  {
   "cell_type": "code",
   "execution_count": 38,
   "metadata": {
    "scrolled": true
   },
   "outputs": [],
   "source": [
    "if bool_plot==True:\n",
    "    sc.pl.paga(adata_adip, save=\"_preadip.pdf\")"
   ]
  },
  {
   "cell_type": "markdown",
   "metadata": {},
   "source": [
    "It seems that Slc7a10+ cells are in clusters 0,2,4, which directly correspond to the samples of the young mice with a few exceptions. "
   ]
  },
  {
   "cell_type": "markdown",
   "metadata": {},
   "source": [
    "# Define cell types in preadipocytes"
   ]
  },
  {
   "cell_type": "code",
   "execution_count": 39,
   "metadata": {
    "scrolled": false
   },
   "outputs": [],
   "source": [
    "if bool_plot==True:\n",
    "    plot_violin_marker(adata_adip, adipocyte_markers, save=\"_preadipocytes_cells_adipocyte_markers\")"
   ]
  },
  {
   "cell_type": "markdown",
   "metadata": {},
   "source": [
    "### Leukocyte markers:"
   ]
  },
  {
   "cell_type": "code",
   "execution_count": 40,
   "metadata": {
    "scrolled": true
   },
   "outputs": [],
   "source": [
    "if bool_plot==True:\n",
    "    plot_violin_marker(adata_adip, leukocyte_markers, save=\"_preadipocytes_cells_leukocyte_markers\")"
   ]
  },
  {
   "cell_type": "markdown",
   "metadata": {},
   "source": [
    "Cluster 1,6,7,8,9 and potentially 0,10 express leukocyte marker Ptprc. These clusters are further validated by leukocyte specific markers below. The remaining clusters 2,3,4 are investigated with non-leukocyte marker sets."
   ]
  },
  {
   "cell_type": "markdown",
   "metadata": {},
   "source": [
    "### Megakaryocyte markers:"
   ]
  },
  {
   "cell_type": "code",
   "execution_count": 41,
   "metadata": {
    "scrolled": true
   },
   "outputs": [],
   "source": [
    "if bool_plot==True:   \n",
    "    plot_violin_marker(adata_adip, megakaryocyte_markers, save=\"_preadipocytes_cells_megakaryocyte_markers\")"
   ]
  },
  {
   "cell_type": "markdown",
   "metadata": {},
   "source": [
    "There do not seem to be many megakaryocytes in this data set."
   ]
  },
  {
   "cell_type": "markdown",
   "metadata": {},
   "source": [
    "### Preadipocyte markers:"
   ]
  },
  {
   "cell_type": "code",
   "execution_count": 42,
   "metadata": {
    "scrolled": false
   },
   "outputs": [],
   "source": [
    "if bool_plot==True:\n",
    "    plot_violin_marker(adata_adip, adipocyte_markers, save=\"_preadipocytes_cells_adipocyte_markers\")"
   ]
  },
  {
   "cell_type": "markdown",
   "metadata": {},
   "source": [
    "Cluster 2,3,4 express adipocyte markers."
   ]
  },
  {
   "cell_type": "markdown",
   "metadata": {},
   "source": [
    "### T-cell markers:"
   ]
  },
  {
   "cell_type": "code",
   "execution_count": 43,
   "metadata": {
    "scrolled": false
   },
   "outputs": [],
   "source": [
    "if bool_plot==True:\n",
    "    plot_violin_marker(adata_adip, tc_markers, save=\"_preadipocytes_cells_tc_markers\")"
   ]
  },
  {
   "cell_type": "markdown",
   "metadata": {},
   "source": [
    "Marker gene expression suggests that cluster 1 and 6 are T-cells, interestingly not Cd4+Cd8+ T-cells it seems as Cd4 expression is low."
   ]
  },
  {
   "cell_type": "markdown",
   "metadata": {},
   "source": [
    "### Natural killer cell markers:"
   ]
  },
  {
   "cell_type": "code",
   "execution_count": 44,
   "metadata": {
    "scrolled": false
   },
   "outputs": [],
   "source": [
    "if bool_plot==True:\n",
    "    plot_violin_marker(adata_adip, nk_markers, save=\"_preadipocytes_cells_nk_markers\")"
   ]
  },
  {
   "cell_type": "markdown",
   "metadata": {},
   "source": [
    "Cluster 1,6,7, have natural killer cell marker gene expression, cluster 1 also expresses Cd3 so it may contain yd-T-cells-?"
   ]
  },
  {
   "cell_type": "markdown",
   "metadata": {},
   "source": [
    "### Myeloid cell markers:"
   ]
  },
  {
   "cell_type": "code",
   "execution_count": 45,
   "metadata": {
    "scrolled": false
   },
   "outputs": [],
   "source": [
    "if bool_plot==True:\n",
    "    plot_violin_marker(adata_adip, myeloid_markers, save=\"_preadipocytes_cells_myeloid_markers\")"
   ]
  },
  {
   "cell_type": "markdown",
   "metadata": {},
   "source": [
    "Cluster 5,8,9,10 express myeloid cell marker genes. Cluster 9 seems to have bimodal expression in S100a8 and S100a9 so it may need subclustering to subdivide cell types here."
   ]
  },
  {
   "cell_type": "markdown",
   "metadata": {},
   "source": [
    "### Macrophage markers:"
   ]
  },
  {
   "cell_type": "code",
   "execution_count": 46,
   "metadata": {
    "scrolled": false
   },
   "outputs": [],
   "source": [
    "if bool_plot==True:\n",
    "    plot_violin_marker(adata_adip, mp_markers, save=\"_preadipocytes_cells_mp_markers\")"
   ]
  },
  {
   "cell_type": "markdown",
   "metadata": {},
   "source": [
    "Cluster 5,7,8,9 express macrophage markers, in line with the myeloid cell marker gene expression."
   ]
  },
  {
   "cell_type": "markdown",
   "metadata": {},
   "source": [
    "### Dendritic cell markers:"
   ]
  },
  {
   "cell_type": "code",
   "execution_count": 47,
   "metadata": {
    "scrolled": false
   },
   "outputs": [],
   "source": [
    "if bool_plot==True:\n",
    "    plot_violin_marker(adata_adip, dc_markers, save=\"_preadipocytes_cells_dc_markers\")"
   ]
  },
  {
   "cell_type": "markdown",
   "metadata": {},
   "source": [
    "Clusters 0,5,7,8,9 express dendritic cell markers, in line with myeloid marker gene expression, cluster 0,7 could be a non-myeloid dendritic cell."
   ]
  },
  {
   "cell_type": "markdown",
   "metadata": {},
   "source": [
    "### B-cell markers:"
   ]
  },
  {
   "cell_type": "code",
   "execution_count": 48,
   "metadata": {
    "scrolled": true
   },
   "outputs": [],
   "source": [
    "if bool_plot==True:\n",
    "    plot_violin_marker(adata_adip, bc_markers, save=\"_preadipocytes_cells_bc_markers\")"
   ]
  },
  {
   "cell_type": "markdown",
   "metadata": {},
   "source": [
    "Cluster 0 may contain B-cells."
   ]
  },
  {
   "cell_type": "markdown",
   "metadata": {},
   "source": [
    "## Marker gene sets"
   ]
  },
  {
   "cell_type": "code",
   "execution_count": 49,
   "metadata": {
    "scrolled": false
   },
   "outputs": [],
   "source": [
    "if bool_plot==True:\n",
    "    plot_tsne_marker(adata_adip, adipocyte_markers, size=20, save=\"_preadipocytes_cells_adipocyte_markers\", use_raw=False)"
   ]
  },
  {
   "cell_type": "markdown",
   "metadata": {},
   "source": [
    "# Non-preadipocytes only"
   ]
  },
  {
   "cell_type": "markdown",
   "metadata": {},
   "source": [
    "## Embedding and clustering"
   ]
  },
  {
   "cell_type": "code",
   "execution_count": 50,
   "metadata": {},
   "outputs": [
    {
     "name": "stderr",
     "output_type": "stream",
     "text": [
      "running PAGA\n",
      "    finished: added\n",
      "    'paga/connectivities', connectivities adjacency (adata.uns)\n",
      "    'paga/connectivities_tree', connectivities subtree (adata.uns) (0:00:01)\n"
     ]
    }
   ],
   "source": [
    "if bool_recomp==True:\n",
    "    cell_ids_imun = np.asarray(adata_proc.obs_names)[[x in ['1','2','3','4','7','8','9','10','11','12','13'] \n",
    "                                                      for x in np.asarray(adata_proc.obs['leiden'].values)]]\n",
    "    adata_imun = adata_raw[cell_ids_imun,:].copy()\n",
    "    sc.pp.normalize_per_cell(adata_imun)\n",
    "    adata_imun.raw = adata_imun.copy()\n",
    "    sc.pp.log1p(adata_imun)\n",
    "    sc.pp.pca(adata_imun, n_comps=50, random_state=0, svd_solver='arpack')\n",
    "    sc.pp.neighbors(adata_imun, n_neighbors=100, knn=True, method='umap', n_pcs=50, random_state=0)\n",
    "    sc.tl.tsne(adata_imun, n_jobs=3)\n",
    "    if bool_recluster==True:\n",
    "        sc.tl.leiden(adata_imun, resolution=0.5)#, flavor='vtraag', random_state=0)\n",
    "        pandas.DataFrame(adata_imun.obs).to_csv(\n",
    "            path_or_buf=sc_settings_writedir+\"obs_adata_imun.csv\")\n",
    "    else:\n",
    "        obs = pandas.read_csv(sc_settings_writedir+'obs_adata_imun.csv')\n",
    "        adata_imun.obs['leiden'] = pandas.Series(obs['leiden'].values, dtype='category')\n",
    "    sc.write(sc_settings_writedir+'adata_imun.h5ad', adata_imun)\n",
    "else:\n",
    "    adata_imun = sc.read(sc_settings_writedir+'adata_imun.h5ad')\n",
    "sc.tl.paga(adata_imun)"
   ]
  },
  {
   "cell_type": "code",
   "execution_count": 51,
   "metadata": {},
   "outputs": [],
   "source": [
    "if bool_plot==True:\n",
    "    sc.pl.tsne(adata_imun, color=['batch_type'], size=20, save=\"_nonpreadipo_batch.pdf\")\n",
    "    sc.pl.tsne(adata_imun, color=['leiden'], size=20, save=\"_nonpreadip_leiden.pdf\")\n",
    "    sc.pl.tsne(adata_imun, color=['n_counts'], size=20, save=\"_nonpreadip_n_counts.pdf\")"
   ]
  },
  {
   "cell_type": "markdown",
   "metadata": {},
   "source": [
    "Fairly equal count depth across preadipocytes. Potential batch effect or age effect, indistinguishable in this scenario."
   ]
  },
  {
   "cell_type": "code",
   "execution_count": 52,
   "metadata": {
    "scrolled": true
   },
   "outputs": [],
   "source": [
    "if bool_plot==True:\n",
    "    sc.pl.paga(adata_imun, save=\"_preadip.pdf\")"
   ]
  },
  {
   "cell_type": "code",
   "execution_count": 53,
   "metadata": {},
   "outputs": [],
   "source": [
    "if bool_plot==True:\n",
    "    plot_violin_marker(adata_imun, ['Igf2'], save=\"_preadipocytes_cells_bc_markers\", use_raw=False)"
   ]
  },
  {
   "cell_type": "markdown",
   "metadata": {},
   "source": [
    "# Preadipocytes only by SCF"
   ]
  },
  {
   "cell_type": "markdown",
   "metadata": {},
   "source": [
    "## Embedding and clustering"
   ]
  },
  {
   "cell_type": "markdown",
   "metadata": {},
   "source": [
    "### SCF-2"
   ]
  },
  {
   "cell_type": "code",
   "execution_count": 54,
   "metadata": {
    "scrolled": false
   },
   "outputs": [
    {
     "name": "stderr",
     "output_type": "stream",
     "text": [
      "running PAGA\n",
      "    finished: added\n",
      "    'paga/connectivities', connectivities adjacency (adata.uns)\n",
      "    'paga/connectivities_tree', connectivities subtree (adata.uns) (0:00:00)\n"
     ]
    }
   ],
   "source": [
    "if bool_recomp==True:\n",
    "    cell_ids_adip_young = np.asarray(adata_proc.obs_names)[\n",
    "        np.logical_and(np.asarray([x in ['0','5','6']\n",
    "                                   for x in np.asarray(adata_proc.obs['leiden'].values)]),\n",
    "                       np.asarray([x=='SCF-2'\n",
    "                                   for x in np.asarray(adata_proc.obs['batch_type'].values)]))]\n",
    "    adata_adip_young = adata_raw[cell_ids_adip_young,:].copy()\n",
    "    #sc.pp.filter_cells(adata_adip_young, min_counts=500)\n",
    "    sc.pp.normalize_per_cell(adata_adip_young)\n",
    "    adata_adip_young.raw = adata_adip_young.copy()\n",
    "    sc.pp.log1p(adata_adip_young)\n",
    "    sc.pp.pca(adata_adip_young, n_comps=50, random_state=0, svd_solver='arpack')\n",
    "    sc.pp.neighbors(adata_adip_young, n_neighbors=100, knn=True, method='umap', n_pcs=50, random_state=0)\n",
    "    sc.tl.tsne(adata_adip_young, n_jobs=3)\n",
    "    if bool_recluster==True:\n",
    "        sc.tl.leiden(adata_adip_young, resolution=0.5)#, flavor='vtraag', random_state=0)\n",
    "        pandas.DataFrame(adata_adip_young.obs).to_csv(\n",
    "            path_or_buf =sc_settings_writedir+\"obs_adata_adip_young.csv\")\n",
    "    else:\n",
    "        obs = pandas.read_csv(sc_settings_writedir+'obs_adata_adip_young.csv')\n",
    "        adata_adip_young.obs['leiden'] = pandas.Series(obs['leiden'].values, dtype='category')\n",
    "    sc.write(sc_settings_writedir+'adata_adip_young.h5ad', adata_adip_young)\n",
    "else:\n",
    "    adata_adip_young = sc.read(sc_settings_writedir+'adata_adip_young.h5ad')\n",
    "sc.tl.paga(adata_adip_young)"
   ]
  },
  {
   "cell_type": "code",
   "execution_count": 55,
   "metadata": {
    "scrolled": false
   },
   "outputs": [],
   "source": [
    "if bool_plot==True:\n",
    "    sc.pl.tsne(adata_adip_young, color=['leiden'], size=20, save=\"_preadipYoung_leiden.pdf\")\n",
    "    sc.pl.tsne(adata_adip_young, color=['n_counts'], size=20, save=\"_preadipYoung_n_counts.pdf\")\n",
    "    sc.pl.paga(adata_adip_young, save=\"_preadipYoung.pdf\")"
   ]
  },
  {
   "cell_type": "markdown",
   "metadata": {},
   "source": [
    "Number of preadipocytes observed in young mouse with scRNAseq:"
   ]
  },
  {
   "cell_type": "code",
   "execution_count": 56,
   "metadata": {},
   "outputs": [
    {
     "name": "stdout",
     "output_type": "stream",
     "text": [
      "1648\n"
     ]
    }
   ],
   "source": [
    "print(adata_adip_young.X.shape[0])"
   ]
  },
  {
   "cell_type": "markdown",
   "metadata": {},
   "source": [
    "### SCF-2 - coarse clustering"
   ]
  },
  {
   "cell_type": "code",
   "execution_count": 57,
   "metadata": {},
   "outputs": [
    {
     "name": "stderr",
     "output_type": "stream",
     "text": [
      "running Leiden clustering\n",
      "    finished: found 2 clusters and added\n",
      "    'leiden', the cluster labels (adata.obs, categorical) (0:00:00)\n"
     ]
    }
   ],
   "source": [
    "adata_adip_young_lowres = adata_adip_young.copy()\n",
    "if True:\n",
    "    if True:\n",
    "        sc.tl.leiden(adata_adip_young_lowres, resolution=0.2)#, flavor='vtraag', random_state=0)\n",
    "        pandas.DataFrame(adata_adip_young_lowres.obs).to_csv(\n",
    "            path_or_buf =sc_settings_writedir+\"obs_adata_adip_young_lowres.csv\")\n",
    "    else:\n",
    "        obs = pandas.read_csv(sc_settings_writedir+'obs_adata_adip_young_lowres.csv')\n",
    "        adata_adip_young_lowres.obs['leiden'] = pandas.Series(obs['leiden'].values, dtype='category')"
   ]
  },
  {
   "cell_type": "code",
   "execution_count": 58,
   "metadata": {},
   "outputs": [],
   "source": [
    "if bool_plot==True:\n",
    "    sc.pl.tsne(adata_adip_young_lowres, color=['leiden'], size=20, save=\"_preadipYoung_leiden_lowres.pdf\")"
   ]
  },
  {
   "cell_type": "code",
   "execution_count": 59,
   "metadata": {},
   "outputs": [
    {
     "data": {
      "text/plain": [
       "0    1117\n",
       "1     531\n",
       "Name: leiden, dtype: int64"
      ]
     },
     "execution_count": 59,
     "metadata": {},
     "output_type": "execute_result"
    }
   ],
   "source": [
    "adata_adip_young_lowres.obs['leiden'].value_counts()"
   ]
  },
  {
   "cell_type": "markdown",
   "metadata": {},
   "source": [
    "### SCF-8"
   ]
  },
  {
   "cell_type": "code",
   "execution_count": 60,
   "metadata": {
    "scrolled": false
   },
   "outputs": [
    {
     "name": "stderr",
     "output_type": "stream",
     "text": [
      "running PAGA\n",
      "    finished: added\n",
      "    'paga/connectivities', connectivities adjacency (adata.uns)\n",
      "    'paga/connectivities_tree', connectivities subtree (adata.uns) (0:00:00)\n"
     ]
    }
   ],
   "source": [
    "if bool_recomp==True:\n",
    "    cell_ids_adip_old = np.asarray(adata_proc.obs_names)[\n",
    "        np.logical_and(np.asarray([x in ['0','5','6']\n",
    "                                   for x in np.asarray(adata_proc.obs['leiden'].values)]),\n",
    "                       np.asarray([x=='SCF-8'\n",
    "                                   for x in np.asarray(adata_proc.obs['batch_type'].values)]))]\n",
    "    adata_adip_old = adata_raw[cell_ids_adip_old,:].copy()\n",
    "    sc.pp.filter_cells(adata_adip_old, min_counts=500)\n",
    "    sc.pp.normalize_per_cell(adata_adip_old)\n",
    "    adata_adip_old.raw = adata_adip_old.copy()\n",
    "    sc.pp.log1p(adata_adip_old)\n",
    "    sc.pp.pca(adata_adip_old, n_comps=50, random_state=0, svd_solver='arpack')\n",
    "    sc.pp.neighbors(adata_adip_old, n_neighbors=50, knn=True, method='umap', n_pcs=50, random_state=0)\n",
    "    sc.tl.tsne(adata_adip_old, n_jobs=3)\n",
    "    if bool_recluster==True:\n",
    "        sc.tl.leiden(adata_adip_old, resolution=0.5)#, flavor='vtraag', random_state=0)\n",
    "        pandas.DataFrame(adata_adip_old.obs).to_csv(\n",
    "            path_or_buf =sc_settings_writedir+\"obs_adata_adip_old.csv\")\n",
    "    else:\n",
    "        obs = pandas.read_csv(sc_settings_writedir+'obs_adata_adip_old.csv')\n",
    "        adata_adip_old.obs['leiden'] = pandas.Series(obs['leiden'].values, dtype='category')\n",
    "    sc.write(sc_settings_writedir+'adata_adip_old.h5ad', adata_adip_old)\n",
    "else:\n",
    "    adata_adip_old = sc.read(sc_settings_writedir+'adata_adip_old.h5ad')\n",
    "sc.tl.paga(adata_adip_old)"
   ]
  },
  {
   "cell_type": "code",
   "execution_count": 61,
   "metadata": {
    "scrolled": false
   },
   "outputs": [],
   "source": [
    "if bool_plot==True:\n",
    "    sc.pl.tsne(adata_adip_old, color=['leiden'], size=20, save=\"_preadipOld_leiden.pdf\")\n",
    "    sc.pl.tsne(adata_adip_old, color=['n_counts'], size=20, save=\"_preadipOld_n_counts.pdf\")\n",
    "    sc.pl.paga(adata_adip_old, save=\"_preadipOld.pdf\")"
   ]
  },
  {
   "cell_type": "markdown",
   "metadata": {},
   "source": [
    "Number of preadipocytes observed in old mouse with scRNAseq:"
   ]
  },
  {
   "cell_type": "code",
   "execution_count": 62,
   "metadata": {},
   "outputs": [
    {
     "name": "stdout",
     "output_type": "stream",
     "text": [
      "1409\n"
     ]
    }
   ],
   "source": [
    "print(adata_adip_old.X.shape[0])"
   ]
  },
  {
   "cell_type": "markdown",
   "metadata": {},
   "source": [
    "## Marker gene sets"
   ]
  },
  {
   "cell_type": "markdown",
   "metadata": {},
   "source": [
    "### SCF-2"
   ]
  },
  {
   "cell_type": "code",
   "execution_count": 63,
   "metadata": {},
   "outputs": [],
   "source": [
    "adipocyte_markers=['Pdgfra','Slc7a10','Pparg','Fermt2','Fbn1','Col4a1','Itgb1','Cd34','Cd24a','Dlk1','Srr','Fabp4','Dpp4','Igf2']"
   ]
  },
  {
   "cell_type": "code",
   "execution_count": 64,
   "metadata": {
    "scrolled": true
   },
   "outputs": [],
   "source": [
    "if bool_plot==True:\n",
    "    plot_violin_marker(adata_adip_young, adipocyte_markers, save=\"_preadipYoung_adipocyte_markers\", use_raw=False)"
   ]
  },
  {
   "cell_type": "code",
   "execution_count": 65,
   "metadata": {
    "scrolled": true
   },
   "outputs": [],
   "source": [
    "if bool_plot==True:\n",
    "    plot_violin_marker(adata_adip_young, go_adip_dev, save=\"_preadipYoung_GO_adipocyte_dev_markers\", use_raw=False)"
   ]
  },
  {
   "cell_type": "code",
   "execution_count": 66,
   "metadata": {
    "scrolled": false
   },
   "outputs": [],
   "source": [
    "if bool_plot==True:\n",
    "    plot_tsne_marker(adata_adip_young, adipocyte_markers, size=20, save=\"_preadipYoung_cells_adipocyte_markers\", use_raw=False)"
   ]
  },
  {
   "cell_type": "code",
   "execution_count": 67,
   "metadata": {
    "scrolled": true
   },
   "outputs": [],
   "source": [
    "if bool_plot==True:\n",
    "    plot_tsne_marker(adata_adip_young, go_adip_dev, size=20, save=\"_preadipYoung_cells_GO_adipocyte_dev_markers\", use_raw=False)"
   ]
  },
  {
   "cell_type": "code",
   "execution_count": 68,
   "metadata": {},
   "outputs": [],
   "source": [
    "if bool_plot==True:\n",
    "    sc.pl.heatmap(\n",
    "        adata=adata_adip_young, \n",
    "        var_names=adipocyte_markers, \n",
    "        groupby=\"leiden\", \n",
    "        use_raw=True, \n",
    "        log=True, \n",
    "        cmap=\"viridis\",\n",
    "        vmin=-1,\n",
    "        vmax=4,\n",
    "        dendrogram=False, \n",
    "        var_group_rotation=90, \n",
    "        show_gene_labels=True, \n",
    "        show=True, \n",
    "        save=\"_preadipYoung_markers_preadipocytes.pdf\"\n",
    "    )"
   ]
  },
  {
   "cell_type": "code",
   "execution_count": 69,
   "metadata": {
    "scrolled": true
   },
   "outputs": [],
   "source": [
    "\n",
    "if bool_plot==True:\n",
    "    sc.pl.heatmap(\n",
    "        adata=adata_adip_young, \n",
    "        var_names=go_adip_dev, \n",
    "        groupby=\"leiden\", \n",
    "        use_raw=True, \n",
    "        log=True, \n",
    "        cmap=\"viridis\",\n",
    "        vmin=-1,\n",
    "        vmax=2,\n",
    "        dendrogram=False, \n",
    "        var_group_rotation=90, \n",
    "        show_gene_labels=True, \n",
    "        show=True, \n",
    "        save=\"_preadipYoung_markers_GO_adipocyte_dev.pdf\"\n",
    "    )"
   ]
  },
  {
   "cell_type": "code",
   "execution_count": 70,
   "metadata": {
    "scrolled": true
   },
   "outputs": [
    {
     "data": {
      "text/plain": [
       "[{'mean expression of Igf2 in leiden group 0': 0.7055549},\n",
       " {'mean expression of Igf2 in leiden group 1': 0.4558921},\n",
       " {'mean expression of Igf2 in leiden group 2': 0.7972599}]"
      ]
     },
     "execution_count": 70,
     "metadata": {},
     "output_type": "execute_result"
    }
   ],
   "source": [
    "[{'mean expression of Igf2 in leiden group '+x:\n",
    "  np.mean(adata_adip_young[adata_adip_young.obs['leiden'].values==x,:][:,'Igf2'].X)} \n",
    " for x in adata_adip_young.obs['leiden'].cat.categories.values]"
   ]
  },
  {
   "cell_type": "markdown",
   "metadata": {},
   "source": [
    "This seems to be a continuum of cell types with two opposing gradients of gene expression: Pdgfra and Slc7a10. This could indicate a developmental lineage."
   ]
  },
  {
   "cell_type": "markdown",
   "metadata": {},
   "source": [
    "### SCF-2 - coarse clustering"
   ]
  },
  {
   "cell_type": "code",
   "execution_count": 71,
   "metadata": {
    "scrolled": false
   },
   "outputs": [],
   "source": [
    "if bool_plot==True:\n",
    "    plot_violin_marker(adata_adip_young_lowres, adipocyte_markers, save=\"_preadipYoung_lowres_adipocyte_markers\")"
   ]
  },
  {
   "cell_type": "code",
   "execution_count": 72,
   "metadata": {
    "scrolled": false
   },
   "outputs": [],
   "source": [
    "if bool_plot==True:\n",
    "    plot_violin_marker(adata_adip_young_lowres, go_adip_dev, save=\"_preadipYoung_lowres_GO_adipocyte_dev_markers\")"
   ]
  },
  {
   "cell_type": "code",
   "execution_count": 73,
   "metadata": {},
   "outputs": [],
   "source": [
    "if bool_plot==True:\n",
    "    sc.pl.heatmap(\n",
    "        adata=adata_adip_young_lowres, \n",
    "        var_names=adipocyte_markers, \n",
    "        groupby=\"leiden\", \n",
    "        use_raw=True, \n",
    "        log=True, \n",
    "        dendrogram=False, \n",
    "        var_group_rotation=90, \n",
    "        show_gene_labels=True, \n",
    "        show=True, \n",
    "        save=\"_preadipYoung_lowres_markers_preadipocytes.pdf\"\n",
    "    )"
   ]
  },
  {
   "cell_type": "code",
   "execution_count": 74,
   "metadata": {
    "scrolled": true
   },
   "outputs": [],
   "source": [
    "if bool_plot==True:\n",
    "    sc.pl.heatmap(\n",
    "        adata=adata_adip_young_lowres, \n",
    "        var_names=go_adip_dev, \n",
    "        groupby=\"leiden\", \n",
    "        use_raw=True, \n",
    "        log=True, \n",
    "        dendrogram=False, \n",
    "        var_group_rotation=90, \n",
    "        show_gene_labels=True, \n",
    "        show=True, \n",
    "        save=\"_preadipYoung_lowres_markers_GO_adipocyte_dev.pdf\"\n",
    "    )"
   ]
  },
  {
   "cell_type": "markdown",
   "metadata": {},
   "source": [
    "### SCF-8"
   ]
  },
  {
   "cell_type": "code",
   "execution_count": 75,
   "metadata": {
    "scrolled": true
   },
   "outputs": [],
   "source": [
    "if bool_plot==True:\n",
    "    plot_violin_marker(adata_adip_old, adipocyte_markers, save=\"_preadipOld_adipocyte_markers\")"
   ]
  },
  {
   "cell_type": "code",
   "execution_count": 76,
   "metadata": {},
   "outputs": [],
   "source": [
    "if bool_plot==True:\n",
    "    plot_violin_marker(adata_adip_old, go_adip_dev, save=\"_preadipOld_GO_adipocyte_dev_markers\")"
   ]
  },
  {
   "cell_type": "code",
   "execution_count": 77,
   "metadata": {
    "scrolled": true
   },
   "outputs": [],
   "source": [
    "if bool_plot==True:\n",
    "    plot_tsne_marker(adata_adip_old, adipocyte_markers, size=10, save=\"_preadipOld_adipocyte_markers\")"
   ]
  },
  {
   "cell_type": "code",
   "execution_count": 78,
   "metadata": {
    "scrolled": true
   },
   "outputs": [],
   "source": [
    "if bool_plot==True:\n",
    "    plot_tsne_marker(adata_adip_old, go_adip_dev, size=10, save=\"_preadipOld_GO_adipocyte_dev_markers\")"
   ]
  },
  {
   "cell_type": "code",
   "execution_count": 79,
   "metadata": {},
   "outputs": [],
   "source": [
    "if bool_plot==True:\n",
    "    sc.pl.heatmap(\n",
    "        adata=adata_adip_old, \n",
    "        var_names=adipocyte_markers, \n",
    "        groupby=\"leiden\", \n",
    "        use_raw=True, \n",
    "        log=True, \n",
    "        dendrogram=False, \n",
    "        var_group_rotation=90, \n",
    "        show_gene_labels=True, \n",
    "        show=True, \n",
    "        save=\"_preadipOld_markers_preadipocytes.pdf\"\n",
    "    )"
   ]
  },
  {
   "cell_type": "code",
   "execution_count": 80,
   "metadata": {
    "scrolled": true
   },
   "outputs": [],
   "source": [
    "if bool_plot==True:\n",
    "    sc.pl.heatmap(\n",
    "        adata=adata_adip_old, \n",
    "        var_names=go_adip_dev, \n",
    "        groupby=\"leiden\", \n",
    "        use_raw=True, \n",
    "        log=True, \n",
    "        dendrogram=False, \n",
    "        var_group_rotation=90, \n",
    "        show_gene_labels=True, \n",
    "        show=True, \n",
    "        save=\"_preadipOld_markers_GO_adipocyte_dev.pdf\"\n",
    "    )"
   ]
  },
  {
   "cell_type": "markdown",
   "metadata": {},
   "source": [
    "This looks like there are two clusters, one consisting of leiden group 0,4 (Pdgfra-Slc7a10-) and one of group 1,2,3,5 (Pdgfra+Slc7a10-)."
   ]
  },
  {
   "cell_type": "markdown",
   "metadata": {},
   "source": [
    "# Differential expression analysis"
   ]
  },
  {
   "cell_type": "markdown",
   "metadata": {},
   "source": [
    "## By BAT"
   ]
  },
  {
   "cell_type": "code",
   "execution_count": 81,
   "metadata": {},
   "outputs": [],
   "source": [
    "cell_ids_bat = np.asarray(adata_proc.obs_names)[\n",
    "        np.logical_and(np.asarray([x in ['3','4','5','7','10']\n",
    "                                   for x in np.asarray(adata_proc.obs['leiden'].values)]),\n",
    "                       np.asarray([x=='BAT'\n",
    "                                   for x in np.asarray(adata_proc.obs['tissue_type'].values)]))]\n",
    "adata_bat = adata_raw[cell_ids_bat,:].copy()\n",
    "if bool_plot==True:\n",
    "    adata_bat.obs"
   ]
  },
  {
   "cell_type": "code",
   "execution_count": 82,
   "metadata": {
    "scrolled": false
   },
   "outputs": [],
   "source": [
    "dets_bat = de.test.t_test(\n",
    "    data=adata_bat, \n",
    "    sample_description=adata_bat.obs, \n",
    "    grouping=\"age_type\", \n",
    "    is_logged=False\n",
    ")"
   ]
  },
  {
   "cell_type": "markdown",
   "metadata": {},
   "source": [
    "The differentially expressed genes with some fold-change and mean expression thresholding are:"
   ]
  },
  {
   "cell_type": "code",
   "execution_count": 83,
   "metadata": {
    "scrolled": false
   },
   "outputs": [],
   "source": [
    "dets_bat_summary = dets_bat.summary(\n",
    "    mean_thres=np.log(0.01), qval_thres=0.05, \n",
    "    fc_lower_thres=0.5, fc_upper_thres=2\n",
    ")\n",
    "dets_bat_summary.to_csv(path_or_buf=dir_tables+\"DE_preadip_by_bat.csv\", sep=\"\\t\")\n",
    "if bool_plot==True:\n",
    "    dets_bat_summary"
   ]
  },
  {
   "cell_type": "code",
   "execution_count": 84,
   "metadata": {
    "scrolled": false
   },
   "outputs": [],
   "source": [
    "if bool_plot==True:\n",
    "    dets_bat.plot_volcano(\n",
    "        alpha=0.01, min_fc=1.5, size=15, log10_p_threshold=-50, log2_fc_threshold=7,\n",
    "        highlight_ids=['Igf2'], highlight_size=30, highlight_col=\"red\",\n",
    "        save=sc_settings_figdir+\"preadip_DE_bat\", suffix=\"_volcano.pdf\"\n",
    "    )"
   ]
  },
  {
   "cell_type": "code",
   "execution_count": 85,
   "metadata": {
    "scrolled": true
   },
   "outputs": [],
   "source": [
    "if bool_plot==True:\n",
    "    dets_bat.plot_ma(\n",
    "        alpha=0.01, log2_fc_threshold=6,\n",
    "        highlight_ids=['Igf2'], highlight_size=30, highlight_col=\"red\",\n",
    "        save=sc_settings_figdir+\"preadip_DE_bat\", suffix=\"_ma_plot.pdf\"\n",
    "    )"
   ]
  },
  {
   "cell_type": "markdown",
   "metadata": {},
   "source": [
    "Count DE genes:"
   ]
  },
  {
   "cell_type": "code",
   "execution_count": 86,
   "metadata": {},
   "outputs": [
    {
     "data": {
      "text/plain": [
       "3583"
      ]
     },
     "execution_count": 86,
     "metadata": {},
     "output_type": "execute_result"
    }
   ],
   "source": [
    "np.sum(np.array([x < 0.01 if x is not np.nan else False for x in dets_bat.qval]))"
   ]
  },
  {
   "cell_type": "markdown",
   "metadata": {},
   "source": [
    "## By SCF"
   ]
  },
  {
   "cell_type": "code",
   "execution_count": 87,
   "metadata": {},
   "outputs": [],
   "source": [
    "cell_ids_scf = np.asarray(adata_proc.obs_names)[\n",
    "        np.logical_and(np.asarray([x in ['3','4','5','7','10']\n",
    "                                   for x in np.asarray(adata_proc.obs['leiden'].values)]),\n",
    "                       np.asarray([x=='SCF'\n",
    "                                   for x in np.asarray(adata_proc.obs['tissue_type'].values)]))]\n",
    "adata_scf = adata_raw[cell_ids_scf,:].copy()"
   ]
  },
  {
   "cell_type": "code",
   "execution_count": 88,
   "metadata": {
    "scrolled": false
   },
   "outputs": [],
   "source": [
    "dets_scf = de.test.t_test(\n",
    "    data=adata_scf, \n",
    "    sample_description=adata_scf.obs, \n",
    "    grouping=\"age_type\", \n",
    "    is_logged=False\n",
    ")"
   ]
  },
  {
   "cell_type": "markdown",
   "metadata": {},
   "source": [
    "The differentially expressed genes with some fold-change and mean expression thresholding are:"
   ]
  },
  {
   "cell_type": "code",
   "execution_count": 89,
   "metadata": {
    "scrolled": false
   },
   "outputs": [],
   "source": [
    "dets_scf_summary = dets_scf.summary(\n",
    "    mean_thres=np.log(0.01), qval_thres=0.05, \n",
    "    fc_lower_thres=0.5, fc_upper_thres=2\n",
    ")\n",
    "dets_scf_summary.to_csv(path_or_buf=dir_tables+\"DE_preadip_by_scf.csv\", sep=\"\\t\")\n",
    "if bool_plot==True:\n",
    "    dets_scf_summary"
   ]
  },
  {
   "cell_type": "code",
   "execution_count": 90,
   "metadata": {
    "scrolled": false
   },
   "outputs": [],
   "source": [
    "if bool_plot==True:\n",
    "    dets_scf.plot_volcano(\n",
    "        alpha=0.01, min_fc=1.5, size=15, log10_p_threshold=-50, log2_fc_threshold=7,\n",
    "        highlight_ids=['Igf2'], highlight_size=30, highlight_col=\"red\",\n",
    "        save=sc_settings_figdir+\"preadip_DE_scf\", suffix=\"_volcano.pdf\"\n",
    "    )"
   ]
  },
  {
   "cell_type": "code",
   "execution_count": 91,
   "metadata": {
    "scrolled": true
   },
   "outputs": [],
   "source": [
    "if bool_plot==True:\n",
    "    dets_scf.plot_ma(\n",
    "        alpha=0.01, log2_fc_threshold=6,\n",
    "        highlight_ids=['Igf2'], highlight_size=30, highlight_col=\"red\",\n",
    "        save=sc_settings_figdir+\"preadip_DE_scf\", suffix=\"_ma_plot.pdf\"\n",
    "    )"
   ]
  },
  {
   "cell_type": "markdown",
   "metadata": {},
   "source": [
    "Count DE genes:"
   ]
  },
  {
   "cell_type": "code",
   "execution_count": 92,
   "metadata": {},
   "outputs": [
    {
     "data": {
      "text/plain": [
       "2441"
      ]
     },
     "execution_count": 92,
     "metadata": {},
     "output_type": "execute_result"
    }
   ],
   "source": [
    "np.sum(np.array([x < 0.01 if x is not np.nan else False for x in dets_scf.qval]))"
   ]
  },
  {
   "cell_type": "markdown",
   "metadata": {},
   "source": [
    "## By PGF"
   ]
  },
  {
   "cell_type": "code",
   "execution_count": 93,
   "metadata": {},
   "outputs": [],
   "source": [
    "cell_ids_pgf = np.asarray(adata_proc.obs_names)[\n",
    "        np.logical_and(np.asarray([x in ['3','4','5','7','10']\n",
    "                                   for x in np.asarray(adata_proc.obs['leiden'].values)]),\n",
    "                       np.asarray([x=='PGF'\n",
    "                                   for x in np.asarray(adata_proc.obs['tissue_type'].values)]))]\n",
    "adata_pgf = adata_raw[cell_ids_pgf,:].copy()\n",
    "if bool_plot==True:\n",
    "    adata_pgf.obs"
   ]
  },
  {
   "cell_type": "code",
   "execution_count": 94,
   "metadata": {
    "scrolled": false
   },
   "outputs": [],
   "source": [
    "dets_pgf = de.test.t_test(\n",
    "    data=adata_pgf, \n",
    "    sample_description=adata_pgf.obs, \n",
    "    grouping=\"age_type\", \n",
    "    is_logged=False\n",
    ")"
   ]
  },
  {
   "cell_type": "markdown",
   "metadata": {},
   "source": [
    "The differentially expressed genes with some fold-change and mean expression thresholding are:"
   ]
  },
  {
   "cell_type": "code",
   "execution_count": 95,
   "metadata": {
    "scrolled": false
   },
   "outputs": [],
   "source": [
    "dets_pgf_summary = dets_pgf.summary(\n",
    "    mean_thres=np.log(0.01), qval_thres=0.05, \n",
    "    fc_lower_thres=0.5, fc_upper_thres=2\n",
    ")\n",
    "dets_pgf_summary.to_csv(path_or_buf=dir_tables+\"DE_preadip_by_pgf.csv\", sep=\"\\t\")\n",
    "if bool_plot==True:\n",
    "    dets_pgf_summary"
   ]
  },
  {
   "cell_type": "code",
   "execution_count": 96,
   "metadata": {
    "scrolled": false
   },
   "outputs": [],
   "source": [
    "if bool_plot==True:\n",
    "    dets_pgf.plot_volcano(\n",
    "        alpha=0.01, min_fc=1.5, size=15, log10_p_threshold=-50, log2_fc_threshold=7,\n",
    "        highlight_ids=['Igf2'], highlight_size=30, highlight_col=\"red\",\n",
    "        save=sc_settings_figdir+\"preadip_DE_pgf\", suffix=\"_volcano.pdf\"\n",
    "    )"
   ]
  },
  {
   "cell_type": "code",
   "execution_count": 97,
   "metadata": {
    "scrolled": true
   },
   "outputs": [],
   "source": [
    "if bool_plot==True:\n",
    "    dets_pgf.plot_ma(\n",
    "        alpha=0.01, log2_fc_threshold=6,\n",
    "        highlight_ids=['Igf2'], highlight_size=30, highlight_col=\"red\",\n",
    "        save=sc_settings_figdir+\"preadip_DE_pgf\", suffix=\"_ma_plot.pdf\"\n",
    "    )"
   ]
  },
  {
   "cell_type": "markdown",
   "metadata": {},
   "source": [
    "Count DE genes:"
   ]
  },
  {
   "cell_type": "code",
   "execution_count": 98,
   "metadata": {},
   "outputs": [
    {
     "data": {
      "text/plain": [
       "13274"
      ]
     },
     "execution_count": 98,
     "metadata": {},
     "output_type": "execute_result"
    }
   ],
   "source": [
    "np.sum(np.array([x < 0.01 if x is not np.nan else False for x in dets_pgf.qval]))"
   ]
  },
  {
   "cell_type": "markdown",
   "metadata": {},
   "source": [
    "## By leiden group"
   ]
  },
  {
   "cell_type": "markdown",
   "metadata": {},
   "source": [
    "### Coarse clustering"
   ]
  },
  {
   "cell_type": "markdown",
   "metadata": {},
   "source": [
    "#### Test"
   ]
  },
  {
   "cell_type": "markdown",
   "metadata": {},
   "source": [
    "Here, we perform a differential expression test across the coarse-grained louvain clustering which yielded two groups."
   ]
  },
  {
   "cell_type": "code",
   "execution_count": 99,
   "metadata": {
    "scrolled": false
   },
   "outputs": [],
   "source": [
    "dets_young_lowres_louvain = de.test.t_test(\n",
    "    data=adata_adip_young_lowres.raw, \n",
    "    sample_description=adata_adip_young_lowres.obs, \n",
    "    grouping=\"leiden\", \n",
    "    is_logged=False\n",
    ")"
   ]
  },
  {
   "cell_type": "markdown",
   "metadata": {},
   "source": [
    "The differentially expressed genes with some fold-change and mean expression thresholding are:"
   ]
  },
  {
   "cell_type": "code",
   "execution_count": 100,
   "metadata": {
    "scrolled": true
   },
   "outputs": [],
   "source": [
    "dets_young_lowres_louvain_summary = dets_young_lowres_louvain.summary(\n",
    "    mean_thres=np.log(0.01), qval_thres=0.05, \n",
    "    fc_lower_thres=0.5, fc_upper_thres=2\n",
    ")\n",
    "dets_young_lowres_louvain_summary.to_csv(path_or_buf=dir_tables+\"DE_preadipYoung_by_louvain_lowres.csv\", sep=\"\\t\")\n",
    "if bool_plot==True:\n",
    "    dets_young_lowres_louvain_summary"
   ]
  },
  {
   "cell_type": "code",
   "execution_count": 101,
   "metadata": {
    "scrolled": true
   },
   "outputs": [],
   "source": [
    "if bool_plot==True:\n",
    "    dets_young_lowres_louvain.plot_volcano(\n",
    "        alpha=0.01, min_fc=1.5, size=15, log10_p_threshold=-15, log2_fc_threshold=5,\n",
    "        highlight_ids=['Igf2'], highlight_size=30, highlight_col=\"red\",\n",
    "        save=sc_settings_figdir+\"preadipYoung_DE_louvain_lowres\", suffix=\"_volcano.pdf\"\n",
    "    )"
   ]
  },
  {
   "cell_type": "code",
   "execution_count": 102,
   "metadata": {
    "scrolled": true
   },
   "outputs": [],
   "source": [
    "if bool_plot==True:\n",
    "    dets_young_lowres_louvain.plot_ma(\n",
    "        alpha=0.01, log2_fc_threshold=5,\n",
    "        highlight_ids=['Igf2'], highlight_size=30, highlight_col=\"red\",\n",
    "        save=sc_settings_figdir+\"preadipYoung_DE_louvain_lowres\", suffix=\"_ma_plot.pdf\"\n",
    "    )"
   ]
  },
  {
   "cell_type": "markdown",
   "metadata": {},
   "source": [
    "Count DE genes:"
   ]
  },
  {
   "cell_type": "code",
   "execution_count": 103,
   "metadata": {},
   "outputs": [
    {
     "data": {
      "text/plain": [
       "2561"
      ]
     },
     "execution_count": 103,
     "metadata": {},
     "output_type": "execute_result"
    }
   ],
   "source": [
    "np.sum(np.array([x < 0.01 if x is not np.nan else False for x in dets_young_lowres_louvain.qval]))"
   ]
  },
  {
   "cell_type": "markdown",
   "metadata": {},
   "source": [
    "Save DE genes to file for enrichment:"
   ]
  },
  {
   "cell_type": "code",
   "execution_count": 104,
   "metadata": {},
   "outputs": [],
   "source": [
    "dets_young_lowres_louvain.summary(qval_thres=0.01)[\"gene\"].to_csv(dir_out+\"enrichment/de_genes_young_preadip.csv\", \n",
    "                                                                  index=False\n",
    ")"
   ]
  },
  {
   "cell_type": "markdown",
   "metadata": {},
   "source": [
    "## GO and KEGG enrichment analysis"
   ]
  },
  {
   "cell_type": "code",
   "execution_count": 105,
   "metadata": {},
   "outputs": [],
   "source": [
    "glist=dets_young_lowres_louvain_summary.loc[dets_young_lowres_louvain_summary['pval'] < 0.05]['gene'].squeeze().str.strip().tolist()"
   ]
  },
  {
   "cell_type": "code",
   "execution_count": 106,
   "metadata": {},
   "outputs": [],
   "source": [
    "enr_go = gseapy.enrichr(gene_list=glist,\n",
    "                     organism='Mouse',\n",
    "                     gene_sets='GO_Biological_Process_2018',\n",
    "                     description='pathway',\n",
    "                     cutoff = 0.5\n",
    ")\n",
    "enr_go.results[enr_go.results['Adjusted P-value']<0.05].to_csv(path_or_buf=dir_tables+\"GO_enrichment_young_lowres_louvain.csv\", sep=\"\\t\")\n",
    "if bool_plot==True:\n",
    "    enr_go.results[enr_go.results['Adjusted P-value']<0.05]"
   ]
  },
  {
   "cell_type": "code",
   "execution_count": 107,
   "metadata": {},
   "outputs": [],
   "source": [
    "if bool_plot==True:\n",
    "    gseapy.barplot(enr_go.res2d,\n",
    "                   title='GO Enrichment'\n",
    "    )"
   ]
  },
  {
   "cell_type": "code",
   "execution_count": 108,
   "metadata": {},
   "outputs": [],
   "source": [
    "enr_kegg = gseapy.enrichr(gene_list=glist,\n",
    "                        organism='Mouse',\n",
    "                        gene_sets='KEGG_2019_Mouse',\n",
    "                        description='pathway',\n",
    "                        cutoff = 0.5\n",
    ")\n",
    "enr_kegg.results[enr_kegg.results['Adjusted P-value']<0.05].to_csv(path_or_buf=dir_tables+\"KEGG_enrichment_young_lowres_louvain.csv\",\n",
    "                                                               sep=\"\\t\"\n",
    ")\n",
    "if bool_plot==True:\n",
    "    enr_kegg.results[enr_kegg.results['Adjusted P-value']<0.05]"
   ]
  },
  {
   "cell_type": "code",
   "execution_count": 109,
   "metadata": {},
   "outputs": [],
   "source": [
    "if bool_plot==True:\n",
    "    gseapy.barplot(enr_kegg.res2d,\n",
    "                   title='KEGG enrichment'\n",
    "    )"
   ]
  },
  {
   "cell_type": "markdown",
   "metadata": {},
   "source": [
    "### Gene comparison"
   ]
  },
  {
   "cell_type": "code",
   "execution_count": 110,
   "metadata": {},
   "outputs": [],
   "source": [
    "group1 = ['Igf2','Pparg','Adipoq','Fabp4','Cd34','Fgf21','Stat3','Fn1'] # ,'Col4a','Col6a'\n",
    "group2 = ['Cd55','Cd34','Fbn1','Anxa3','Mfap5','Timp2','Sparc','Cyr61','Klf2','Fabp4','Lpl','Wt1','Rbp1','Igf1',\n",
    "          'Col4a1','Col4a2','Col6a2','Fstl1','Icam1']# ,'Cd142'"
   ]
  },
  {
   "cell_type": "code",
   "execution_count": 111,
   "metadata": {},
   "outputs": [],
   "source": [
    "if bool_plot==True:\n",
    "    sc.pl.stacked_violin(\n",
    "                adata=adata_adip_young, \n",
    "                groupby='leiden',\n",
    "                var_names=group1, \n",
    "                save='_group1_scf_young', \n",
    "                figsize=(10,15),\n",
    "                swap_axes=True)\n",
    "    sc.pl.dotplot(\n",
    "                adata=adata_adip_young,\n",
    "                groupby='leiden',\n",
    "                var_names=group1, \n",
    "                save='_group1_scf_young')"
   ]
  },
  {
   "cell_type": "code",
   "execution_count": 112,
   "metadata": {},
   "outputs": [],
   "source": [
    "if bool_plot==True:\n",
    "    sc.pl.stacked_violin(\n",
    "                adata=adata_adip, \n",
    "                groupby='leiden',\n",
    "                var_names=group1, \n",
    "                save='_group1_all_preadip', \n",
    "                figsize=(10,15),\n",
    "                swap_axes=True)\n",
    "    sc.pl.dotplot(\n",
    "                adata=adata_adip,\n",
    "                groupby='leiden',\n",
    "                var_names=group1, \n",
    "                save='_group1_all_preadip')"
   ]
  },
  {
   "cell_type": "code",
   "execution_count": 113,
   "metadata": {},
   "outputs": [],
   "source": [
    "if bool_plot==True:\n",
    "    sc.pl.stacked_violin(adata=adata_adip, \n",
    "                         groupby='leiden',\n",
    "                         var_names=group2, \n",
    "                         save='_group2_all_preadip', \n",
    "                         figsize=(10,15),\n",
    "                         swap_axes=True\n",
    "    )\n",
    "    sc.pl.dotplot(adata=adata_adip,\n",
    "                  groupby='leiden',\n",
    "                  var_names=group2, \n",
    "                  save='_group2_all_preadip'\n",
    "    )"
   ]
  },
  {
   "cell_type": "markdown",
   "metadata": {},
   "source": [
    "#### Heatmaps"
   ]
  },
  {
   "cell_type": "markdown",
   "metadata": {},
   "source": [
    "Select all differentially expressed genes at a corrected p-value threshold of 0.01 and a minimal or maximal log2 fold change of 2 or 0.5 and a minimal mean expression of 0.5."
   ]
  },
  {
   "cell_type": "code",
   "execution_count": 114,
   "metadata": {
    "scrolled": true
   },
   "outputs": [],
   "source": [
    "dets_young_lowres_louvain_summary_forheatmap = dets_young_lowres_louvain.summary(\n",
    "    mean_thres=0.5, qval_thres=0.01, \n",
    "    fc_lower_thres=0.5, fc_upper_thres=2\n",
    ")"
   ]
  },
  {
   "cell_type": "code",
   "execution_count": 115,
   "metadata": {},
   "outputs": [],
   "source": [
    "all_de_genes_young_coarse = dets_young_lowres_louvain_summary_forheatmap['gene'].values[\n",
    "    np.argsort(dets_young_lowres_louvain_summary_forheatmap['log2fc'].values)\n",
    "]"
   ]
  },
  {
   "cell_type": "code",
   "execution_count": 116,
   "metadata": {},
   "outputs": [
    {
     "name": "stdout",
     "output_type": "stream",
     "text": [
      "253\n"
     ]
    }
   ],
   "source": [
    "print(len(all_de_genes_young_coarse))"
   ]
  },
  {
   "cell_type": "code",
   "execution_count": 117,
   "metadata": {
    "scrolled": false
   },
   "outputs": [],
   "source": [
    "if bool_plot==True:\n",
    "    sc.pl.heatmap(\n",
    "        adata=adata_adip_young_lowres, \n",
    "        var_names=all_de_genes_young_coarse, \n",
    "        groupby=\"leiden\", \n",
    "        use_raw=False, \n",
    "        log=False, \n",
    "        cmap=\"viridis\",\n",
    "        vmin=-1,\n",
    "        vmax=5,\n",
    "        dendrogram=False, \n",
    "        var_group_rotation=90, \n",
    "        show_gene_labels=True, \n",
    "        show=True, \n",
    "        save=\"_preadipYoung_lowres_all_de_genes.pdf\"\n",
    "    )"
   ]
  },
  {
   "cell_type": "code",
   "execution_count": null,
   "metadata": {},
   "outputs": [],
   "source": []
  },
  {
   "cell_type": "code",
   "execution_count": null,
   "metadata": {},
   "outputs": [],
   "source": []
  }
 ],
 "metadata": {
  "kernelspec": {
   "display_name": "Python 3",
   "language": "python",
   "name": "python3"
  },
  "language_info": {
   "codemirror_mode": {
    "name": "ipython",
    "version": 3
   },
   "file_extension": ".py",
   "mimetype": "text/x-python",
   "name": "python",
   "nbconvert_exporter": "python",
   "pygments_lexer": "ipython3",
   "version": "3.9.2"
  },
  "toc": {
   "base_numbering": 1,
   "nav_menu": {},
   "number_sections": true,
   "sideBar": true,
   "skip_h1_title": false,
   "title_cell": "Table of Contents",
   "title_sidebar": "Contents",
   "toc_cell": false,
   "toc_position": {
    "height": "calc(100% - 180px)",
    "left": "10px",
    "top": "150px",
    "width": "295.4px"
   },
   "toc_section_display": true,
   "toc_window_display": true
  }
 },
 "nbformat": 4,
 "nbformat_minor": 2
}
